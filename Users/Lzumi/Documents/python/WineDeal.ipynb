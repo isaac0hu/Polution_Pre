{
 "cells": [
  {
   "cell_type": "code",
   "execution_count": 2,
   "metadata": {},
   "outputs": [],
   "source": [
    "import pandas as pd\n",
    "import numpy as np\n",
    "import warnings\n",
    "warnings.filterwarnings('ignore') # 避免sklearn的一些警告"
   ]
  },
  {
   "cell_type": "markdown",
   "metadata": {},
   "source": [
    "# 读取数据"
   ]
  },
  {
   "cell_type": "code",
   "execution_count": 3,
   "metadata": {},
   "outputs": [],
   "source": [
    "pf = pd.read_excel(r\"C:\\Users\\Lzumi\\Desktop\\比赛相关\\污染源\\白酒行业参数一览表.xls\", sheet_name='总表',encodig='utf8')"
   ]
  },
  {
   "cell_type": "code",
   "execution_count": 4,
   "metadata": {},
   "outputs": [
    {
     "data": {
      "text/html": [
       "<div>\n",
       "<style scoped>\n",
       "    .dataframe tbody tr th:only-of-type {\n",
       "        vertical-align: middle;\n",
       "    }\n",
       "\n",
       "    .dataframe tbody tr th {\n",
       "        vertical-align: top;\n",
       "    }\n",
       "\n",
       "    .dataframe thead th {\n",
       "        text-align: right;\n",
       "    }\n",
       "</style>\n",
       "<table border=\"1\" class=\"dataframe\">\n",
       "  <thead>\n",
       "    <tr style=\"text-align: right;\">\n",
       "      <th></th>\n",
       "      <th>单位详细名称</th>\n",
       "      <th>行业名称1</th>\n",
       "      <th>行业代码1</th>\n",
       "      <th>工业总产值(当年价格)(千元)</th>\n",
       "      <th>用水量（万吨）</th>\n",
       "      <th>排水量（万吨）</th>\n",
       "      <th>是否进入污水处理厂</th>\n",
       "      <th>污染类别</th>\n",
       "      <th>原料名称</th>\n",
       "      <th>产品名称</th>\n",
       "      <th>...</th>\n",
       "      <th>污染治理设施实际运行参数二名称</th>\n",
       "      <th>污染治理设施实际运行参数二数值</th>\n",
       "      <th>污染治理设施实际运行参数三名称</th>\n",
       "      <th>污染治理设施实际运行参数三数值</th>\n",
       "      <th>污染物排放量</th>\n",
       "      <th>污染物排放量计量单位</th>\n",
       "      <th>K值计算结果</th>\n",
       "      <th>K值核算填报结果</th>\n",
       "      <th>是否有监测数据</th>\n",
       "      <th>监测法核算排放量（吨）</th>\n",
       "    </tr>\n",
       "  </thead>\n",
       "  <tbody>\n",
       "    <tr>\n",
       "      <th>0</th>\n",
       "      <td>永川区清泉酒厂</td>\n",
       "      <td>白酒制造</td>\n",
       "      <td>1512</td>\n",
       "      <td>20.0</td>\n",
       "      <td>0.007</td>\n",
       "      <td>0.0063</td>\n",
       "      <td>三教工业园区污水处理厂</td>\n",
       "      <td>废水</td>\n",
       "      <td>高粱、稻米等</td>\n",
       "      <td>清香型白酒</td>\n",
       "      <td>...</td>\n",
       "      <td>污水处理设施总额定功率</td>\n",
       "      <td>4千瓦</td>\n",
       "      <td>污水处理设施耗电量</td>\n",
       "      <td>1300千瓦时/年</td>\n",
       "      <td>0.000297</td>\n",
       "      <td>吨</td>\n",
       "      <td>1.0</td>\n",
       "      <td>1.0</td>\n",
       "      <td>/</td>\n",
       "      <td>NaN</td>\n",
       "    </tr>\n",
       "    <tr>\n",
       "      <th>1</th>\n",
       "      <td>永川区清泉酒厂</td>\n",
       "      <td>白酒制造</td>\n",
       "      <td>1512</td>\n",
       "      <td>20.0</td>\n",
       "      <td>0.007</td>\n",
       "      <td>0.0063</td>\n",
       "      <td>三教工业园区污水处理厂</td>\n",
       "      <td>废水</td>\n",
       "      <td>高粱、稻米等</td>\n",
       "      <td>清香型白酒</td>\n",
       "      <td>...</td>\n",
       "      <td>污水处理设施总额定功率</td>\n",
       "      <td>4千瓦</td>\n",
       "      <td>污水处理设施耗电量</td>\n",
       "      <td>1300千瓦时/年</td>\n",
       "      <td>0.000015</td>\n",
       "      <td>吨</td>\n",
       "      <td>1.0</td>\n",
       "      <td>1.0</td>\n",
       "      <td>/</td>\n",
       "      <td>NaN</td>\n",
       "    </tr>\n",
       "    <tr>\n",
       "      <th>2</th>\n",
       "      <td>永川区清泉酒厂</td>\n",
       "      <td>白酒制造</td>\n",
       "      <td>1512</td>\n",
       "      <td>20.0</td>\n",
       "      <td>0.007</td>\n",
       "      <td>0.0063</td>\n",
       "      <td>三教工业园区污水处理厂</td>\n",
       "      <td>废水</td>\n",
       "      <td>高粱、稻米等</td>\n",
       "      <td>清香型白酒</td>\n",
       "      <td>...</td>\n",
       "      <td>污水处理设施总额定功率</td>\n",
       "      <td>4千瓦</td>\n",
       "      <td>污水处理设施耗电量</td>\n",
       "      <td>1300千瓦时/年</td>\n",
       "      <td>0.000004</td>\n",
       "      <td>吨</td>\n",
       "      <td>1.0</td>\n",
       "      <td>1.0</td>\n",
       "      <td>/</td>\n",
       "      <td>NaN</td>\n",
       "    </tr>\n",
       "    <tr>\n",
       "      <th>3</th>\n",
       "      <td>永川区清泉酒厂</td>\n",
       "      <td>白酒制造</td>\n",
       "      <td>1512</td>\n",
       "      <td>20.0</td>\n",
       "      <td>0.007</td>\n",
       "      <td>0.0063</td>\n",
       "      <td>三教工业园区污水处理厂</td>\n",
       "      <td>废水</td>\n",
       "      <td>高粱、稻米等</td>\n",
       "      <td>清香型白酒</td>\n",
       "      <td>...</td>\n",
       "      <td>污水处理设施总额定功率</td>\n",
       "      <td>4千瓦</td>\n",
       "      <td>污水处理设施耗电量</td>\n",
       "      <td>1300千瓦时/年</td>\n",
       "      <td>0.000001</td>\n",
       "      <td>吨</td>\n",
       "      <td>1.0</td>\n",
       "      <td>1.0</td>\n",
       "      <td>/</td>\n",
       "      <td>NaN</td>\n",
       "    </tr>\n",
       "    <tr>\n",
       "      <th>4</th>\n",
       "      <td>永川区清泉酒厂</td>\n",
       "      <td>白酒制造</td>\n",
       "      <td>1512</td>\n",
       "      <td>20.0</td>\n",
       "      <td>0.007</td>\n",
       "      <td>0.0063</td>\n",
       "      <td>三教工业园区污水处理厂</td>\n",
       "      <td>废气</td>\n",
       "      <td>柴油</td>\n",
       "      <td>蒸汽/热水/其他</td>\n",
       "      <td>...</td>\n",
       "      <td>NaN</td>\n",
       "      <td>NaN</td>\n",
       "      <td>NaN</td>\n",
       "      <td>NaN</td>\n",
       "      <td>0.004330</td>\n",
       "      <td>吨</td>\n",
       "      <td>NaN</td>\n",
       "      <td>1.0</td>\n",
       "      <td>/</td>\n",
       "      <td>NaN</td>\n",
       "    </tr>\n",
       "  </tbody>\n",
       "</table>\n",
       "<p>5 rows × 36 columns</p>\n",
       "</div>"
      ],
      "text/plain": [
       "    单位详细名称 行业名称1  行业代码1  工业总产值(当年价格)(千元) 用水量（万吨） 排水量（万吨）    是否进入污水处理厂 污染类别  \\\n",
       "0  永川区清泉酒厂  白酒制造   1512             20.0   0.007  0.0063  三教工业园区污水处理厂   废水   \n",
       "1  永川区清泉酒厂  白酒制造   1512             20.0   0.007  0.0063  三教工业园区污水处理厂   废水   \n",
       "2  永川区清泉酒厂  白酒制造   1512             20.0   0.007  0.0063  三教工业园区污水处理厂   废水   \n",
       "3  永川区清泉酒厂  白酒制造   1512             20.0   0.007  0.0063  三教工业园区污水处理厂   废水   \n",
       "4  永川区清泉酒厂  白酒制造   1512             20.0   0.007  0.0063  三教工业园区污水处理厂   废气   \n",
       "\n",
       "     原料名称      产品名称  ... 污染治理设施实际运行参数二名称 污染治理设施实际运行参数二数值  污染治理设施实际运行参数三名称  \\\n",
       "0  高粱、稻米等     清香型白酒  ...     污水处理设施总额定功率             4千瓦        污水处理设施耗电量   \n",
       "1  高粱、稻米等     清香型白酒  ...     污水处理设施总额定功率             4千瓦        污水处理设施耗电量   \n",
       "2  高粱、稻米等     清香型白酒  ...     污水处理设施总额定功率             4千瓦        污水处理设施耗电量   \n",
       "3  高粱、稻米等     清香型白酒  ...     污水处理设施总额定功率             4千瓦        污水处理设施耗电量   \n",
       "4      柴油  蒸汽/热水/其他  ...             NaN             NaN              NaN   \n",
       "\n",
       "  污染治理设施实际运行参数三数值    污染物排放量 污染物排放量计量单位 K值计算结果 K值核算填报结果 是否有监测数据  监测法核算排放量（吨）  \n",
       "0       1300千瓦时/年  0.000297          吨    1.0      1.0       /          NaN  \n",
       "1       1300千瓦时/年  0.000015          吨    1.0      1.0       /          NaN  \n",
       "2       1300千瓦时/年  0.000004          吨    1.0      1.0       /          NaN  \n",
       "3       1300千瓦时/年  0.000001          吨    1.0      1.0       /          NaN  \n",
       "4             NaN  0.004330          吨    NaN      1.0       /          NaN  \n",
       "\n",
       "[5 rows x 36 columns]"
      ]
     },
     "execution_count": 4,
     "metadata": {},
     "output_type": "execute_result"
    }
   ],
   "source": [
    "pf.head()"
   ]
  },
  {
   "cell_type": "code",
   "execution_count": 5,
   "metadata": {},
   "outputs": [
    {
     "data": {
      "text/plain": [
       "(14384, 36)"
      ]
     },
     "execution_count": 5,
     "metadata": {},
     "output_type": "execute_result"
    }
   ],
   "source": [
    "pf.shape"
   ]
  },
  {
   "cell_type": "code",
   "execution_count": 6,
   "metadata": {},
   "outputs": [
    {
     "name": "stdout",
     "output_type": "stream",
     "text": [
      "<class 'pandas.core.frame.DataFrame'>\n",
      "RangeIndex: 14384 entries, 0 to 14383\n",
      "Data columns (total 36 columns):\n",
      "单位详细名称             14384 non-null object\n",
      "行业名称1              14384 non-null object\n",
      "行业代码1              14384 non-null int64\n",
      "工业总产值(当年价格)(千元)    14384 non-null float64\n",
      "用水量（万吨）            14384 non-null object\n",
      "排水量（万吨）            14384 non-null object\n",
      "是否进入污水处理厂          14384 non-null object\n",
      "污染类别               14384 non-null object\n",
      "原料名称               14384 non-null object\n",
      "产品名称               14384 non-null object\n",
      "工艺名称               14384 non-null object\n",
      "生产规模等级             14384 non-null object\n",
      "产品产量               8499 non-null float64\n",
      "产品产量的计量单位          14384 non-null object\n",
      "原料/燃料用量            5913 non-null float64\n",
      "原料/燃料用量的计量单位       14384 non-null object\n",
      "污染物名称              14384 non-null object\n",
      "污染物产污系数            14384 non-null object\n",
      "污染物产污系数的计量单位       14384 non-null object\n",
      "污染物产污系数中参数取值       11960 non-null float64\n",
      "污染物产生量             12571 non-null float64\n",
      "污染物产生量的计量单位        12571 non-null object\n",
      "污染物处理工艺名称          14384 non-null object\n",
      "污染物去除效率            14384 non-null object\n",
      "污染治理设施实际运行参数一名称    1179 non-null object\n",
      "污染治理设施实际运行参数一数值    1422 non-null object\n",
      "污染治理设施实际运行参数二名称    1179 non-null object\n",
      "污染治理设施实际运行参数二数值    1393 non-null object\n",
      "污染治理设施实际运行参数三名称    1151 non-null object\n",
      "污染治理设施实际运行参数三数值    1358 non-null object\n",
      "污染物排放量             11911 non-null float64\n",
      "污染物排放量计量单位         11911 non-null object\n",
      "K值计算结果             706 non-null float64\n",
      "K值核算填报结果           12571 non-null float64\n",
      "是否有监测数据            11314 non-null object\n",
      "监测法核算排放量（吨）        860 non-null float64\n",
      "dtypes: float64(9), int64(1), object(26)\n",
      "memory usage: 4.0+ MB\n"
     ]
    }
   ],
   "source": [
    "pf.info()"
   ]
  },
  {
   "cell_type": "markdown",
   "metadata": {},
   "source": [
    "# 特征分析，提取"
   ]
  },
  {
   "cell_type": "code",
   "execution_count": 7,
   "metadata": {},
   "outputs": [
    {
     "data": {
      "text/plain": [
       "array([ 0,  1,  2,  3,  4,  5,  6,  7,  8,  9, 10, 11, 12, 13, 15, 16, 17,\n",
       "       18, 19, 20, 21, 22, 23, 30, 31, 33, 34], dtype=int64)"
      ]
     },
     "execution_count": 7,
     "metadata": {},
     "output_type": "execute_result"
    }
   ],
   "source": [
    "np.where(pf.isnull().sum()/pf.shape[0]<0.5 )[0]"
   ]
  },
  {
   "cell_type": "code",
   "execution_count": 8,
   "metadata": {},
   "outputs": [
    {
     "data": {
      "text/plain": [
       "array([1512], dtype=int64)"
      ]
     },
     "execution_count": 8,
     "metadata": {},
     "output_type": "execute_result"
    }
   ],
   "source": [
    "pf['行业代码1'].unique() # 说明都是白酒行业的"
   ]
  },
  {
   "cell_type": "code",
   "execution_count": 9,
   "metadata": {},
   "outputs": [
    {
     "data": {
      "text/plain": [
       "dtype('float64')"
      ]
     },
     "execution_count": 9,
     "metadata": {},
     "output_type": "execute_result"
    }
   ],
   "source": [
    "pf['工业总产值(当年价格)(千元)'].dtype"
   ]
  },
  {
   "cell_type": "code",
   "execution_count": 10,
   "metadata": {},
   "outputs": [
    {
     "data": {
      "text/plain": [
       "<matplotlib.axes._subplots.AxesSubplot at 0x2624d546b00>"
      ]
     },
     "execution_count": 10,
     "metadata": {},
     "output_type": "execute_result"
    },
    {
     "data": {
      "image/png": "[encoded data removed]",
      "text/plain": [
       "<Figure size 432x288 with 1 Axes>"
      ]
     },
     "metadata": {
      "needs_background": "light"
     },
     "output_type": "display_data"
    }
   ],
   "source": [
    "%matplotlib inline\n",
    "exporle = pd.DataFrame({\"exporle\":pf[\"污染物排放量\"]})\n",
    "exporle.plot()"
   ]
  },
  {
   "cell_type": "code",
   "execution_count": 12,
   "metadata": {},
   "outputs": [
    {
     "data": {
      "text/html": [
       "<div>\n",
       "<style scoped>\n",
       "    .dataframe tbody tr th:only-of-type {\n",
       "        vertical-align: middle;\n",
       "    }\n",
       "\n",
       "    .dataframe tbody tr th {\n",
       "        vertical-align: top;\n",
       "    }\n",
       "\n",
       "    .dataframe thead th {\n",
       "        text-align: right;\n",
       "    }\n",
       "</style>\n",
       "<table border=\"1\" class=\"dataframe\">\n",
       "  <thead>\n",
       "    <tr style=\"text-align: right;\">\n",
       "      <th></th>\n",
       "      <th>exporle</th>\n",
       "    </tr>\n",
       "  </thead>\n",
       "  <tbody>\n",
       "    <tr>\n",
       "      <th>count</th>\n",
       "      <td>11911.000000</td>\n",
       "    </tr>\n",
       "    <tr>\n",
       "      <th>mean</th>\n",
       "      <td>0.222339</td>\n",
       "    </tr>\n",
       "    <tr>\n",
       "      <th>std</th>\n",
       "      <td>2.217553</td>\n",
       "    </tr>\n",
       "    <tr>\n",
       "      <th>min</th>\n",
       "      <td>0.000000</td>\n",
       "    </tr>\n",
       "    <tr>\n",
       "      <th>25%</th>\n",
       "      <td>0.000613</td>\n",
       "    </tr>\n",
       "    <tr>\n",
       "      <th>50%</th>\n",
       "      <td>0.010290</td>\n",
       "    </tr>\n",
       "    <tr>\n",
       "      <th>75%</th>\n",
       "      <td>0.089600</td>\n",
       "    </tr>\n",
       "    <tr>\n",
       "      <th>max</th>\n",
       "      <td>182.509182</td>\n",
       "    </tr>\n",
       "  </tbody>\n",
       "</table>\n",
       "</div>"
      ],
      "text/plain": [
       "            exporle\n",
       "count  11911.000000\n",
       "mean       0.222339\n",
       "std        2.217553\n",
       "min        0.000000\n",
       "25%        0.000613\n",
       "50%        0.010290\n",
       "75%        0.089600\n",
       "max      182.509182"
      ]
     },
     "execution_count": 12,
     "metadata": {},
     "output_type": "execute_result"
    }
   ],
   "source": [
    "exporle.describe()"
   ]
  },
  {
   "cell_type": "code",
   "execution_count": 10,
   "metadata": {},
   "outputs": [
    {
     "data": {
      "text/plain": [
       "<matplotlib.axes._subplots.AxesSubplot at 0x14851289b00>"
      ]
     },
     "execution_count": 10,
     "metadata": {},
     "output_type": "execute_result"
    },
    {
     "data": {
      "image/png": "[encoded data removed]",
      "text/plain": [
       "<Figure size 432x288 with 1 Axes>"
      ]
     },
     "metadata": {
      "needs_background": "light"
     },
     "output_type": "display_data"
    }
   ],
   "source": [
    "%matplotlib inline\n",
    "product_value = pd.DataFrame({\"Product_value\":pf[\"工业总产值(当年价格)(千元)\"]})\n",
    "product_value.plot()"
   ]
  },
  {
   "cell_type": "code",
   "execution_count": 11,
   "metadata": {},
   "outputs": [
    {
     "data": {
      "text/html": [
       "<div>\n",
       "<style scoped>\n",
       "    .dataframe tbody tr th:only-of-type {\n",
       "        vertical-align: middle;\n",
       "    }\n",
       "\n",
       "    .dataframe tbody tr th {\n",
       "        vertical-align: top;\n",
       "    }\n",
       "\n",
       "    .dataframe thead th {\n",
       "        text-align: right;\n",
       "    }\n",
       "</style>\n",
       "<table border=\"1\" class=\"dataframe\">\n",
       "  <thead>\n",
       "    <tr style=\"text-align: right;\">\n",
       "      <th></th>\n",
       "      <th>Product_value</th>\n",
       "    </tr>\n",
       "  </thead>\n",
       "  <tbody>\n",
       "    <tr>\n",
       "      <th>count</th>\n",
       "      <td>14384.000000</td>\n",
       "    </tr>\n",
       "    <tr>\n",
       "      <th>mean</th>\n",
       "      <td>730.255165</td>\n",
       "    </tr>\n",
       "    <tr>\n",
       "      <th>std</th>\n",
       "      <td>10439.048406</td>\n",
       "    </tr>\n",
       "    <tr>\n",
       "      <th>min</th>\n",
       "      <td>1.000000</td>\n",
       "    </tr>\n",
       "    <tr>\n",
       "      <th>25%</th>\n",
       "      <td>40.000000</td>\n",
       "    </tr>\n",
       "    <tr>\n",
       "      <th>50%</th>\n",
       "      <td>100.000000</td>\n",
       "    </tr>\n",
       "    <tr>\n",
       "      <th>75%</th>\n",
       "      <td>200.000000</td>\n",
       "    </tr>\n",
       "    <tr>\n",
       "      <th>max</th>\n",
       "      <td>343748.300000</td>\n",
       "    </tr>\n",
       "  </tbody>\n",
       "</table>\n",
       "</div>"
      ],
      "text/plain": [
       "       Product_value\n",
       "count   14384.000000\n",
       "mean      730.255165\n",
       "std     10439.048406\n",
       "min         1.000000\n",
       "25%        40.000000\n",
       "50%       100.000000\n",
       "75%       200.000000\n",
       "max    343748.300000"
      ]
     },
     "execution_count": 11,
     "metadata": {},
     "output_type": "execute_result"
    }
   ],
   "source": [
    "product_value.describe()"
   ]
  },
  {
   "cell_type": "code",
   "execution_count": 12,
   "metadata": {},
   "outputs": [
    {
     "data": {
      "text/plain": [
       "<matplotlib.axes._subplots.AxesSubplot at 0x14851275240>"
      ]
     },
     "execution_count": 12,
     "metadata": {},
     "output_type": "execute_result"
    },
    {
     "data": {
      "image/png": "[encoded data removed]",
      "text/plain": [
       "<Figure size 432x288 with 1 Axes>"
      ]
     },
     "metadata": {
      "needs_background": "light"
     },
     "output_type": "display_data"
    }
   ],
   "source": [
    "product_value.plot(kind=\"box\")"
   ]
  },
  {
   "cell_type": "code",
   "execution_count": 15,
   "metadata": {},
   "outputs": [
    {
     "data": {
      "text/html": [
       "<div>\n",
       "<style scoped>\n",
       "    .dataframe tbody tr th:only-of-type {\n",
       "        vertical-align: middle;\n",
       "    }\n",
       "\n",
       "    .dataframe tbody tr th {\n",
       "        vertical-align: top;\n",
       "    }\n",
       "\n",
       "    .dataframe thead th {\n",
       "        text-align: right;\n",
       "    }\n",
       "</style>\n",
       "<table border=\"1\" class=\"dataframe\">\n",
       "  <thead>\n",
       "    <tr style=\"text-align: right;\">\n",
       "      <th></th>\n",
       "      <th>工业总产值(当年价格)(千元)</th>\n",
       "    </tr>\n",
       "  </thead>\n",
       "  <tbody>\n",
       "    <tr>\n",
       "      <th>0</th>\n",
       "      <td>20.0</td>\n",
       "    </tr>\n",
       "    <tr>\n",
       "      <th>1</th>\n",
       "      <td>20.0</td>\n",
       "    </tr>\n",
       "    <tr>\n",
       "      <th>2</th>\n",
       "      <td>20.0</td>\n",
       "    </tr>\n",
       "    <tr>\n",
       "      <th>3</th>\n",
       "      <td>20.0</td>\n",
       "    </tr>\n",
       "    <tr>\n",
       "      <th>4</th>\n",
       "      <td>20.0</td>\n",
       "    </tr>\n",
       "  </tbody>\n",
       "</table>\n",
       "</div>"
      ],
      "text/plain": [
       "   工业总产值(当年价格)(千元)\n",
       "0             20.0\n",
       "1             20.0\n",
       "2             20.0\n",
       "3             20.0\n",
       "4             20.0"
      ]
     },
     "execution_count": 15,
     "metadata": {},
     "output_type": "execute_result"
    }
   ],
   "source": [
    "dateset = pf[['工业总产值(当年价格)(千元)']]\n",
    "dateset.head()"
   ]
  },
  {
   "cell_type": "code",
   "execution_count": 20,
   "metadata": {},
   "outputs": [
    {
     "data": {
      "text/plain": [
       "14384"
      ]
     },
     "execution_count": 20,
     "metadata": {},
     "output_type": "execute_result"
    }
   ],
   "source": [
    "pf.apply(lambda x: x['用水量（万吨）'] > x['排水量（万吨）'], axis=1).count()  # 用水量没有错误"
   ]
  },
  {
   "cell_type": "code",
   "execution_count": 36,
   "metadata": {},
   "outputs": [
    {
     "data": {
      "text/html": [
       "<div>\n",
       "<style scoped>\n",
       "    .dataframe tbody tr th:only-of-type {\n",
       "        vertical-align: middle;\n",
       "    }\n",
       "\n",
       "    .dataframe tbody tr th {\n",
       "        vertical-align: top;\n",
       "    }\n",
       "\n",
       "    .dataframe thead th {\n",
       "        text-align: right;\n",
       "    }\n",
       "</style>\n",
       "<table border=\"1\" class=\"dataframe\">\n",
       "  <thead>\n",
       "    <tr style=\"text-align: right;\">\n",
       "      <th></th>\n",
       "      <th>排水量（万吨）</th>\n",
       "      <th>用水量（万吨）</th>\n",
       "    </tr>\n",
       "  </thead>\n",
       "  <tbody>\n",
       "    <tr>\n",
       "      <th>0</th>\n",
       "      <td>0.0063</td>\n",
       "      <td>0.007</td>\n",
       "    </tr>\n",
       "    <tr>\n",
       "      <th>1</th>\n",
       "      <td>0.0063</td>\n",
       "      <td>0.007</td>\n",
       "    </tr>\n",
       "    <tr>\n",
       "      <th>2</th>\n",
       "      <td>0.0063</td>\n",
       "      <td>0.007</td>\n",
       "    </tr>\n",
       "    <tr>\n",
       "      <th>3</th>\n",
       "      <td>0.0063</td>\n",
       "      <td>0.007</td>\n",
       "    </tr>\n",
       "    <tr>\n",
       "      <th>4</th>\n",
       "      <td>0.0063</td>\n",
       "      <td>0.007</td>\n",
       "    </tr>\n",
       "  </tbody>\n",
       "</table>\n",
       "</div>"
      ],
      "text/plain": [
       "   排水量（万吨）  用水量（万吨）\n",
       "0   0.0063    0.007\n",
       "1   0.0063    0.007\n",
       "2   0.0063    0.007\n",
       "3   0.0063    0.007\n",
       "4   0.0063    0.007"
      ]
     },
     "execution_count": 36,
     "metadata": {},
     "output_type": "execute_result"
    }
   ],
   "source": [
    "water_use = pd.DataFrame()\n",
    "water_use['排水量（万吨）'] = pf['排水量（万吨）'].apply(lambda x : x if x!= '/' else 0)\n",
    "water_use['用水量（万吨）'] = pf['用水量（万吨）'].apply(lambda x : x if x!= '/' else 0)\n",
    "water_use.head()"
   ]
  },
  {
   "cell_type": "code",
   "execution_count": 42,
   "metadata": {},
   "outputs": [
    {
     "data": {
      "text/html": [
       "<div>\n",
       "<style scoped>\n",
       "    .dataframe tbody tr th:only-of-type {\n",
       "        vertical-align: middle;\n",
       "    }\n",
       "\n",
       "    .dataframe tbody tr th {\n",
       "        vertical-align: top;\n",
       "    }\n",
       "\n",
       "    .dataframe thead th {\n",
       "        text-align: right;\n",
       "    }\n",
       "</style>\n",
       "<table border=\"1\" class=\"dataframe\">\n",
       "  <thead>\n",
       "    <tr style=\"text-align: right;\">\n",
       "      <th></th>\n",
       "      <th>排水量（万吨）</th>\n",
       "      <th>用水量（万吨）</th>\n",
       "      <th>用水量-排水量(万吨)</th>\n",
       "    </tr>\n",
       "  </thead>\n",
       "  <tbody>\n",
       "    <tr>\n",
       "      <th>0</th>\n",
       "      <td>0.0063</td>\n",
       "      <td>0.007</td>\n",
       "      <td>0.0007</td>\n",
       "    </tr>\n",
       "    <tr>\n",
       "      <th>1</th>\n",
       "      <td>0.0063</td>\n",
       "      <td>0.007</td>\n",
       "      <td>0.0007</td>\n",
       "    </tr>\n",
       "    <tr>\n",
       "      <th>2</th>\n",
       "      <td>0.0063</td>\n",
       "      <td>0.007</td>\n",
       "      <td>0.0007</td>\n",
       "    </tr>\n",
       "    <tr>\n",
       "      <th>3</th>\n",
       "      <td>0.0063</td>\n",
       "      <td>0.007</td>\n",
       "      <td>0.0007</td>\n",
       "    </tr>\n",
       "    <tr>\n",
       "      <th>4</th>\n",
       "      <td>0.0063</td>\n",
       "      <td>0.007</td>\n",
       "      <td>0.0007</td>\n",
       "    </tr>\n",
       "  </tbody>\n",
       "</table>\n",
       "</div>"
      ],
      "text/plain": [
       "   排水量（万吨）  用水量（万吨）  用水量-排水量(万吨)\n",
       "0   0.0063    0.007       0.0007\n",
       "1   0.0063    0.007       0.0007\n",
       "2   0.0063    0.007       0.0007\n",
       "3   0.0063    0.007       0.0007\n",
       "4   0.0063    0.007       0.0007"
      ]
     },
     "execution_count": 42,
     "metadata": {},
     "output_type": "execute_result"
    }
   ],
   "source": [
    "water_use['用水量-排水量(万吨)'] = water_use.apply(lambda x: x['用水量（万吨）'] - x['排水量（万吨）'], axis=1)\n",
    "water_use.head()"
   ]
  },
  {
   "cell_type": "code",
   "execution_count": 44,
   "metadata": {},
   "outputs": [
    {
     "data": {
      "text/plain": [
       "<matplotlib.axes._subplots.AxesSubplot at 0x148512752e8>"
      ]
     },
     "execution_count": 44,
     "metadata": {},
     "output_type": "execute_result"
    },
    {
     "data": {
      "image/png": "[encoded data removed]",
      "text/plain": [
       "<Figure size 432x288 with 1 Axes>"
      ]
     },
     "metadata": {
      "needs_background": "light"
     },
     "output_type": "display_data"
    }
   ],
   "source": [
    "water_use['用水量-排水量(万吨)'].plot()"
   ]
  },
  {
   "cell_type": "code",
   "execution_count": 54,
   "metadata": {},
   "outputs": [
    {
     "data": {
      "text/plain": [
       "207"
      ]
     },
     "execution_count": 54,
     "metadata": {},
     "output_type": "execute_result"
    }
   ],
   "source": [
    "len(set(pf['是否进入污水处理厂']))  # 包含用污水处理厂的数量"
   ]
  },
  {
   "cell_type": "code",
   "execution_count": 64,
   "metadata": {},
   "outputs": [],
   "source": [
    "isdeal = pd.DataFrame()\n",
    "isdeal['是否进入污水处理厂'] = pf['是否进入污水处理厂'].apply(lambda x: 1 if x!='/' else 0)"
   ]
  },
  {
   "cell_type": "code",
   "execution_count": null,
   "metadata": {},
   "outputs": [],
   "source": []
  }
 ],
 "metadata": {
  "kernelspec": {
   "display_name": "Python 3",
   "language": "python",
   "name": "python3"
  },
  "language_info": {
   "codemirror_mode": {
    "name": "ipython",
    "version": 3
   },
   "file_extension": ".py",
   "mimetype": "text/x-python",
   "name": "python",
   "nbconvert_exporter": "python",
   "pygments_lexer": "ipython3",
   "version": "3.7.3"
  }
 },
 "nbformat": 4,
 "nbformat_minor": 2
}
