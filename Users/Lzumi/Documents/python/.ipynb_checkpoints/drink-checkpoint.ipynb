{
 "cells": [
  {
   "cell_type": "code",
   "execution_count": 217,
   "metadata": {},
   "outputs": [],
   "source": [
    "import pandas as pd\n",
    "import numpy as np\n",
    "from sklearn.model_selection import train_test_split\n",
    "import warnings\n",
    "from sklearn import linear_model"
   ]
  },
  {
   "cell_type": "code",
   "execution_count": 218,
   "metadata": {},
   "outputs": [],
   "source": [
    "warnings.filterwarnings('ignore') # 避免sklearn的一些警告"
   ]
  },
  {
   "cell_type": "code",
   "execution_count": 219,
   "metadata": {},
   "outputs": [],
   "source": [
    "pf = pd.read_excel(r\"C:\\Users\\Lzumi\\Desktop\\比赛相关\\污染源\\白酒行业参数一览表.xls\", sheet_name='总表',encodig='utf8')"
   ]
  },
  {
   "cell_type": "code",
   "execution_count": 220,
   "metadata": {
    "scrolled": true
   },
   "outputs": [
    {
     "data": {
      "text/html": [
       "<div>\n",
       "<style scoped>\n",
       "    .dataframe tbody tr th:only-of-type {\n",
       "        vertical-align: middle;\n",
       "    }\n",
       "\n",
       "    .dataframe tbody tr th {\n",
       "        vertical-align: top;\n",
       "    }\n",
       "\n",
       "    .dataframe thead th {\n",
       "        text-align: right;\n",
       "    }\n",
       "</style>\n",
       "<table border=\"1\" class=\"dataframe\">\n",
       "  <thead>\n",
       "    <tr style=\"text-align: right;\">\n",
       "      <th></th>\n",
       "      <th>单位详细名称</th>\n",
       "      <th>行业名称1</th>\n",
       "      <th>行业代码1</th>\n",
       "      <th>工业总产值(当年价格)(千元)</th>\n",
       "      <th>用水量（万吨）</th>\n",
       "      <th>排水量（万吨）</th>\n",
       "      <th>是否进入污水处理厂</th>\n",
       "      <th>污染类别</th>\n",
       "      <th>原料名称</th>\n",
       "      <th>产品名称</th>\n",
       "      <th>...</th>\n",
       "      <th>污染治理设施实际运行参数二名称</th>\n",
       "      <th>污染治理设施实际运行参数二数值</th>\n",
       "      <th>污染治理设施实际运行参数三名称</th>\n",
       "      <th>污染治理设施实际运行参数三数值</th>\n",
       "      <th>污染物排放量</th>\n",
       "      <th>污染物排放量计量单位</th>\n",
       "      <th>K值计算结果</th>\n",
       "      <th>K值核算填报结果</th>\n",
       "      <th>是否有监测数据</th>\n",
       "      <th>监测法核算排放量（吨）</th>\n",
       "    </tr>\n",
       "  </thead>\n",
       "  <tbody>\n",
       "    <tr>\n",
       "      <th>0</th>\n",
       "      <td>永川区清泉酒厂</td>\n",
       "      <td>白酒制造</td>\n",
       "      <td>1512</td>\n",
       "      <td>20.0</td>\n",
       "      <td>0.007</td>\n",
       "      <td>0.0063</td>\n",
       "      <td>三教工业园区污水处理厂</td>\n",
       "      <td>废水</td>\n",
       "      <td>高粱、稻米等</td>\n",
       "      <td>清香型白酒</td>\n",
       "      <td>...</td>\n",
       "      <td>污水处理设施总额定功率</td>\n",
       "      <td>4千瓦</td>\n",
       "      <td>污水处理设施耗电量</td>\n",
       "      <td>1300千瓦时/年</td>\n",
       "      <td>0.000297</td>\n",
       "      <td>吨</td>\n",
       "      <td>1.0</td>\n",
       "      <td>1.0</td>\n",
       "      <td>/</td>\n",
       "      <td>NaN</td>\n",
       "    </tr>\n",
       "    <tr>\n",
       "      <th>1</th>\n",
       "      <td>永川区清泉酒厂</td>\n",
       "      <td>白酒制造</td>\n",
       "      <td>1512</td>\n",
       "      <td>20.0</td>\n",
       "      <td>0.007</td>\n",
       "      <td>0.0063</td>\n",
       "      <td>三教工业园区污水处理厂</td>\n",
       "      <td>废水</td>\n",
       "      <td>高粱、稻米等</td>\n",
       "      <td>清香型白酒</td>\n",
       "      <td>...</td>\n",
       "      <td>污水处理设施总额定功率</td>\n",
       "      <td>4千瓦</td>\n",
       "      <td>污水处理设施耗电量</td>\n",
       "      <td>1300千瓦时/年</td>\n",
       "      <td>0.000015</td>\n",
       "      <td>吨</td>\n",
       "      <td>1.0</td>\n",
       "      <td>1.0</td>\n",
       "      <td>/</td>\n",
       "      <td>NaN</td>\n",
       "    </tr>\n",
       "    <tr>\n",
       "      <th>2</th>\n",
       "      <td>永川区清泉酒厂</td>\n",
       "      <td>白酒制造</td>\n",
       "      <td>1512</td>\n",
       "      <td>20.0</td>\n",
       "      <td>0.007</td>\n",
       "      <td>0.0063</td>\n",
       "      <td>三教工业园区污水处理厂</td>\n",
       "      <td>废水</td>\n",
       "      <td>高粱、稻米等</td>\n",
       "      <td>清香型白酒</td>\n",
       "      <td>...</td>\n",
       "      <td>污水处理设施总额定功率</td>\n",
       "      <td>4千瓦</td>\n",
       "      <td>污水处理设施耗电量</td>\n",
       "      <td>1300千瓦时/年</td>\n",
       "      <td>0.000004</td>\n",
       "      <td>吨</td>\n",
       "      <td>1.0</td>\n",
       "      <td>1.0</td>\n",
       "      <td>/</td>\n",
       "      <td>NaN</td>\n",
       "    </tr>\n",
       "    <tr>\n",
       "      <th>3</th>\n",
       "      <td>永川区清泉酒厂</td>\n",
       "      <td>白酒制造</td>\n",
       "      <td>1512</td>\n",
       "      <td>20.0</td>\n",
       "      <td>0.007</td>\n",
       "      <td>0.0063</td>\n",
       "      <td>三教工业园区污水处理厂</td>\n",
       "      <td>废水</td>\n",
       "      <td>高粱、稻米等</td>\n",
       "      <td>清香型白酒</td>\n",
       "      <td>...</td>\n",
       "      <td>污水处理设施总额定功率</td>\n",
       "      <td>4千瓦</td>\n",
       "      <td>污水处理设施耗电量</td>\n",
       "      <td>1300千瓦时/年</td>\n",
       "      <td>0.000001</td>\n",
       "      <td>吨</td>\n",
       "      <td>1.0</td>\n",
       "      <td>1.0</td>\n",
       "      <td>/</td>\n",
       "      <td>NaN</td>\n",
       "    </tr>\n",
       "    <tr>\n",
       "      <th>4</th>\n",
       "      <td>永川区清泉酒厂</td>\n",
       "      <td>白酒制造</td>\n",
       "      <td>1512</td>\n",
       "      <td>20.0</td>\n",
       "      <td>0.007</td>\n",
       "      <td>0.0063</td>\n",
       "      <td>三教工业园区污水处理厂</td>\n",
       "      <td>废气</td>\n",
       "      <td>柴油</td>\n",
       "      <td>蒸汽/热水/其他</td>\n",
       "      <td>...</td>\n",
       "      <td>NaN</td>\n",
       "      <td>NaN</td>\n",
       "      <td>NaN</td>\n",
       "      <td>NaN</td>\n",
       "      <td>0.004330</td>\n",
       "      <td>吨</td>\n",
       "      <td>NaN</td>\n",
       "      <td>1.0</td>\n",
       "      <td>/</td>\n",
       "      <td>NaN</td>\n",
       "    </tr>\n",
       "  </tbody>\n",
       "</table>\n",
       "<p>5 rows × 36 columns</p>\n",
       "</div>"
      ],
      "text/plain": [
       "    单位详细名称 行业名称1  行业代码1  工业总产值(当年价格)(千元) 用水量（万吨） 排水量（万吨）    是否进入污水处理厂 污染类别  \\\n",
       "0  永川区清泉酒厂  白酒制造   1512             20.0   0.007  0.0063  三教工业园区污水处理厂   废水   \n",
       "1  永川区清泉酒厂  白酒制造   1512             20.0   0.007  0.0063  三教工业园区污水处理厂   废水   \n",
       "2  永川区清泉酒厂  白酒制造   1512             20.0   0.007  0.0063  三教工业园区污水处理厂   废水   \n",
       "3  永川区清泉酒厂  白酒制造   1512             20.0   0.007  0.0063  三教工业园区污水处理厂   废水   \n",
       "4  永川区清泉酒厂  白酒制造   1512             20.0   0.007  0.0063  三教工业园区污水处理厂   废气   \n",
       "\n",
       "     原料名称      产品名称  ... 污染治理设施实际运行参数二名称 污染治理设施实际运行参数二数值  污染治理设施实际运行参数三名称  \\\n",
       "0  高粱、稻米等     清香型白酒  ...     污水处理设施总额定功率             4千瓦        污水处理设施耗电量   \n",
       "1  高粱、稻米等     清香型白酒  ...     污水处理设施总额定功率             4千瓦        污水处理设施耗电量   \n",
       "2  高粱、稻米等     清香型白酒  ...     污水处理设施总额定功率             4千瓦        污水处理设施耗电量   \n",
       "3  高粱、稻米等     清香型白酒  ...     污水处理设施总额定功率             4千瓦        污水处理设施耗电量   \n",
       "4      柴油  蒸汽/热水/其他  ...             NaN             NaN              NaN   \n",
       "\n",
       "  污染治理设施实际运行参数三数值    污染物排放量 污染物排放量计量单位 K值计算结果 K值核算填报结果 是否有监测数据  监测法核算排放量（吨）  \n",
       "0       1300千瓦时/年  0.000297          吨    1.0      1.0       /          NaN  \n",
       "1       1300千瓦时/年  0.000015          吨    1.0      1.0       /          NaN  \n",
       "2       1300千瓦时/年  0.000004          吨    1.0      1.0       /          NaN  \n",
       "3       1300千瓦时/年  0.000001          吨    1.0      1.0       /          NaN  \n",
       "4             NaN  0.004330          吨    NaN      1.0       /          NaN  \n",
       "\n",
       "[5 rows x 36 columns]"
      ]
     },
     "execution_count": 220,
     "metadata": {},
     "output_type": "execute_result"
    }
   ],
   "source": [
    "pf.head()"
   ]
  },
  {
   "cell_type": "code",
   "execution_count": 221,
   "metadata": {},
   "outputs": [
    {
     "data": {
      "text/plain": [
       "(14384, 36)"
      ]
     },
     "execution_count": 221,
     "metadata": {},
     "output_type": "execute_result"
    }
   ],
   "source": [
    "pf.shape"
   ]
  },
  {
   "cell_type": "markdown",
   "metadata": {},
   "source": [
    "#  特征分析和提取"
   ]
  },
  {
   "cell_type": "code",
   "execution_count": 222,
   "metadata": {},
   "outputs": [
    {
     "data": {
      "text/plain": [
       "array([ 0,  1,  2,  3,  4,  5,  6,  7,  8,  9, 10, 11, 12, 13, 15, 16, 17,\n",
       "       18, 19, 20, 21, 22, 23, 30, 31, 33, 34], dtype=int64)"
      ]
     },
     "execution_count": 222,
     "metadata": {},
     "output_type": "execute_result"
    }
   ],
   "source": [
    "np.where(pf.isnull().sum()/pf.shape[0]<0.5 )[0]"
   ]
  },
  {
   "cell_type": "code",
   "execution_count": 223,
   "metadata": {},
   "outputs": [
    {
     "data": {
      "text/html": [
       "<div>\n",
       "<style scoped>\n",
       "    .dataframe tbody tr th:only-of-type {\n",
       "        vertical-align: middle;\n",
       "    }\n",
       "\n",
       "    .dataframe tbody tr th {\n",
       "        vertical-align: top;\n",
       "    }\n",
       "\n",
       "    .dataframe thead th {\n",
       "        text-align: right;\n",
       "    }\n",
       "</style>\n",
       "<table border=\"1\" class=\"dataframe\">\n",
       "  <thead>\n",
       "    <tr style=\"text-align: right;\">\n",
       "      <th></th>\n",
       "      <th>工业总产值(当年价格)(千元)</th>\n",
       "      <th>用水量（万吨）</th>\n",
       "      <th>排水量（万吨）</th>\n",
       "      <th>是否进入污水处理厂</th>\n",
       "      <th>原料/燃料用量</th>\n",
       "      <th>污染物产生量</th>\n",
       "      <th>污染物排放量</th>\n",
       "    </tr>\n",
       "  </thead>\n",
       "  <tbody>\n",
       "    <tr>\n",
       "      <th>0</th>\n",
       "      <td>20.0</td>\n",
       "      <td>0.007</td>\n",
       "      <td>0.0063</td>\n",
       "      <td>1</td>\n",
       "      <td>0.000</td>\n",
       "      <td>0.014232</td>\n",
       "      <td>0.000297</td>\n",
       "    </tr>\n",
       "    <tr>\n",
       "      <th>1</th>\n",
       "      <td>20.0</td>\n",
       "      <td>0.007</td>\n",
       "      <td>0.0063</td>\n",
       "      <td>1</td>\n",
       "      <td>0.000</td>\n",
       "      <td>0.000144</td>\n",
       "      <td>0.000015</td>\n",
       "    </tr>\n",
       "    <tr>\n",
       "      <th>2</th>\n",
       "      <td>20.0</td>\n",
       "      <td>0.007</td>\n",
       "      <td>0.0063</td>\n",
       "      <td>1</td>\n",
       "      <td>0.000</td>\n",
       "      <td>0.000040</td>\n",
       "      <td>0.000004</td>\n",
       "    </tr>\n",
       "    <tr>\n",
       "      <th>3</th>\n",
       "      <td>20.0</td>\n",
       "      <td>0.007</td>\n",
       "      <td>0.0063</td>\n",
       "      <td>1</td>\n",
       "      <td>0.000</td>\n",
       "      <td>0.000028</td>\n",
       "      <td>0.000001</td>\n",
       "    </tr>\n",
       "    <tr>\n",
       "      <th>4</th>\n",
       "      <td>20.0</td>\n",
       "      <td>0.007</td>\n",
       "      <td>0.0063</td>\n",
       "      <td>1</td>\n",
       "      <td>1.429</td>\n",
       "      <td>0.004330</td>\n",
       "      <td>0.004330</td>\n",
       "    </tr>\n",
       "  </tbody>\n",
       "</table>\n",
       "</div>"
      ],
      "text/plain": [
       "   工业总产值(当年价格)(千元)  用水量（万吨）  排水量（万吨）  是否进入污水处理厂  原料/燃料用量    污染物产生量    污染物排放量\n",
       "0             20.0    0.007   0.0063          1    0.000  0.014232  0.000297\n",
       "1             20.0    0.007   0.0063          1    0.000  0.000144  0.000015\n",
       "2             20.0    0.007   0.0063          1    0.000  0.000040  0.000004\n",
       "3             20.0    0.007   0.0063          1    0.000  0.000028  0.000001\n",
       "4             20.0    0.007   0.0063          1    1.429  0.004330  0.004330"
      ]
     },
     "execution_count": 223,
     "metadata": {},
     "output_type": "execute_result"
    }
   ],
   "source": [
    "train  = pf[['工业总产值(当年价格)(千元)']]\n",
    "train['用水量（万吨）'] = pf['用水量（万吨）'].apply(lambda x: 0 if x=='/' else x)\n",
    "train['排水量（万吨）'] = pf['排水量（万吨）'].apply(lambda x: 0 if x=='/' else x)\n",
    "train['是否进入污水处理厂']= pf['是否进入污水处理厂'].map(lambda x: int(x!='/'))\n",
    "train['原料/燃料用量'] = pf['原料/燃料用量'].apply(lambda x: 0 if np.isnan(x) else x)\n",
    "train['污染物产生量'] = pf['污染物产生量']\n",
    "train['污染物排放量'] = pf['污染物排放量']\n",
    "columns = ['工业总产值(当年价格)(千元)', '用水量（万吨）','排水量（万吨）', '是否进入污水处理厂', '原料/燃料用量','污染物产生量','污染物排放量']\n",
    "train.head()"
   ]
  },
  {
   "cell_type": "code",
   "execution_count": 224,
   "metadata": {},
   "outputs": [
    {
     "data": {
      "text/plain": [
       "工业总产值(当年价格)(千元)    0.000000\n",
       "用水量（万吨）            0.000000\n",
       "排水量（万吨）            0.000000\n",
       "是否进入污水处理厂          0.000000\n",
       "原料/燃料用量            0.000000\n",
       "污染物产生量             0.126043\n",
       "污染物排放量             0.171927\n",
       "dtype: float64"
      ]
     },
     "execution_count": 224,
     "metadata": {},
     "output_type": "execute_result"
    }
   ],
   "source": [
    "train[columns].isnull().sum()/train.shape[0]"
   ]
  },
  {
   "cell_type": "markdown",
   "metadata": {},
   "source": [
    "# 样本外点检测"
   ]
  },
  {
   "cell_type": "code",
   "execution_count": 225,
   "metadata": {},
   "outputs": [
    {
     "data": {
      "image/png": "[encoded data removed]",
      "text/plain": [
       "<Figure size 432x288 with 1 Axes>"
      ]
     },
     "metadata": {
      "needs_background": "light"
     },
     "output_type": "display_data"
    }
   ],
   "source": [
    "\n",
    "#绘制箱线图\n",
    "plt.boxplot(train[['工业总产值(当年价格)(千元)', '原料/燃料用量', '污染物排放量']])\n",
    "plt.xlabel(\"特征索引\")\n",
    "plt.ylabel(\"四分位间距\")\n",
    "plt.show()"
   ]
  },
  {
   "cell_type": "markdown",
   "metadata": {},
   "source": [
    "# 信息熵"
   ]
  },
  {
   "cell_type": "code",
   "execution_count": 199,
   "metadata": {},
   "outputs": [
    {
     "name": "stdout",
     "output_type": "stream",
     "text": [
      "0.030057322720309997\n"
     ]
    }
   ],
   "source": [
    "from math import log\n",
    " \n",
    "def calcShannonEnt(dataSet):\n",
    "    numEntries = len(dataSet) # 样本数\n",
    "    labelCounts = {} # 该数据集每个类别的频数\n",
    "    for featVec in dataSet:  # 对每一行样本\n",
    "        currentLabel = featVec[-1] # 该样本的标签\n",
    "        if currentLabel not in labelCounts.keys(): labelCounts[currentLabel] = 0\n",
    "        labelCounts[currentLabel] += 1 \n",
    "    shannonEnt = 0.0\n",
    "    for key in labelCounts:\n",
    "        prob = float(labelCounts[key])/numEntries # 计算p(xi)\n",
    "        shannonEnt -= prob * log(prob, 2)  # log base 2\n",
    "    return shannonEnt\n",
    "\n",
    "print(calcShannonEnt(pf))"
   ]
  },
  {
   "cell_type": "code",
   "execution_count": 200,
   "metadata": {},
   "outputs": [
    {
     "data": {
      "text/plain": [
       "array([[<matplotlib.axes._subplots.AxesSubplot object at 0x0000029388046DD8>,\n",
       "        <matplotlib.axes._subplots.AxesSubplot object at 0x0000029386E956D8>]],\n",
       "      dtype=object)"
      ]
     },
     "execution_count": 200,
     "metadata": {},
     "output_type": "execute_result"
    },
    {
     "data": {
      "image/png": "[encoded data removed]",
      "text/plain": [
       "<Figure size 432x288 with 2 Axes>"
      ]
     },
     "metadata": {
      "needs_background": "light"
     },
     "output_type": "display_data"
    }
   ],
   "source": [
    "%matplotlib inline\n",
    "emission = pd.DataFrame({\"price\":train[\"污染物排放量\"], \"log(price + 1)\":np.log1p(train[\"污染物排放量\"])})\n",
    "emission.hist()"
   ]
  },
  {
   "cell_type": "code",
   "execution_count": 201,
   "metadata": {},
   "outputs": [
    {
     "data": {
      "text/plain": [
       "dtype('float64')"
      ]
     },
     "execution_count": 201,
     "metadata": {},
     "output_type": "execute_result"
    }
   ],
   "source": [
    "train['工业总产值(当年价格)(千元)'].dtypes\n"
   ]
  },
  {
   "cell_type": "code",
   "execution_count": 202,
   "metadata": {},
   "outputs": [
    {
     "data": {
      "text/plain": [
       "dtype('float64')"
      ]
     },
     "execution_count": 202,
     "metadata": {},
     "output_type": "execute_result"
    }
   ],
   "source": [
    "train['用水量（万吨）'].dtypes"
   ]
  },
  {
   "cell_type": "code",
   "execution_count": 203,
   "metadata": {},
   "outputs": [
    {
     "data": {
      "text/plain": [
       "dtype('float64')"
      ]
     },
     "execution_count": 203,
     "metadata": {},
     "output_type": "execute_result"
    }
   ],
   "source": [
    "train['排水量（万吨）'].dtypes"
   ]
  },
  {
   "cell_type": "code",
   "execution_count": 204,
   "metadata": {},
   "outputs": [
    {
     "data": {
      "text/plain": [
       "dtype('int64')"
      ]
     },
     "execution_count": 204,
     "metadata": {},
     "output_type": "execute_result"
    }
   ],
   "source": [
    "train['是否进入污水处理厂'].dtypes"
   ]
  },
  {
   "cell_type": "code",
   "execution_count": 205,
   "metadata": {},
   "outputs": [
    {
     "data": {
      "text/plain": [
       "dtype('float64')"
      ]
     },
     "execution_count": 205,
     "metadata": {},
     "output_type": "execute_result"
    }
   ],
   "source": [
    "train['原料/燃料用量'].dtypes"
   ]
  },
  {
   "cell_type": "code",
   "execution_count": 206,
   "metadata": {},
   "outputs": [
    {
     "data": {
      "text/plain": [
       "1813"
      ]
     },
     "execution_count": 206,
     "metadata": {},
     "output_type": "execute_result"
    }
   ],
   "source": [
    "pf['污染物产生量'].isnull().sum()"
   ]
  },
  {
   "cell_type": "code",
   "execution_count": 207,
   "metadata": {},
   "outputs": [],
   "source": [
    "import matplotlib.pyplot as plt"
   ]
  },
  {
   "cell_type": "code",
   "execution_count": 208,
   "metadata": {},
   "outputs": [],
   "source": [
    "X = np.array(train)[:,0:1]\n",
    "y = np.array(train)[:, 4]"
   ]
  },
  {
   "cell_type": "code",
   "execution_count": 209,
   "metadata": {},
   "outputs": [
    {
     "data": {
      "image/png": "[encoded data removed]",
      "text/plain": [
       "<Figure size 432x288 with 1 Axes>"
      ]
     },
     "metadata": {
      "needs_background": "light"
     },
     "output_type": "display_data"
    }
   ],
   "source": [
    "plt.scatter(X, y, marker='x')\n",
    "# 绘制x轴和y轴坐标\n",
    "plt.xlabel(\"x\")\n",
    "plt.ylabel(\"y\")\n",
    "\n",
    "# 显示图形\n",
    "\n",
    "plt.show()"
   ]
  },
  {
   "cell_type": "code",
   "execution_count": 210,
   "metadata": {},
   "outputs": [
    {
     "data": {
      "text/plain": [
       "(11911, 7)"
      ]
     },
     "execution_count": 210,
     "metadata": {},
     "output_type": "execute_result"
    }
   ],
   "source": [
    "train_end = train[~train['污染物排放量'].isnull()]\n",
    "train_end.shape"
   ]
  },
  {
   "cell_type": "code",
   "execution_count": 211,
   "metadata": {},
   "outputs": [
    {
     "data": {
      "text/plain": [
       "(2473, 7)"
      ]
     },
     "execution_count": 211,
     "metadata": {},
     "output_type": "execute_result"
    }
   ],
   "source": [
    "test_end = train[train['污染物排放量'].isnull()]\n",
    "test_end.shape"
   ]
  },
  {
   "cell_type": "code",
   "execution_count": 212,
   "metadata": {},
   "outputs": [
    {
     "data": {
      "text/html": [
       "<div>\n",
       "<style scoped>\n",
       "    .dataframe tbody tr th:only-of-type {\n",
       "        vertical-align: middle;\n",
       "    }\n",
       "\n",
       "    .dataframe tbody tr th {\n",
       "        vertical-align: top;\n",
       "    }\n",
       "\n",
       "    .dataframe thead th {\n",
       "        text-align: right;\n",
       "    }\n",
       "</style>\n",
       "<table border=\"1\" class=\"dataframe\">\n",
       "  <thead>\n",
       "    <tr style=\"text-align: right;\">\n",
       "      <th></th>\n",
       "      <th>工业总产值(当年价格)(千元)</th>\n",
       "      <th>用水量（万吨）</th>\n",
       "      <th>排水量（万吨）</th>\n",
       "      <th>是否进入污水处理厂</th>\n",
       "      <th>原料/燃料用量</th>\n",
       "      <th>污染物产生量</th>\n",
       "      <th>污染物排放量</th>\n",
       "    </tr>\n",
       "  </thead>\n",
       "  <tbody>\n",
       "    <tr>\n",
       "      <th>6323</th>\n",
       "      <td>40.5</td>\n",
       "      <td>0.0030</td>\n",
       "      <td>0.0018</td>\n",
       "      <td>0</td>\n",
       "      <td>10.000</td>\n",
       "      <td>NaN</td>\n",
       "      <td>NaN</td>\n",
       "    </tr>\n",
       "    <tr>\n",
       "      <th>6327</th>\n",
       "      <td>40.5</td>\n",
       "      <td>0.0030</td>\n",
       "      <td>0.0018</td>\n",
       "      <td>0</td>\n",
       "      <td>0.000</td>\n",
       "      <td>NaN</td>\n",
       "      <td>NaN</td>\n",
       "    </tr>\n",
       "    <tr>\n",
       "      <th>6332</th>\n",
       "      <td>20.0</td>\n",
       "      <td>0.0100</td>\n",
       "      <td>0.0060</td>\n",
       "      <td>0</td>\n",
       "      <td>0.054</td>\n",
       "      <td>NaN</td>\n",
       "      <td>NaN</td>\n",
       "    </tr>\n",
       "    <tr>\n",
       "      <th>6335</th>\n",
       "      <td>20.0</td>\n",
       "      <td>0.0100</td>\n",
       "      <td>0.0060</td>\n",
       "      <td>0</td>\n",
       "      <td>0.000</td>\n",
       "      <td>NaN</td>\n",
       "      <td>NaN</td>\n",
       "    </tr>\n",
       "    <tr>\n",
       "      <th>6340</th>\n",
       "      <td>30.0</td>\n",
       "      <td>0.0012</td>\n",
       "      <td>0.0008</td>\n",
       "      <td>0</td>\n",
       "      <td>4.800</td>\n",
       "      <td>NaN</td>\n",
       "      <td>NaN</td>\n",
       "    </tr>\n",
       "  </tbody>\n",
       "</table>\n",
       "</div>"
      ],
      "text/plain": [
       "      工业总产值(当年价格)(千元)  用水量（万吨）  排水量（万吨）  是否进入污水处理厂  原料/燃料用量  污染物产生量  污染物排放量\n",
       "6323             40.5   0.0030   0.0018          0   10.000     NaN     NaN\n",
       "6327             40.5   0.0030   0.0018          0    0.000     NaN     NaN\n",
       "6332             20.0   0.0100   0.0060          0    0.054     NaN     NaN\n",
       "6335             20.0   0.0100   0.0060          0    0.000     NaN     NaN\n",
       "6340             30.0   0.0012   0.0008          0    4.800     NaN     NaN"
      ]
     },
     "execution_count": 212,
     "metadata": {},
     "output_type": "execute_result"
    }
   ],
   "source": [
    "test_end.head()"
   ]
  },
  {
   "cell_type": "markdown",
   "metadata": {},
   "source": [
    "# 模型"
   ]
  },
  {
   "cell_type": "code",
   "execution_count": 228,
   "metadata": {},
   "outputs": [],
   "source": [
    "import lightgbm as lgb\n",
    "from sklearn.model_selection import train_test_split\n",
    "from sklearn.metrics import mean_squared_error,roc_auc_score"
   ]
  },
  {
   "cell_type": "code",
   "execution_count": 229,
   "metadata": {},
   "outputs": [],
   "source": [
    "X_train,X_test,y_train,y_test = train_test_split(train_end.iloc[:,:-1],train_end.iloc[:,-1],test_size=0.3)"
   ]
  },
  {
   "cell_type": "code",
   "execution_count": 230,
   "metadata": {},
   "outputs": [
    {
     "name": "stdout",
     "output_type": "stream",
     "text": [
      "开始训练...\n",
      "[1]\tvalid_0's l2: 14.3623\tvalid_0's auc: 0.721272\n",
      "Training until validation scores don't improve for 5 rounds.\n",
      "[2]\tvalid_0's l2: 14.2351\tvalid_0's auc: 0.777046\n",
      "[3]\tvalid_0's l2: 14.1169\tvalid_0's auc: 0.777046\n",
      "[4]\tvalid_0's l2: 14.0061\tvalid_0's auc: 0.777046\n",
      "[5]\tvalid_0's l2: 13.9027\tvalid_0's auc: 0.777046\n",
      "[6]\tvalid_0's l2: 13.809\tvalid_0's auc: 0.777046\n",
      "[7]\tvalid_0's l2: 13.7213\tvalid_0's auc: 0.782651\n",
      "[8]\tvalid_0's l2: 13.6393\tvalid_0's auc: 0.782651\n",
      "[9]\tvalid_0's l2: 13.5624\tvalid_0's auc: 0.782651\n",
      "[10]\tvalid_0's l2: 13.4906\tvalid_0's auc: 0.782651\n",
      "[11]\tvalid_0's l2: 13.4878\tvalid_0's auc: 0.768358\n",
      "[12]\tvalid_0's l2: 13.4853\tvalid_0's auc: 0.750234\n",
      "Early stopping, best iteration is:\n",
      "[7]\tvalid_0's l2: 13.7213\tvalid_0's auc: 0.782651\n",
      "开始预测...\n",
      "预估结果的rmse为:\n",
      "3.7042273397715655\n"
     ]
    }
   ],
   "source": [
    "lgb_train = lgb.Dataset(X_train, y_train)\n",
    "lgb_eval = lgb.Dataset(X_test, y_test, reference=lgb_train)\n",
    "\n",
    "# 参数\n",
    "params = {\n",
    "    'task': 'train',\n",
    "    'boosting_type': 'gbdt',\n",
    "    'objective': 'regression',\n",
    "    'metric': {'l2', 'auc'},\n",
    "    'num_leaves': 31,\n",
    "    'learning_rate': 0.05,\n",
    "    'feature_fraction': 0.9,\n",
    "    'bagging_fraction': 0.8,\n",
    "    'bagging_freq': 5,\n",
    "    'verbose': 0\n",
    "}\n",
    "print('开始训练...')\n",
    "# 训练\n",
    "gbm = lgb.train(params,\n",
    "                lgb_train,\n",
    "                num_boost_round=20,\n",
    "                valid_sets=lgb_eval,\n",
    "                early_stopping_rounds=5)\n",
    "\n",
    "print('开始预测...')\n",
    "# 预测\n",
    "y_pred = gbm.predict(X_test, num_iteration=gbm.best_iteration)\n",
    "# 评估\n",
    "print('预估结果的rmse为:')\n",
    "print(mean_squared_error(y_test, y_pred) ** 0.5)"
   ]
  },
  {
   "cell_type": "code",
   "execution_count": 227,
   "metadata": {},
   "outputs": [
    {
     "data": {
      "text/html": [
       "<div>\n",
       "<style scoped>\n",
       "    .dataframe tbody tr th:only-of-type {\n",
       "        vertical-align: middle;\n",
       "    }\n",
       "\n",
       "    .dataframe tbody tr th {\n",
       "        vertical-align: top;\n",
       "    }\n",
       "\n",
       "    .dataframe thead th {\n",
       "        text-align: right;\n",
       "    }\n",
       "</style>\n",
       "<table border=\"1\" class=\"dataframe\">\n",
       "  <thead>\n",
       "    <tr style=\"text-align: right;\">\n",
       "      <th></th>\n",
       "      <th>预测值</th>\n",
       "      <th>实际值</th>\n",
       "    </tr>\n",
       "  </thead>\n",
       "  <tbody>\n",
       "    <tr>\n",
       "      <th>4979</th>\n",
       "      <td>0.157810</td>\n",
       "      <td>0.001656</td>\n",
       "    </tr>\n",
       "    <tr>\n",
       "      <th>711</th>\n",
       "      <td>0.157810</td>\n",
       "      <td>0.000075</td>\n",
       "    </tr>\n",
       "    <tr>\n",
       "      <th>3548</th>\n",
       "      <td>0.170221</td>\n",
       "      <td>0.002946</td>\n",
       "    </tr>\n",
       "    <tr>\n",
       "      <th>455</th>\n",
       "      <td>0.243332</td>\n",
       "      <td>0.271554</td>\n",
       "    </tr>\n",
       "    <tr>\n",
       "      <th>1274</th>\n",
       "      <td>0.209228</td>\n",
       "      <td>0.155174</td>\n",
       "    </tr>\n",
       "    <tr>\n",
       "      <th>7525</th>\n",
       "      <td>0.220387</td>\n",
       "      <td>0.223301</td>\n",
       "    </tr>\n",
       "    <tr>\n",
       "      <th>3953</th>\n",
       "      <td>0.157810</td>\n",
       "      <td>0.000144</td>\n",
       "    </tr>\n",
       "    <tr>\n",
       "      <th>1158</th>\n",
       "      <td>0.334129</td>\n",
       "      <td>0.544000</td>\n",
       "    </tr>\n",
       "    <tr>\n",
       "      <th>762</th>\n",
       "      <td>0.200083</td>\n",
       "      <td>0.131400</td>\n",
       "    </tr>\n",
       "    <tr>\n",
       "      <th>1153</th>\n",
       "      <td>0.209228</td>\n",
       "      <td>0.155174</td>\n",
       "    </tr>\n",
       "    <tr>\n",
       "      <th>6274</th>\n",
       "      <td>0.170221</td>\n",
       "      <td>0.040500</td>\n",
       "    </tr>\n",
       "    <tr>\n",
       "      <th>1878</th>\n",
       "      <td>0.725292</td>\n",
       "      <td>2.125651</td>\n",
       "    </tr>\n",
       "    <tr>\n",
       "      <th>11420</th>\n",
       "      <td>0.176545</td>\n",
       "      <td>0.058800</td>\n",
       "    </tr>\n",
       "    <tr>\n",
       "      <th>12044</th>\n",
       "      <td>0.177764</td>\n",
       "      <td>0.062528</td>\n",
       "    </tr>\n",
       "    <tr>\n",
       "      <th>11659</th>\n",
       "      <td>0.157810</td>\n",
       "      <td>0.000231</td>\n",
       "    </tr>\n",
       "    <tr>\n",
       "      <th>3046</th>\n",
       "      <td>0.157810</td>\n",
       "      <td>0.000037</td>\n",
       "    </tr>\n",
       "    <tr>\n",
       "      <th>4554</th>\n",
       "      <td>0.157810</td>\n",
       "      <td>0.000149</td>\n",
       "    </tr>\n",
       "    <tr>\n",
       "      <th>5400</th>\n",
       "      <td>0.163862</td>\n",
       "      <td>0.019200</td>\n",
       "    </tr>\n",
       "    <tr>\n",
       "      <th>13933</th>\n",
       "      <td>0.157810</td>\n",
       "      <td>0.000305</td>\n",
       "    </tr>\n",
       "    <tr>\n",
       "      <th>3544</th>\n",
       "      <td>0.658994</td>\n",
       "      <td>1.958400</td>\n",
       "    </tr>\n",
       "    <tr>\n",
       "      <th>11640</th>\n",
       "      <td>0.157810</td>\n",
       "      <td>0.000160</td>\n",
       "    </tr>\n",
       "    <tr>\n",
       "      <th>5449</th>\n",
       "      <td>0.157810</td>\n",
       "      <td>0.000061</td>\n",
       "    </tr>\n",
       "    <tr>\n",
       "      <th>4576</th>\n",
       "      <td>0.163862</td>\n",
       "      <td>0.027000</td>\n",
       "    </tr>\n",
       "    <tr>\n",
       "      <th>13692</th>\n",
       "      <td>0.167511</td>\n",
       "      <td>0.035581</td>\n",
       "    </tr>\n",
       "    <tr>\n",
       "      <th>1522</th>\n",
       "      <td>0.329138</td>\n",
       "      <td>0.561000</td>\n",
       "    </tr>\n",
       "    <tr>\n",
       "      <th>8355</th>\n",
       "      <td>0.157810</td>\n",
       "      <td>0.000350</td>\n",
       "    </tr>\n",
       "    <tr>\n",
       "      <th>4893</th>\n",
       "      <td>0.157810</td>\n",
       "      <td>0.006220</td>\n",
       "    </tr>\n",
       "    <tr>\n",
       "      <th>3552</th>\n",
       "      <td>0.157810</td>\n",
       "      <td>0.000398</td>\n",
       "    </tr>\n",
       "    <tr>\n",
       "      <th>9781</th>\n",
       "      <td>0.176545</td>\n",
       "      <td>0.059090</td>\n",
       "    </tr>\n",
       "    <tr>\n",
       "      <th>14087</th>\n",
       "      <td>0.177764</td>\n",
       "      <td>0.067889</td>\n",
       "    </tr>\n",
       "    <tr>\n",
       "      <th>...</th>\n",
       "      <td>...</td>\n",
       "      <td>...</td>\n",
       "    </tr>\n",
       "    <tr>\n",
       "      <th>5235</th>\n",
       "      <td>0.157810</td>\n",
       "      <td>0.000087</td>\n",
       "    </tr>\n",
       "    <tr>\n",
       "      <th>12494</th>\n",
       "      <td>0.191003</td>\n",
       "      <td>0.108990</td>\n",
       "    </tr>\n",
       "    <tr>\n",
       "      <th>5061</th>\n",
       "      <td>0.191003</td>\n",
       "      <td>0.113587</td>\n",
       "    </tr>\n",
       "    <tr>\n",
       "      <th>11329</th>\n",
       "      <td>0.790003</td>\n",
       "      <td>2.361834</td>\n",
       "    </tr>\n",
       "    <tr>\n",
       "      <th>9241</th>\n",
       "      <td>0.157810</td>\n",
       "      <td>0.000448</td>\n",
       "    </tr>\n",
       "    <tr>\n",
       "      <th>12690</th>\n",
       "      <td>0.157810</td>\n",
       "      <td>0.000320</td>\n",
       "    </tr>\n",
       "    <tr>\n",
       "      <th>10769</th>\n",
       "      <td>0.157810</td>\n",
       "      <td>0.001358</td>\n",
       "    </tr>\n",
       "    <tr>\n",
       "      <th>7702</th>\n",
       "      <td>0.157810</td>\n",
       "      <td>0.000411</td>\n",
       "    </tr>\n",
       "    <tr>\n",
       "      <th>9887</th>\n",
       "      <td>0.157810</td>\n",
       "      <td>0.003060</td>\n",
       "    </tr>\n",
       "    <tr>\n",
       "      <th>8478</th>\n",
       "      <td>0.234538</td>\n",
       "      <td>0.254080</td>\n",
       "    </tr>\n",
       "    <tr>\n",
       "      <th>1205</th>\n",
       "      <td>0.160954</td>\n",
       "      <td>0.013500</td>\n",
       "    </tr>\n",
       "    <tr>\n",
       "      <th>1852</th>\n",
       "      <td>0.163862</td>\n",
       "      <td>0.021600</td>\n",
       "    </tr>\n",
       "    <tr>\n",
       "      <th>2780</th>\n",
       "      <td>0.157810</td>\n",
       "      <td>0.002027</td>\n",
       "    </tr>\n",
       "    <tr>\n",
       "      <th>396</th>\n",
       "      <td>0.157810</td>\n",
       "      <td>0.000247</td>\n",
       "    </tr>\n",
       "    <tr>\n",
       "      <th>12953</th>\n",
       "      <td>0.159411</td>\n",
       "      <td>0.009522</td>\n",
       "    </tr>\n",
       "    <tr>\n",
       "      <th>13243</th>\n",
       "      <td>0.157810</td>\n",
       "      <td>0.000266</td>\n",
       "    </tr>\n",
       "    <tr>\n",
       "      <th>2872</th>\n",
       "      <td>0.246066</td>\n",
       "      <td>0.272000</td>\n",
       "    </tr>\n",
       "    <tr>\n",
       "      <th>7042</th>\n",
       "      <td>0.157810</td>\n",
       "      <td>0.000120</td>\n",
       "    </tr>\n",
       "    <tr>\n",
       "      <th>3838</th>\n",
       "      <td>0.157810</td>\n",
       "      <td>0.000481</td>\n",
       "    </tr>\n",
       "    <tr>\n",
       "      <th>4197</th>\n",
       "      <td>0.157810</td>\n",
       "      <td>0.000293</td>\n",
       "    </tr>\n",
       "    <tr>\n",
       "      <th>7063</th>\n",
       "      <td>0.157810</td>\n",
       "      <td>0.001345</td>\n",
       "    </tr>\n",
       "    <tr>\n",
       "      <th>3470</th>\n",
       "      <td>0.157810</td>\n",
       "      <td>0.000560</td>\n",
       "    </tr>\n",
       "    <tr>\n",
       "      <th>12445</th>\n",
       "      <td>0.157810</td>\n",
       "      <td>0.000139</td>\n",
       "    </tr>\n",
       "    <tr>\n",
       "      <th>2627</th>\n",
       "      <td>0.157810</td>\n",
       "      <td>0.000900</td>\n",
       "    </tr>\n",
       "    <tr>\n",
       "      <th>5551</th>\n",
       "      <td>0.157810</td>\n",
       "      <td>0.000501</td>\n",
       "    </tr>\n",
       "    <tr>\n",
       "      <th>909</th>\n",
       "      <td>0.163862</td>\n",
       "      <td>0.029095</td>\n",
       "    </tr>\n",
       "    <tr>\n",
       "      <th>4928</th>\n",
       "      <td>0.157810</td>\n",
       "      <td>0.000560</td>\n",
       "    </tr>\n",
       "    <tr>\n",
       "      <th>6588</th>\n",
       "      <td>0.191003</td>\n",
       "      <td>0.116736</td>\n",
       "    </tr>\n",
       "    <tr>\n",
       "      <th>5247</th>\n",
       "      <td>0.163862</td>\n",
       "      <td>0.015550</td>\n",
       "    </tr>\n",
       "    <tr>\n",
       "      <th>3040</th>\n",
       "      <td>0.157810</td>\n",
       "      <td>0.003060</td>\n",
       "    </tr>\n",
       "  </tbody>\n",
       "</table>\n",
       "<p>3574 rows × 2 columns</p>\n",
       "</div>"
      ],
      "text/plain": [
       "            预测值       实际值\n",
       "4979   0.157810  0.001656\n",
       "711    0.157810  0.000075\n",
       "3548   0.170221  0.002946\n",
       "455    0.243332  0.271554\n",
       "1274   0.209228  0.155174\n",
       "7525   0.220387  0.223301\n",
       "3953   0.157810  0.000144\n",
       "1158   0.334129  0.544000\n",
       "762    0.200083  0.131400\n",
       "1153   0.209228  0.155174\n",
       "6274   0.170221  0.040500\n",
       "1878   0.725292  2.125651\n",
       "11420  0.176545  0.058800\n",
       "12044  0.177764  0.062528\n",
       "11659  0.157810  0.000231\n",
       "3046   0.157810  0.000037\n",
       "4554   0.157810  0.000149\n",
       "5400   0.163862  0.019200\n",
       "13933  0.157810  0.000305\n",
       "3544   0.658994  1.958400\n",
       "11640  0.157810  0.000160\n",
       "5449   0.157810  0.000061\n",
       "4576   0.163862  0.027000\n",
       "13692  0.167511  0.035581\n",
       "1522   0.329138  0.561000\n",
       "8355   0.157810  0.000350\n",
       "4893   0.157810  0.006220\n",
       "3552   0.157810  0.000398\n",
       "9781   0.176545  0.059090\n",
       "14087  0.177764  0.067889\n",
       "...         ...       ...\n",
       "5235   0.157810  0.000087\n",
       "12494  0.191003  0.108990\n",
       "5061   0.191003  0.113587\n",
       "11329  0.790003  2.361834\n",
       "9241   0.157810  0.000448\n",
       "12690  0.157810  0.000320\n",
       "10769  0.157810  0.001358\n",
       "7702   0.157810  0.000411\n",
       "9887   0.157810  0.003060\n",
       "8478   0.234538  0.254080\n",
       "1205   0.160954  0.013500\n",
       "1852   0.163862  0.021600\n",
       "2780   0.157810  0.002027\n",
       "396    0.157810  0.000247\n",
       "12953  0.159411  0.009522\n",
       "13243  0.157810  0.000266\n",
       "2872   0.246066  0.272000\n",
       "7042   0.157810  0.000120\n",
       "3838   0.157810  0.000481\n",
       "4197   0.157810  0.000293\n",
       "7063   0.157810  0.001345\n",
       "3470   0.157810  0.000560\n",
       "12445  0.157810  0.000139\n",
       "2627   0.157810  0.000900\n",
       "5551   0.157810  0.000501\n",
       "909    0.163862  0.029095\n",
       "4928   0.157810  0.000560\n",
       "6588   0.191003  0.116736\n",
       "5247   0.163862  0.015550\n",
       "3040   0.157810  0.003060\n",
       "\n",
       "[3574 rows x 2 columns]"
      ]
     },
     "execution_count": 227,
     "metadata": {},
     "output_type": "execute_result"
    }
   ],
   "source": [
    "pd.DataFrame({\"预测值\":y_pred,\"实际值\":y_test})"
   ]
  },
  {
   "cell_type": "code",
   "execution_count": null,
   "metadata": {},
   "outputs": [],
   "source": []
  }
 ],
 "metadata": {
  "kernelspec": {
   "display_name": "Python 3",
   "language": "python",
   "name": "python3"
  },
  "language_info": {
   "codemirror_mode": {
    "name": "ipython",
    "version": 3
   },
   "file_extension": ".py",
   "mimetype": "text/x-python",
   "name": "python",
   "nbconvert_exporter": "python",
   "pygments_lexer": "ipython3",
   "version": "3.7.3"
  }
 },
 "nbformat": 4,
 "nbformat_minor": 2
}
