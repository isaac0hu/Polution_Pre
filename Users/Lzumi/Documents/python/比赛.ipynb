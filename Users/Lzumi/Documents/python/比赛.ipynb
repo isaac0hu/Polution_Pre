{
 "cells": [
  {
   "cell_type": "markdown",
   "metadata": {},
   "source": [
    "# 比赛"
   ]
  },
  {
   "cell_type": "code",
   "execution_count": 1,
   "metadata": {},
   "outputs": [],
   "source": [
    "# coding: utf-8\n",
    "from psutil import cpu_stats\n",
    "import os\n",
    "import numpy as np\n",
    "import pandas as pd\n",
    "import xgboost as xgb\n",
    "import lightgbm as lgb\n",
    "import catboost as cbt\n",
    "import category_encoders as ce\n",
    "from tqdm import tqdm\n",
    "from sklearn.preprocessing import LabelEncoder\n",
    "from sklearn.model_selection import KFold,StratifiedKFold,train_test_split"
   ]
  },
  {
   "cell_type": "code",
   "execution_count": 2,
   "metadata": {},
   "outputs": [
    {
     "data": {
      "text/plain": [
       "['submission.csv', 'test.csv', 'train.csv', 'train_label.csv']"
      ]
     },
     "execution_count": 2,
     "metadata": {},
     "output_type": "execute_result"
    }
   ],
   "source": [
    "os.listdir('../data/')"
   ]
  },
  {
   "cell_type": "code",
   "execution_count": 3,
   "metadata": {},
   "outputs": [
    {
     "name": "stderr",
     "output_type": "stream",
     "text": [
      "C:\\ProgramData\\Anaconda3\\lib\\site-packages\\IPython\\core\\interactiveshell.py:3057: DtypeWarning: Columns (5) have mixed types. Specify dtype option on import or set low_memory=False.\n",
      "  interactivity=interactivity, compiler=compiler, result=result)\n"
     ]
    }
   ],
   "source": [
    "submission = pd.read_csv('../data/submission.csv')\n",
    "train = pd.read_csv('../data/train.csv')\n",
    "test = pd.read_csv('../data/test.csv')\n",
    "train_label = pd.read_csv('../data/train_label.csv')"
   ]
  },
  {
   "cell_type": "code",
   "execution_count": 4,
   "metadata": {},
   "outputs": [
    {
     "data": {
      "text/plain": [
       "scpustats(ctx_switches=2984395770, interrupts=2264151210, soft_interrupts=0, syscalls=2791995793)"
      ]
     },
     "execution_count": 4,
     "metadata": {},
     "output_type": "execute_result"
    }
   ],
   "source": [
    "cpu_stats()"
   ]
  },
  {
   "cell_type": "code",
   "execution_count": 5,
   "metadata": {},
   "outputs": [
    {
     "data": {
      "text/html": [
       "<div>\n",
       "<style scoped>\n",
       "    .dataframe tbody tr th:only-of-type {\n",
       "        vertical-align: middle;\n",
       "    }\n",
       "\n",
       "    .dataframe tbody tr th {\n",
       "        vertical-align: top;\n",
       "    }\n",
       "\n",
       "    .dataframe thead th {\n",
       "        text-align: right;\n",
       "    }\n",
       "</style>\n",
       "<table border=\"1\" class=\"dataframe\">\n",
       "  <thead>\n",
       "    <tr style=\"text-align: right;\">\n",
       "      <th></th>\n",
       "      <th>ID</th>\n",
       "      <th>企业类型</th>\n",
       "      <th>经营期限至</th>\n",
       "      <th>登记机关</th>\n",
       "      <th>企业状态</th>\n",
       "      <th>邮政编码</th>\n",
       "      <th>投资总额</th>\n",
       "      <th>注册资本</th>\n",
       "      <th>核准日期</th>\n",
       "      <th>行业代码</th>\n",
       "      <th>...</th>\n",
       "      <th>应收账款_年末数</th>\n",
       "      <th>一年内到期的非流动资产_年末数</th>\n",
       "      <th>油气资产_年末数</th>\n",
       "      <th>应收补贴款_年末数</th>\n",
       "      <th>应收股利_年末数</th>\n",
       "      <th>应收利息_年末数</th>\n",
       "      <th>应收票据_年末数</th>\n",
       "      <th>预付款项_年末数</th>\n",
       "      <th>资产总计_年末数</th>\n",
       "      <th>在建工程_年末数</th>\n",
       "    </tr>\n",
       "  </thead>\n",
       "  <tbody>\n",
       "    <tr>\n",
       "      <th>0</th>\n",
       "      <td>1</td>\n",
       "      <td>9.0</td>\n",
       "      <td>NaN</td>\n",
       "      <td>1.0</td>\n",
       "      <td>0.0</td>\n",
       "      <td>266300</td>\n",
       "      <td>19.110000</td>\n",
       "      <td>19.110000</td>\n",
       "      <td>00:00.0</td>\n",
       "      <td>5154.0</td>\n",
       "      <td>...</td>\n",
       "      <td>142.310005</td>\n",
       "      <td>0.0</td>\n",
       "      <td>0.0</td>\n",
       "      <td>0.0</td>\n",
       "      <td>0.0</td>\n",
       "      <td>0.0</td>\n",
       "      <td>28.122902</td>\n",
       "      <td>1.004419</td>\n",
       "      <td>632.032182</td>\n",
       "      <td>0.0</td>\n",
       "    </tr>\n",
       "    <tr>\n",
       "      <th>1</th>\n",
       "      <td>3</td>\n",
       "      <td>11.0</td>\n",
       "      <td>NaN</td>\n",
       "      <td>5.0</td>\n",
       "      <td>0.0</td>\n",
       "      <td>266000</td>\n",
       "      <td>29.154194</td>\n",
       "      <td>19.210446</td>\n",
       "      <td>00:00.0</td>\n",
       "      <td>7214.0</td>\n",
       "      <td>...</td>\n",
       "      <td>NaN</td>\n",
       "      <td>NaN</td>\n",
       "      <td>NaN</td>\n",
       "      <td>NaN</td>\n",
       "      <td>NaN</td>\n",
       "      <td>NaN</td>\n",
       "      <td>NaN</td>\n",
       "      <td>NaN</td>\n",
       "      <td>NaN</td>\n",
       "      <td>NaN</td>\n",
       "    </tr>\n",
       "    <tr>\n",
       "      <th>2</th>\n",
       "      <td>9</td>\n",
       "      <td>0.0</td>\n",
       "      <td>NaN</td>\n",
       "      <td>3.0</td>\n",
       "      <td>0.0</td>\n",
       "      <td>266000</td>\n",
       "      <td>NaN</td>\n",
       "      <td>19.120045</td>\n",
       "      <td>13:31.0</td>\n",
       "      <td>2110.0</td>\n",
       "      <td>...</td>\n",
       "      <td>NaN</td>\n",
       "      <td>NaN</td>\n",
       "      <td>NaN</td>\n",
       "      <td>NaN</td>\n",
       "      <td>NaN</td>\n",
       "      <td>NaN</td>\n",
       "      <td>NaN</td>\n",
       "      <td>NaN</td>\n",
       "      <td>NaN</td>\n",
       "      <td>NaN</td>\n",
       "    </tr>\n",
       "    <tr>\n",
       "      <th>3</th>\n",
       "      <td>10</td>\n",
       "      <td>0.0</td>\n",
       "      <td>42:05.0</td>\n",
       "      <td>9.0</td>\n",
       "      <td>0.0</td>\n",
       "      <td>266000</td>\n",
       "      <td>NaN</td>\n",
       "      <td>19.160223</td>\n",
       "      <td>00:00.0</td>\n",
       "      <td>5163.0</td>\n",
       "      <td>...</td>\n",
       "      <td>NaN</td>\n",
       "      <td>NaN</td>\n",
       "      <td>NaN</td>\n",
       "      <td>NaN</td>\n",
       "      <td>NaN</td>\n",
       "      <td>NaN</td>\n",
       "      <td>NaN</td>\n",
       "      <td>NaN</td>\n",
       "      <td>NaN</td>\n",
       "      <td>NaN</td>\n",
       "    </tr>\n",
       "    <tr>\n",
       "      <th>4</th>\n",
       "      <td>14</td>\n",
       "      <td>0.0</td>\n",
       "      <td>NaN</td>\n",
       "      <td>2.0</td>\n",
       "      <td>0.0</td>\n",
       "      <td>266400</td>\n",
       "      <td>NaN</td>\n",
       "      <td>19.210446</td>\n",
       "      <td>00:00.0</td>\n",
       "      <td>5439.0</td>\n",
       "      <td>...</td>\n",
       "      <td>156.901030</td>\n",
       "      <td>0.0</td>\n",
       "      <td>0.0</td>\n",
       "      <td>0.0</td>\n",
       "      <td>0.0</td>\n",
       "      <td>0.0</td>\n",
       "      <td>10.044194</td>\n",
       "      <td>0.508236</td>\n",
       "      <td>319.205293</td>\n",
       "      <td>0.0</td>\n",
       "    </tr>\n",
       "  </tbody>\n",
       "</table>\n",
       "<p>5 rows × 178 columns</p>\n",
       "</div>"
      ],
      "text/plain": [
       "   ID  企业类型    经营期限至  登记机关  企业状态    邮政编码       投资总额       注册资本     核准日期  \\\n",
       "0   1   9.0      NaN   1.0   0.0  266300  19.110000  19.110000  00:00.0   \n",
       "1   3  11.0      NaN   5.0   0.0  266000  29.154194  19.210446  00:00.0   \n",
       "2   9   0.0      NaN   3.0   0.0  266000        NaN  19.120045  13:31.0   \n",
       "3  10   0.0  42:05.0   9.0   0.0  266000        NaN  19.160223  00:00.0   \n",
       "4  14   0.0      NaN   2.0   0.0  266400        NaN  19.210446  00:00.0   \n",
       "\n",
       "     行业代码  ...    应收账款_年末数 一年内到期的非流动资产_年末数 油气资产_年末数  应收补贴款_年末数  应收股利_年末数  \\\n",
       "0  5154.0  ...  142.310005             0.0      0.0        0.0       0.0   \n",
       "1  7214.0  ...         NaN             NaN      NaN        NaN       NaN   \n",
       "2  2110.0  ...         NaN             NaN      NaN        NaN       NaN   \n",
       "3  5163.0  ...         NaN             NaN      NaN        NaN       NaN   \n",
       "4  5439.0  ...  156.901030             0.0      0.0        0.0       0.0   \n",
       "\n",
       "   应收利息_年末数   应收票据_年末数  预付款项_年末数    资产总计_年末数  在建工程_年末数  \n",
       "0       0.0  28.122902  1.004419  632.032182       0.0  \n",
       "1       NaN        NaN       NaN         NaN       NaN  \n",
       "2       NaN        NaN       NaN         NaN       NaN  \n",
       "3       NaN        NaN       NaN         NaN       NaN  \n",
       "4       0.0  10.044194  0.508236  319.205293       0.0  \n",
       "\n",
       "[5 rows x 178 columns]"
      ]
     },
     "execution_count": 5,
     "metadata": {},
     "output_type": "execute_result"
    }
   ],
   "source": [
    "train.head()"
   ]
  },
  {
   "cell_type": "code",
   "execution_count": 6,
   "metadata": {},
   "outputs": [
    {
     "data": {
      "text/plain": [
       "array([ 0,  1,  3,  4,  5,  7,  8,  9, 11, 12, 13, 14, 15, 16, 17, 18, 19,\n",
       "       20, 21], dtype=int64)"
      ]
     },
     "execution_count": 6,
     "metadata": {},
     "output_type": "execute_result"
    }
   ],
   "source": [
    "np.where(train.isnull().sum()/train.shape[0]<0.5 )[0]"
   ]
  },
  {
   "cell_type": "code",
   "execution_count": 7,
   "metadata": {},
   "outputs": [],
   "source": [
    "columns = ['ID', '企业类型', '登记机关', '企业状态', '邮政编码', '注册资本', '核准日期', '行业代码', '经营期限自',\n",
    "       '成立日期', '行业门类', '企业类别', '管辖机关', '经营范围', '增值税', '企业所得税', '印花税', '教育费',\n",
    "       '城建税']"
   ]
  },
  {
   "cell_type": "code",
   "execution_count": 34,
   "metadata": {},
   "outputs": [
    {
     "data": {
      "text/plain": [
       "ID       0.000000\n",
       "企业类型     0.053460\n",
       "登记机关     0.053460\n",
       "企业状态     0.053460\n",
       "邮政编码     0.349993\n",
       "注册资本     0.054086\n",
       "核准日期     0.053808\n",
       "行业代码     0.053947\n",
       "经营期限自    0.056105\n",
       "成立日期     0.053599\n",
       "行业门类     0.053599\n",
       "企业类别     0.053460\n",
       "管辖机关     0.053529\n",
       "经营范围     0.000000\n",
       "增值税      0.045385\n",
       "企业所得税    0.200195\n",
       "印花税      0.092301\n",
       "教育费      0.000000\n",
       "城建税      0.041139\n",
       "dtype: float64"
      ]
     },
     "execution_count": 34,
     "metadata": {},
     "output_type": "execute_result"
    }
   ],
   "source": [
    "train[columns].isnull().sum()/train.shape[0]"
   ]
  },
  {
   "cell_type": "code",
   "execution_count": 8,
   "metadata": {},
   "outputs": [
    {
     "data": {
      "text/plain": [
       "0    244\n",
       "1    126\n",
       "2     53\n",
       "3     59\n",
       "4    248\n",
       "Name: 经营范围, dtype: int64"
      ]
     },
     "execution_count": 8,
     "metadata": {},
     "output_type": "execute_result"
    }
   ],
   "source": [
    "train['经营范围'].map(lambda x: len(x)).head()"
   ]
  },
  {
   "cell_type": "code",
   "execution_count": 9,
   "metadata": {},
   "outputs": [],
   "source": [
    "feature = [ '企业类型', '登记机关', '企业状态', '注册资本', '行业代码', \n",
    "        '行业门类', '企业类别', '管辖机关', '经营范围', '增值税', '企业所得税', '印花税', '教育费',\n",
    "       '城建税']"
   ]
  },
  {
   "cell_type": "code",
   "execution_count": 10,
   "metadata": {},
   "outputs": [
    {
     "data": {
      "text/html": [
       "<div>\n",
       "<style scoped>\n",
       "    .dataframe tbody tr th:only-of-type {\n",
       "        vertical-align: middle;\n",
       "    }\n",
       "\n",
       "    .dataframe tbody tr th {\n",
       "        vertical-align: top;\n",
       "    }\n",
       "\n",
       "    .dataframe thead th {\n",
       "        text-align: right;\n",
       "    }\n",
       "</style>\n",
       "<table border=\"1\" class=\"dataframe\">\n",
       "  <thead>\n",
       "    <tr style=\"text-align: right;\">\n",
       "      <th></th>\n",
       "      <th>企业类型</th>\n",
       "      <th>登记机关</th>\n",
       "      <th>企业状态</th>\n",
       "      <th>注册资本</th>\n",
       "      <th>行业代码</th>\n",
       "      <th>行业门类</th>\n",
       "      <th>企业类别</th>\n",
       "      <th>管辖机关</th>\n",
       "      <th>经营范围</th>\n",
       "      <th>增值税</th>\n",
       "      <th>企业所得税</th>\n",
       "      <th>印花税</th>\n",
       "      <th>教育费</th>\n",
       "      <th>城建税</th>\n",
       "    </tr>\n",
       "  </thead>\n",
       "  <tbody>\n",
       "    <tr>\n",
       "      <th>0</th>\n",
       "      <td>9.0</td>\n",
       "      <td>1.0</td>\n",
       "      <td>0.0</td>\n",
       "      <td>19.110000</td>\n",
       "      <td>5154.0</td>\n",
       "      <td>1.0</td>\n",
       "      <td>0.0</td>\n",
       "      <td>1.0</td>\n",
       "      <td>[1412, 1024, 21375, 15023, 18526, 18789, 17022...</td>\n",
       "      <td>106.039650</td>\n",
       "      <td>0.331552</td>\n",
       "      <td>1.247218</td>\n",
       "      <td>3.181189</td>\n",
       "      <td>7.422776</td>\n",
       "    </tr>\n",
       "    <tr>\n",
       "      <th>1</th>\n",
       "      <td>11.0</td>\n",
       "      <td>5.0</td>\n",
       "      <td>0.0</td>\n",
       "      <td>19.210446</td>\n",
       "      <td>7214.0</td>\n",
       "      <td>0.0</td>\n",
       "      <td>2.0</td>\n",
       "      <td>3.0</td>\n",
       "      <td>[3671, 24856, 13525, 21079, 13219, 13694, 1442...</td>\n",
       "      <td>39.175600</td>\n",
       "      <td>51.244655</td>\n",
       "      <td>0.014363</td>\n",
       "      <td>1.175269</td>\n",
       "      <td>2.742293</td>\n",
       "    </tr>\n",
       "    <tr>\n",
       "      <th>2</th>\n",
       "      <td>0.0</td>\n",
       "      <td>3.0</td>\n",
       "      <td>0.0</td>\n",
       "      <td>19.120045</td>\n",
       "      <td>2110.0</td>\n",
       "      <td>2.0</td>\n",
       "      <td>0.0</td>\n",
       "      <td>4.0</td>\n",
       "      <td>[3671, 14394, 23662, 11227, 19205, 15633, 5344...</td>\n",
       "      <td>0.000000</td>\n",
       "      <td>0.000000</td>\n",
       "      <td>0.541067</td>\n",
       "      <td>4.637491</td>\n",
       "      <td>10.060346</td>\n",
       "    </tr>\n",
       "    <tr>\n",
       "      <th>3</th>\n",
       "      <td>0.0</td>\n",
       "      <td>9.0</td>\n",
       "      <td>0.0</td>\n",
       "      <td>19.160223</td>\n",
       "      <td>5163.0</td>\n",
       "      <td>1.0</td>\n",
       "      <td>0.0</td>\n",
       "      <td>8.0</td>\n",
       "      <td>[3287, 17425, 7503, 19922, 12217, 5089, 24884,...</td>\n",
       "      <td>0.027578</td>\n",
       "      <td>0.000000</td>\n",
       "      <td>0.008166</td>\n",
       "      <td>0.001318</td>\n",
       "      <td>0.001930</td>\n",
       "    </tr>\n",
       "    <tr>\n",
       "      <th>4</th>\n",
       "      <td>0.0</td>\n",
       "      <td>2.0</td>\n",
       "      <td>0.0</td>\n",
       "      <td>19.210446</td>\n",
       "      <td>5439.0</td>\n",
       "      <td>4.0</td>\n",
       "      <td>0.0</td>\n",
       "      <td>2.0</td>\n",
       "      <td>[10573, 2876, 12295, 12295, 12295, 12295, 1229...</td>\n",
       "      <td>29.784126</td>\n",
       "      <td>1.134480</td>\n",
       "      <td>0.001004</td>\n",
       "      <td>0.893524</td>\n",
       "      <td>2.084889</td>\n",
       "    </tr>\n",
       "  </tbody>\n",
       "</table>\n",
       "</div>"
      ],
      "text/plain": [
       "   企业类型  登记机关  企业状态       注册资本    行业代码  行业门类  企业类别  管辖机关  \\\n",
       "0   9.0   1.0   0.0  19.110000  5154.0   1.0   0.0   1.0   \n",
       "1  11.0   5.0   0.0  19.210446  7214.0   0.0   2.0   3.0   \n",
       "2   0.0   3.0   0.0  19.120045  2110.0   2.0   0.0   4.0   \n",
       "3   0.0   9.0   0.0  19.160223  5163.0   1.0   0.0   8.0   \n",
       "4   0.0   2.0   0.0  19.210446  5439.0   4.0   0.0   2.0   \n",
       "\n",
       "                                                经营范围         增值税      企业所得税  \\\n",
       "0  [1412, 1024, 21375, 15023, 18526, 18789, 17022...  106.039650   0.331552   \n",
       "1  [3671, 24856, 13525, 21079, 13219, 13694, 1442...   39.175600  51.244655   \n",
       "2  [3671, 14394, 23662, 11227, 19205, 15633, 5344...    0.000000   0.000000   \n",
       "3  [3287, 17425, 7503, 19922, 12217, 5089, 24884,...    0.027578   0.000000   \n",
       "4  [10573, 2876, 12295, 12295, 12295, 12295, 1229...   29.784126   1.134480   \n",
       "\n",
       "        印花税       教育费        城建税  \n",
       "0  1.247218  3.181189   7.422776  \n",
       "1  0.014363  1.175269   2.742293  \n",
       "2  0.541067  4.637491  10.060346  \n",
       "3  0.008166  0.001318   0.001930  \n",
       "4  0.001004  0.893524   2.084889  "
      ]
     },
     "execution_count": 10,
     "metadata": {},
     "output_type": "execute_result"
    }
   ],
   "source": [
    "train[feature].head()"
   ]
  },
  {
   "cell_type": "code",
   "execution_count": 11,
   "metadata": {},
   "outputs": [],
   "source": [
    "train = train.merge(train_label,on='ID',how = 'left')"
   ]
  },
  {
   "cell_type": "code",
   "execution_count": 12,
   "metadata": {},
   "outputs": [
    {
     "name": "stderr",
     "output_type": "stream",
     "text": [
      "C:\\ProgramData\\Anaconda3\\lib\\site-packages\\pandas\\core\\frame.py:6692: FutureWarning: Sorting because non-concatenation axis is not aligned. A future version\n",
      "of pandas will change to not sort by default.\n",
      "\n",
      "To accept the future behavior, pass 'sort=False'.\n",
      "\n",
      "To retain the current behavior and silence the warning, pass 'sort=True'.\n",
      "\n",
      "  sort=sort)\n"
     ]
    }
   ],
   "source": [
    "data = train.append(test)"
   ]
  },
  {
   "cell_type": "code",
   "execution_count": 13,
   "metadata": {},
   "outputs": [],
   "source": [
    "data['经营范围'] = data['经营范围'].map(lambda x : len(x))"
   ]
  },
  {
   "cell_type": "code",
   "execution_count": 14,
   "metadata": {},
   "outputs": [
    {
     "name": "stderr",
     "output_type": "stream",
     "text": [
      "100%|████████████████████████████████████████████████████████████████████████████████████| 4/4 [00:00<00:00, 43.98it/s]\n"
     ]
    },
    {
     "data": {
      "text/plain": [
       "scpustats(ctx_switches=2984550045, interrupts=2264253933, soft_interrupts=0, syscalls=2793023244)"
      ]
     },
     "execution_count": 14,
     "metadata": {},
     "output_type": "execute_result"
    }
   ],
   "source": [
    "object_col = ['企业类型','行业门类', '企业类别', '管辖机关']\n",
    "for i in tqdm(object_col):  # 进度条\n",
    "    lbl = LabelEncoder()\n",
    "    data[i] = lbl.fit_transform(data[i].astype(str))\n",
    "    data[i] = data[i]\n",
    "cpu_stats()"
   ]
  },
  {
   "cell_type": "code",
   "execution_count": 16,
   "metadata": {},
   "outputs": [
    {
     "data": {
      "text/html": [
       "<div>\n",
       "<style scoped>\n",
       "    .dataframe tbody tr th:only-of-type {\n",
       "        vertical-align: middle;\n",
       "    }\n",
       "\n",
       "    .dataframe tbody tr th {\n",
       "        vertical-align: top;\n",
       "    }\n",
       "\n",
       "    .dataframe thead th {\n",
       "        text-align: right;\n",
       "    }\n",
       "</style>\n",
       "<table border=\"1\" class=\"dataframe\">\n",
       "  <thead>\n",
       "    <tr style=\"text-align: right;\">\n",
       "      <th></th>\n",
       "      <th>企业类型</th>\n",
       "      <th>登记机关</th>\n",
       "      <th>企业状态</th>\n",
       "      <th>注册资本</th>\n",
       "      <th>行业代码</th>\n",
       "      <th>行业门类</th>\n",
       "      <th>企业类别</th>\n",
       "      <th>管辖机关</th>\n",
       "      <th>经营范围</th>\n",
       "      <th>增值税</th>\n",
       "      <th>企业所得税</th>\n",
       "      <th>印花税</th>\n",
       "      <th>教育费</th>\n",
       "      <th>城建税</th>\n",
       "    </tr>\n",
       "  </thead>\n",
       "  <tbody>\n",
       "    <tr>\n",
       "      <th>0</th>\n",
       "      <td>83</td>\n",
       "      <td>1.0</td>\n",
       "      <td>0.0</td>\n",
       "      <td>19.110000</td>\n",
       "      <td>5154.0</td>\n",
       "      <td>1</td>\n",
       "      <td>0</td>\n",
       "      <td>1</td>\n",
       "      <td>244</td>\n",
       "      <td>106.039650</td>\n",
       "      <td>0.331552</td>\n",
       "      <td>1.247218</td>\n",
       "      <td>3.181189</td>\n",
       "      <td>7.422776</td>\n",
       "    </tr>\n",
       "    <tr>\n",
       "      <th>1</th>\n",
       "      <td>3</td>\n",
       "      <td>5.0</td>\n",
       "      <td>0.0</td>\n",
       "      <td>19.210446</td>\n",
       "      <td>7214.0</td>\n",
       "      <td>0</td>\n",
       "      <td>2</td>\n",
       "      <td>6</td>\n",
       "      <td>126</td>\n",
       "      <td>39.175600</td>\n",
       "      <td>51.244655</td>\n",
       "      <td>0.014363</td>\n",
       "      <td>1.175269</td>\n",
       "      <td>2.742293</td>\n",
       "    </tr>\n",
       "    <tr>\n",
       "      <th>2</th>\n",
       "      <td>0</td>\n",
       "      <td>3.0</td>\n",
       "      <td>0.0</td>\n",
       "      <td>19.120045</td>\n",
       "      <td>2110.0</td>\n",
       "      <td>12</td>\n",
       "      <td>0</td>\n",
       "      <td>7</td>\n",
       "      <td>53</td>\n",
       "      <td>0.000000</td>\n",
       "      <td>0.000000</td>\n",
       "      <td>0.541067</td>\n",
       "      <td>4.637491</td>\n",
       "      <td>10.060346</td>\n",
       "    </tr>\n",
       "    <tr>\n",
       "      <th>3</th>\n",
       "      <td>0</td>\n",
       "      <td>9.0</td>\n",
       "      <td>0.0</td>\n",
       "      <td>19.160223</td>\n",
       "      <td>5163.0</td>\n",
       "      <td>1</td>\n",
       "      <td>0</td>\n",
       "      <td>11</td>\n",
       "      <td>59</td>\n",
       "      <td>0.027578</td>\n",
       "      <td>0.000000</td>\n",
       "      <td>0.008166</td>\n",
       "      <td>0.001318</td>\n",
       "      <td>0.001930</td>\n",
       "    </tr>\n",
       "    <tr>\n",
       "      <th>4</th>\n",
       "      <td>0</td>\n",
       "      <td>2.0</td>\n",
       "      <td>0.0</td>\n",
       "      <td>19.210446</td>\n",
       "      <td>5439.0</td>\n",
       "      <td>14</td>\n",
       "      <td>0</td>\n",
       "      <td>5</td>\n",
       "      <td>248</td>\n",
       "      <td>29.784126</td>\n",
       "      <td>1.134480</td>\n",
       "      <td>0.001004</td>\n",
       "      <td>0.893524</td>\n",
       "      <td>2.084889</td>\n",
       "    </tr>\n",
       "  </tbody>\n",
       "</table>\n",
       "</div>"
      ],
      "text/plain": [
       "   企业类型  登记机关  企业状态       注册资本    行业代码  行业门类  企业类别  管辖机关  经营范围         增值税  \\\n",
       "0    83   1.0   0.0  19.110000  5154.0     1     0     1   244  106.039650   \n",
       "1     3   5.0   0.0  19.210446  7214.0     0     2     6   126   39.175600   \n",
       "2     0   3.0   0.0  19.120045  2110.0    12     0     7    53    0.000000   \n",
       "3     0   9.0   0.0  19.160223  5163.0     1     0    11    59    0.027578   \n",
       "4     0   2.0   0.0  19.210446  5439.0    14     0     5   248   29.784126   \n",
       "\n",
       "       企业所得税       印花税       教育费        城建税  \n",
       "0   0.331552  1.247218  3.181189   7.422776  \n",
       "1  51.244655  0.014363  1.175269   2.742293  \n",
       "2   0.000000  0.541067  4.637491  10.060346  \n",
       "3   0.000000  0.008166  0.001318   0.001930  \n",
       "4   1.134480  0.001004  0.893524   2.084889  "
      ]
     },
     "execution_count": 16,
     "metadata": {},
     "output_type": "execute_result"
    }
   ],
   "source": [
    "data[feature].head()"
   ]
  },
  {
   "cell_type": "code",
   "execution_count": 42,
   "metadata": {},
   "outputs": [],
   "source": [
    "data['企业所得税与增值税之比'] = data['增值税']/data['企业所得税']"
   ]
  },
  {
   "cell_type": "code",
   "execution_count": 43,
   "metadata": {},
   "outputs": [],
   "source": [
    "feature += ['企业所得税与增值税之比']"
   ]
  },
  {
   "cell_type": "code",
   "execution_count": 44,
   "metadata": {},
   "outputs": [
    {
     "name": "stdout",
     "output_type": "stream",
     "text": [
      "(14366, 180) (9578, 180)\n"
     ]
    }
   ],
   "source": [
    "tr_index = ~data['Label'].isnull()\n",
    "train = data[tr_index].reset_index(drop=True)\n",
    "y = data[tr_index]['Label'].reset_index(drop=True).astype(int)\n",
    "test = data[~tr_index].reset_index(drop=True)\n",
    "print(train.shape,test.shape)"
   ]
  },
  {
   "cell_type": "code",
   "execution_count": 45,
   "metadata": {},
   "outputs": [],
   "source": [
    "from sklearn.metrics import roc_auc_score"
   ]
  },
  {
   "cell_type": "code",
   "execution_count": 46,
   "metadata": {},
   "outputs": [],
   "source": [
    "def lgb_roc_auc_score(y_hat, data):\n",
    "    y_true = data.get_label()\n",
    "    y_hat = np.round(y_hat) \n",
    "    return 'f1', roc_auc_score(y_true, y_hat), True"
   ]
  },
  {
   "cell_type": "code",
   "execution_count": 47,
   "metadata": {},
   "outputs": [],
   "source": [
    "lgb_paras = {'objective': 'binary',\n",
    "             'learning_rate': 0.1 ,\n",
    "             'max_depth': 6 ,\n",
    "             'feature_fraction': 0.8, \n",
    "             'bagging_fraction' : 0.8,\n",
    "             'num_threads':-1}"
   ]
  },
  {
   "cell_type": "code",
   "execution_count": 48,
   "metadata": {},
   "outputs": [],
   "source": [
    "fi = []\n",
    "cv_score = []\n",
    "test_pred = np.zeros((test.shape[0],))\n",
    "skf = StratifiedKFold(n_splits=5, random_state=2019, shuffle=True)"
   ]
  },
  {
   "cell_type": "code",
   "execution_count": 49,
   "metadata": {},
   "outputs": [
    {
     "name": "stdout",
     "output_type": "stream",
     "text": [
      "0\n"
     ]
    },
    {
     "name": "stderr",
     "output_type": "stream",
     "text": [
      "C:\\ProgramData\\Anaconda3\\lib\\site-packages\\lightgbm\\basic.py:1161: UserWarning: categorical_feature in Dataset is overridden. New categorical_feature is ['企业类别', '企业类型', '管辖机关', '行业门类']\n",
      "  warnings.warn('categorical_feature in Dataset is overridden. New categorical_feature is {}'.format(sorted(list(categorical_feature))))\n",
      "C:\\ProgramData\\Anaconda3\\lib\\site-packages\\lightgbm\\basic.py:725: UserWarning: categorical_feature in param dict is overridden.\n",
      "  warnings.warn('categorical_feature in param dict is overridden.')\n"
     ]
    },
    {
     "name": "stdout",
     "output_type": "stream",
     "text": [
      "[50]\tvalid_0's binary_logloss: 0.162648\tvalid_0's f1: 0.514794\n",
      "[100]\tvalid_0's binary_logloss: 0.170058\tvalid_0's f1: 0.522024\n",
      "[150]\tvalid_0's binary_logloss: 0.17755\tvalid_0's f1: 0.544158\n",
      "[200]\tvalid_0's binary_logloss: 0.184095\tvalid_0's f1: 0.559472\n",
      "[250]\tvalid_0's binary_logloss: 0.189648\tvalid_0's f1: 0.569309\n",
      "[300]\tvalid_0's binary_logloss: 0.198754\tvalid_0's f1: 0.571024\n",
      "[350]\tvalid_0's binary_logloss: 0.207402\tvalid_0's f1: 0.576501\n",
      "[400]\tvalid_0's binary_logloss: 0.215788\tvalid_0's f1: 0.583134\n",
      "[450]\tvalid_0's binary_logloss: 0.224053\tvalid_0's f1: 0.58332\n",
      "[500]\tvalid_0's binary_logloss: 0.231047\tvalid_0's f1: 0.575384\n",
      "[550]\tvalid_0's binary_logloss: 0.240345\tvalid_0's f1: 0.572552\n",
      "[600]\tvalid_0's binary_logloss: 0.248321\tvalid_0's f1: 0.576912\n",
      "[650]\tvalid_0's binary_logloss: 0.255999\tvalid_0's f1: 0.579743\n",
      "[700]\tvalid_0's binary_logloss: 0.263945\tvalid_0's f1: 0.579743\n",
      "[750]\tvalid_0's binary_logloss: 0.272888\tvalid_0's f1: 0.579371\n",
      "[800]\tvalid_0's binary_logloss: 0.278379\tvalid_0's f1: 0.573335\n",
      "0.5759806095001626\n",
      "0.5759806095001626\n",
      "1\n"
     ]
    },
    {
     "name": "stderr",
     "output_type": "stream",
     "text": [
      "C:\\ProgramData\\Anaconda3\\lib\\site-packages\\lightgbm\\basic.py:1161: UserWarning: categorical_feature in Dataset is overridden. New categorical_feature is ['企业类别', '企业类型', '管辖机关', '行业门类']\n",
      "  warnings.warn('categorical_feature in Dataset is overridden. New categorical_feature is {}'.format(sorted(list(categorical_feature))))\n",
      "C:\\ProgramData\\Anaconda3\\lib\\site-packages\\lightgbm\\basic.py:725: UserWarning: categorical_feature in param dict is overridden.\n",
      "  warnings.warn('categorical_feature in param dict is overridden.')\n"
     ]
    },
    {
     "name": "stdout",
     "output_type": "stream",
     "text": [
      "[50]\tvalid_0's binary_logloss: 0.146684\tvalid_0's f1: 0.520159\n",
      "[100]\tvalid_0's binary_logloss: 0.151917\tvalid_0's f1: 0.540132\n",
      "[150]\tvalid_0's binary_logloss: 0.157976\tvalid_0's f1: 0.551754\n",
      "[200]\tvalid_0's binary_logloss: 0.164599\tvalid_0's f1: 0.556515\n",
      "[250]\tvalid_0's binary_logloss: 0.171724\tvalid_0's f1: 0.571355\n",
      "[300]\tvalid_0's binary_logloss: 0.178674\tvalid_0's f1: 0.574014\n",
      "[350]\tvalid_0's binary_logloss: 0.18475\tvalid_0's f1: 0.589413\n",
      "[400]\tvalid_0's binary_logloss: 0.192097\tvalid_0's f1: 0.586754\n",
      "[450]\tvalid_0's binary_logloss: 0.198589\tvalid_0's f1: 0.591514\n",
      "[500]\tvalid_0's binary_logloss: 0.206692\tvalid_0's f1: 0.604626\n",
      "[550]\tvalid_0's binary_logloss: 0.215037\tvalid_0's f1: 0.596461\n",
      "[600]\tvalid_0's binary_logloss: 0.220256\tvalid_0's f1: 0.604067\n",
      "[650]\tvalid_0's binary_logloss: 0.226639\tvalid_0's f1: 0.596275\n",
      "[700]\tvalid_0's binary_logloss: 0.233855\tvalid_0's f1: 0.590397\n",
      "[750]\tvalid_0's binary_logloss: 0.242771\tvalid_0's f1: 0.603695\n",
      "[800]\tvalid_0's binary_logloss: 0.250913\tvalid_0's f1: 0.59553\n",
      "0.5873647925829073\n",
      "0.5873647925829073\n",
      "2\n"
     ]
    },
    {
     "name": "stderr",
     "output_type": "stream",
     "text": [
      "C:\\ProgramData\\Anaconda3\\lib\\site-packages\\lightgbm\\basic.py:1161: UserWarning: categorical_feature in Dataset is overridden. New categorical_feature is ['企业类别', '企业类型', '管辖机关', '行业门类']\n",
      "  warnings.warn('categorical_feature in Dataset is overridden. New categorical_feature is {}'.format(sorted(list(categorical_feature))))\n",
      "C:\\ProgramData\\Anaconda3\\lib\\site-packages\\lightgbm\\basic.py:725: UserWarning: categorical_feature in param dict is overridden.\n",
      "  warnings.warn('categorical_feature in param dict is overridden.')\n"
     ]
    },
    {
     "name": "stdout",
     "output_type": "stream",
     "text": [
      "[50]\tvalid_0's binary_logloss: 0.146063\tvalid_0's f1: 0.543403\n",
      "[100]\tvalid_0's binary_logloss: 0.152318\tvalid_0's f1: 0.54061\n",
      "[150]\tvalid_0's binary_logloss: 0.159159\tvalid_0's f1: 0.546726\n",
      "[200]\tvalid_0's binary_logloss: 0.168235\tvalid_0's f1: 0.551673\n",
      "[250]\tvalid_0's binary_logloss: 0.17582\tvalid_0's f1: 0.558162\n",
      "[300]\tvalid_0's binary_logloss: 0.184495\tvalid_0's f1: 0.554571\n",
      "[350]\tvalid_0's binary_logloss: 0.192499\tvalid_0's f1: 0.557045\n",
      "[400]\tvalid_0's binary_logloss: 0.202005\tvalid_0's f1: 0.559332\n",
      "[450]\tvalid_0's binary_logloss: 0.209339\tvalid_0's f1: 0.564837\n",
      "[500]\tvalid_0's binary_logloss: 0.214647\tvalid_0's f1: 0.567497\n",
      "[550]\tvalid_0's binary_logloss: 0.222312\tvalid_0's f1: 0.569784\n",
      "[600]\tvalid_0's binary_logloss: 0.231126\tvalid_0's f1: 0.567311\n",
      "[650]\tvalid_0's binary_logloss: 0.239909\tvalid_0's f1: 0.574917\n",
      "[700]\tvalid_0's binary_logloss: 0.246547\tvalid_0's f1: 0.579677\n",
      "[750]\tvalid_0's binary_logloss: 0.253331\tvalid_0's f1: 0.579864\n",
      "[800]\tvalid_0's binary_logloss: 0.260372\tvalid_0's f1: 0.577576\n",
      "0.5773901501644282\n",
      "0.5773901501644282\n",
      "3\n"
     ]
    },
    {
     "name": "stderr",
     "output_type": "stream",
     "text": [
      "C:\\ProgramData\\Anaconda3\\lib\\site-packages\\lightgbm\\basic.py:1161: UserWarning: categorical_feature in Dataset is overridden. New categorical_feature is ['企业类别', '企业类型', '管辖机关', '行业门类']\n",
      "  warnings.warn('categorical_feature in Dataset is overridden. New categorical_feature is {}'.format(sorted(list(categorical_feature))))\n",
      "C:\\ProgramData\\Anaconda3\\lib\\site-packages\\lightgbm\\basic.py:725: UserWarning: categorical_feature in param dict is overridden.\n",
      "  warnings.warn('categorical_feature in param dict is overridden.')\n"
     ]
    },
    {
     "name": "stdout",
     "output_type": "stream",
     "text": [
      "[50]\tvalid_0's binary_logloss: 0.145728\tvalid_0's f1: 0.51867\n",
      "[100]\tvalid_0's binary_logloss: 0.150539\tvalid_0's f1: 0.521009\n",
      "[150]\tvalid_0's binary_logloss: 0.157284\tvalid_0's f1: 0.532445\n",
      "[200]\tvalid_0's binary_logloss: 0.164514\tvalid_0's f1: 0.544998\n",
      "[250]\tvalid_0's binary_logloss: 0.17293\tvalid_0's f1: 0.552045\n",
      "[300]\tvalid_0's binary_logloss: 0.18032\tvalid_0's f1: 0.556806\n",
      "[350]\tvalid_0's binary_logloss: 0.188096\tvalid_0's f1: 0.565768\n",
      "[400]\tvalid_0's binary_logloss: 0.196618\tvalid_0's f1: 0.570715\n",
      "[450]\tvalid_0's binary_logloss: 0.204687\tvalid_0's f1: 0.572816\n",
      "[500]\tvalid_0's binary_logloss: 0.210945\tvalid_0's f1: 0.569598\n",
      "[550]\tvalid_0's binary_logloss: 0.218455\tvalid_0's f1: 0.574917\n",
      "[600]\tvalid_0's binary_logloss: 0.226844\tvalid_0's f1: 0.564278\n",
      "[650]\tvalid_0's binary_logloss: 0.232189\tvalid_0's f1: 0.57739\n",
      "[700]\tvalid_0's binary_logloss: 0.238178\tvalid_0's f1: 0.577018\n",
      "[750]\tvalid_0's binary_logloss: 0.244379\tvalid_0's f1: 0.574544\n",
      "[800]\tvalid_0's binary_logloss: 0.251523\tvalid_0's f1: 0.573055\n",
      "0.5677354491065414\n",
      "0.5677354491065414\n",
      "4\n"
     ]
    },
    {
     "name": "stderr",
     "output_type": "stream",
     "text": [
      "C:\\ProgramData\\Anaconda3\\lib\\site-packages\\lightgbm\\basic.py:1161: UserWarning: categorical_feature in Dataset is overridden. New categorical_feature is ['企业类别', '企业类型', '管辖机关', '行业门类']\n",
      "  warnings.warn('categorical_feature in Dataset is overridden. New categorical_feature is {}'.format(sorted(list(categorical_feature))))\n",
      "C:\\ProgramData\\Anaconda3\\lib\\site-packages\\lightgbm\\basic.py:725: UserWarning: categorical_feature in param dict is overridden.\n",
      "  warnings.warn('categorical_feature in param dict is overridden.')\n"
     ]
    },
    {
     "name": "stdout",
     "output_type": "stream",
     "text": [
      "[50]\tvalid_0's binary_logloss: 0.146882\tvalid_0's f1: 0.543031\n",
      "[100]\tvalid_0's binary_logloss: 0.151188\tvalid_0's f1: 0.543642\n",
      "[150]\tvalid_0's binary_logloss: 0.157367\tvalid_0's f1: 0.55279\n",
      "[200]\tvalid_0's binary_logloss: 0.163919\tvalid_0's f1: 0.561753\n",
      "[250]\tvalid_0's binary_logloss: 0.17168\tvalid_0's f1: 0.563481\n",
      "[300]\tvalid_0's binary_logloss: 0.179083\tvalid_0's f1: 0.576034\n",
      "[350]\tvalid_0's binary_logloss: 0.185483\tvalid_0's f1: 0.594517\n",
      "[400]\tvalid_0's binary_logloss: 0.194152\tvalid_0's f1: 0.591485\n",
      "[450]\tvalid_0's binary_logloss: 0.202529\tvalid_0's f1: 0.590927\n",
      "[500]\tvalid_0's binary_logloss: 0.210943\tvalid_0's f1: 0.576831\n",
      "[550]\tvalid_0's binary_logloss: 0.220544\tvalid_0's f1: 0.576459\n",
      "[600]\tvalid_0's binary_logloss: 0.227816\tvalid_0's f1: 0.573986\n",
      "[650]\tvalid_0's binary_logloss: 0.236338\tvalid_0's f1: 0.576831\n",
      "[700]\tvalid_0's binary_logloss: 0.244765\tvalid_0's f1: 0.573241\n",
      "[750]\tvalid_0's binary_logloss: 0.252581\tvalid_0's f1: 0.573427\n",
      "[800]\tvalid_0's binary_logloss: 0.260603\tvalid_0's f1: 0.567922\n",
      "0.5677354491065414\n",
      "0.5677354491065414\n"
     ]
    },
    {
     "data": {
      "text/plain": [
       "scpustats(ctx_switches=1313470056, interrupts=918837846, soft_interrupts=0, syscalls=3371691635)"
      ]
     },
     "execution_count": 49,
     "metadata": {},
     "output_type": "execute_result"
    }
   ],
   "source": [
    "for index, (train_index, test_index) in enumerate(skf.split(train, y)):\n",
    "    print(index)\n",
    "    train_x, test_x, train_y, test_y = train.iloc[train_index],train.iloc[test_index], y.iloc[train_index], y.iloc[test_index]\n",
    "    lgb_model = lgb.train(lgb_paras,\n",
    "                          train_set = lgb.Dataset(train_x[feature], train_y),\n",
    "                          valid_sets=[lgb.Dataset(test_x[feature],test_y)],\n",
    "                          \n",
    "                          num_boost_round=800 ,\n",
    "                          feval=lgb_roc_auc_score,\n",
    "                          verbose_eval=50,\n",
    "                          categorical_feature = object_col\n",
    "                          )\n",
    "\n",
    "    \n",
    "\n",
    "    y_val = lgb_model.predict(test_x[feature])\n",
    "    \n",
    "    print( roc_auc_score( test_y , np.round( y_val) ) )\n",
    "    \n",
    "    \n",
    "    cv_score.append(roc_auc_score(test_y,np.round(y_val)))\n",
    "    \n",
    "    print(cv_score[index])\n",
    "    \n",
    "    test_pred += lgb_model.predict(test[feature]) / 5\n",
    "        \n",
    "cpu_stats()\n"
   ]
  },
  {
   "cell_type": "code",
   "execution_count": 50,
   "metadata": {},
   "outputs": [],
   "source": [
    "submission['Label'] = test_pred\n",
    "\n",
    "submission.to_csv('submission.csv',index=False)"
   ]
  },
  {
   "cell_type": "code",
   "execution_count": null,
   "metadata": {},
   "outputs": [],
   "source": []
  }
 ],
 "metadata": {
  "kernelspec": {
   "display_name": "Python 3",
   "language": "python",
   "name": "python3"
  },
  "language_info": {
   "codemirror_mode": {
    "name": "ipython",
    "version": 3
   },
   "file_extension": ".py",
   "mimetype": "text/x-python",
   "name": "python",
   "nbconvert_exporter": "python",
   "pygments_lexer": "ipython3",
   "version": "3.7.3"
  }
 },
 "nbformat": 4,
 "nbformat_minor": 2
}
