{
 "cells": [
  {
   "cell_type": "code",
   "execution_count": 169,
   "metadata": {},
   "outputs": [],
   "source": [
    "import pandas as pd\n",
    "import numpy as np\n",
    "from sklearn.model_selection import train_test_split\n",
    "from sklearn.preprocessing import LabelEncoder\n",
    "import warnings\n",
    "from sklearn import linear_model\n",
    "import matplotlib.pyplot as plt\n",
    "from sklearn import preprocessing"
   ]
  },
  {
   "cell_type": "code",
   "execution_count": 170,
   "metadata": {},
   "outputs": [],
   "source": [
    "warnings.filterwarnings('ignore') # 避免sklearn的一些警告"
   ]
  },
  {
   "cell_type": "code",
   "execution_count": 171,
   "metadata": {},
   "outputs": [],
   "source": [
    "pf = pd.read_excel(r\"E:\\比赛相关\\污染源\\白酒行业参数一览表.xls\", sheet_name='总表',encodig='utf8')"
   ]
  },
  {
   "cell_type": "code",
   "execution_count": 172,
   "metadata": {
    "scrolled": true
   },
   "outputs": [
    {
     "data": {
      "text/html": [
       "<div>\n",
       "<style scoped>\n",
       "    .dataframe tbody tr th:only-of-type {\n",
       "        vertical-align: middle;\n",
       "    }\n",
       "\n",
       "    .dataframe tbody tr th {\n",
       "        vertical-align: top;\n",
       "    }\n",
       "\n",
       "    .dataframe thead th {\n",
       "        text-align: right;\n",
       "    }\n",
       "</style>\n",
       "<table border=\"1\" class=\"dataframe\">\n",
       "  <thead>\n",
       "    <tr style=\"text-align: right;\">\n",
       "      <th></th>\n",
       "      <th>单位详细名称</th>\n",
       "      <th>行业名称1</th>\n",
       "      <th>行业代码1</th>\n",
       "      <th>工业总产值(当年价格)(千元)</th>\n",
       "      <th>用水量（万吨）</th>\n",
       "      <th>排水量（万吨）</th>\n",
       "      <th>是否进入污水处理厂</th>\n",
       "      <th>污染类别</th>\n",
       "      <th>原料名称</th>\n",
       "      <th>产品名称</th>\n",
       "      <th>...</th>\n",
       "      <th>污染治理设施实际运行参数二名称</th>\n",
       "      <th>污染治理设施实际运行参数二数值</th>\n",
       "      <th>污染治理设施实际运行参数三名称</th>\n",
       "      <th>污染治理设施实际运行参数三数值</th>\n",
       "      <th>污染物排放量</th>\n",
       "      <th>污染物排放量计量单位</th>\n",
       "      <th>K值计算结果</th>\n",
       "      <th>K值核算填报结果</th>\n",
       "      <th>是否有监测数据</th>\n",
       "      <th>监测法核算排放量（吨）</th>\n",
       "    </tr>\n",
       "  </thead>\n",
       "  <tbody>\n",
       "    <tr>\n",
       "      <td>0</td>\n",
       "      <td>永川区清泉酒厂</td>\n",
       "      <td>白酒制造</td>\n",
       "      <td>1512</td>\n",
       "      <td>20.0</td>\n",
       "      <td>0.007</td>\n",
       "      <td>0.0063</td>\n",
       "      <td>三教工业园区污水处理厂</td>\n",
       "      <td>废水</td>\n",
       "      <td>高粱、稻米等</td>\n",
       "      <td>清香型白酒</td>\n",
       "      <td>...</td>\n",
       "      <td>污水处理设施总额定功率</td>\n",
       "      <td>4千瓦</td>\n",
       "      <td>污水处理设施耗电量</td>\n",
       "      <td>1300千瓦时/年</td>\n",
       "      <td>0.000297</td>\n",
       "      <td>吨</td>\n",
       "      <td>1.0</td>\n",
       "      <td>1.0</td>\n",
       "      <td>/</td>\n",
       "      <td>NaN</td>\n",
       "    </tr>\n",
       "    <tr>\n",
       "      <td>1</td>\n",
       "      <td>永川区清泉酒厂</td>\n",
       "      <td>白酒制造</td>\n",
       "      <td>1512</td>\n",
       "      <td>20.0</td>\n",
       "      <td>0.007</td>\n",
       "      <td>0.0063</td>\n",
       "      <td>三教工业园区污水处理厂</td>\n",
       "      <td>废水</td>\n",
       "      <td>高粱、稻米等</td>\n",
       "      <td>清香型白酒</td>\n",
       "      <td>...</td>\n",
       "      <td>污水处理设施总额定功率</td>\n",
       "      <td>4千瓦</td>\n",
       "      <td>污水处理设施耗电量</td>\n",
       "      <td>1300千瓦时/年</td>\n",
       "      <td>0.000015</td>\n",
       "      <td>吨</td>\n",
       "      <td>1.0</td>\n",
       "      <td>1.0</td>\n",
       "      <td>/</td>\n",
       "      <td>NaN</td>\n",
       "    </tr>\n",
       "    <tr>\n",
       "      <td>2</td>\n",
       "      <td>永川区清泉酒厂</td>\n",
       "      <td>白酒制造</td>\n",
       "      <td>1512</td>\n",
       "      <td>20.0</td>\n",
       "      <td>0.007</td>\n",
       "      <td>0.0063</td>\n",
       "      <td>三教工业园区污水处理厂</td>\n",
       "      <td>废水</td>\n",
       "      <td>高粱、稻米等</td>\n",
       "      <td>清香型白酒</td>\n",
       "      <td>...</td>\n",
       "      <td>污水处理设施总额定功率</td>\n",
       "      <td>4千瓦</td>\n",
       "      <td>污水处理设施耗电量</td>\n",
       "      <td>1300千瓦时/年</td>\n",
       "      <td>0.000004</td>\n",
       "      <td>吨</td>\n",
       "      <td>1.0</td>\n",
       "      <td>1.0</td>\n",
       "      <td>/</td>\n",
       "      <td>NaN</td>\n",
       "    </tr>\n",
       "    <tr>\n",
       "      <td>3</td>\n",
       "      <td>永川区清泉酒厂</td>\n",
       "      <td>白酒制造</td>\n",
       "      <td>1512</td>\n",
       "      <td>20.0</td>\n",
       "      <td>0.007</td>\n",
       "      <td>0.0063</td>\n",
       "      <td>三教工业园区污水处理厂</td>\n",
       "      <td>废水</td>\n",
       "      <td>高粱、稻米等</td>\n",
       "      <td>清香型白酒</td>\n",
       "      <td>...</td>\n",
       "      <td>污水处理设施总额定功率</td>\n",
       "      <td>4千瓦</td>\n",
       "      <td>污水处理设施耗电量</td>\n",
       "      <td>1300千瓦时/年</td>\n",
       "      <td>0.000001</td>\n",
       "      <td>吨</td>\n",
       "      <td>1.0</td>\n",
       "      <td>1.0</td>\n",
       "      <td>/</td>\n",
       "      <td>NaN</td>\n",
       "    </tr>\n",
       "    <tr>\n",
       "      <td>4</td>\n",
       "      <td>永川区清泉酒厂</td>\n",
       "      <td>白酒制造</td>\n",
       "      <td>1512</td>\n",
       "      <td>20.0</td>\n",
       "      <td>0.007</td>\n",
       "      <td>0.0063</td>\n",
       "      <td>三教工业园区污水处理厂</td>\n",
       "      <td>废气</td>\n",
       "      <td>柴油</td>\n",
       "      <td>蒸汽/热水/其他</td>\n",
       "      <td>...</td>\n",
       "      <td>NaN</td>\n",
       "      <td>NaN</td>\n",
       "      <td>NaN</td>\n",
       "      <td>NaN</td>\n",
       "      <td>0.004330</td>\n",
       "      <td>吨</td>\n",
       "      <td>NaN</td>\n",
       "      <td>1.0</td>\n",
       "      <td>/</td>\n",
       "      <td>NaN</td>\n",
       "    </tr>\n",
       "  </tbody>\n",
       "</table>\n",
       "<p>5 rows × 36 columns</p>\n",
       "</div>"
      ],
      "text/plain": [
       "    单位详细名称 行业名称1  行业代码1  工业总产值(当年价格)(千元) 用水量（万吨） 排水量（万吨）    是否进入污水处理厂 污染类别  \\\n",
       "0  永川区清泉酒厂  白酒制造   1512             20.0   0.007  0.0063  三教工业园区污水处理厂   废水   \n",
       "1  永川区清泉酒厂  白酒制造   1512             20.0   0.007  0.0063  三教工业园区污水处理厂   废水   \n",
       "2  永川区清泉酒厂  白酒制造   1512             20.0   0.007  0.0063  三教工业园区污水处理厂   废水   \n",
       "3  永川区清泉酒厂  白酒制造   1512             20.0   0.007  0.0063  三教工业园区污水处理厂   废水   \n",
       "4  永川区清泉酒厂  白酒制造   1512             20.0   0.007  0.0063  三教工业园区污水处理厂   废气   \n",
       "\n",
       "     原料名称      产品名称  ... 污染治理设施实际运行参数二名称 污染治理设施实际运行参数二数值  污染治理设施实际运行参数三名称  \\\n",
       "0  高粱、稻米等     清香型白酒  ...     污水处理设施总额定功率             4千瓦        污水处理设施耗电量   \n",
       "1  高粱、稻米等     清香型白酒  ...     污水处理设施总额定功率             4千瓦        污水处理设施耗电量   \n",
       "2  高粱、稻米等     清香型白酒  ...     污水处理设施总额定功率             4千瓦        污水处理设施耗电量   \n",
       "3  高粱、稻米等     清香型白酒  ...     污水处理设施总额定功率             4千瓦        污水处理设施耗电量   \n",
       "4      柴油  蒸汽/热水/其他  ...             NaN             NaN              NaN   \n",
       "\n",
       "  污染治理设施实际运行参数三数值    污染物排放量 污染物排放量计量单位 K值计算结果 K值核算填报结果 是否有监测数据  监测法核算排放量（吨）  \n",
       "0       1300千瓦时/年  0.000297          吨    1.0      1.0       /          NaN  \n",
       "1       1300千瓦时/年  0.000015          吨    1.0      1.0       /          NaN  \n",
       "2       1300千瓦时/年  0.000004          吨    1.0      1.0       /          NaN  \n",
       "3       1300千瓦时/年  0.000001          吨    1.0      1.0       /          NaN  \n",
       "4             NaN  0.004330          吨    NaN      1.0       /          NaN  \n",
       "\n",
       "[5 rows x 36 columns]"
      ]
     },
     "execution_count": 172,
     "metadata": {},
     "output_type": "execute_result"
    }
   ],
   "source": [
    "pf.head()"
   ]
  },
  {
   "cell_type": "code",
   "execution_count": 173,
   "metadata": {},
   "outputs": [
    {
     "data": {
      "text/plain": [
       "(14384, 36)"
      ]
     },
     "execution_count": 173,
     "metadata": {},
     "output_type": "execute_result"
    }
   ],
   "source": [
    "pf.shape"
   ]
  },
  {
   "cell_type": "markdown",
   "metadata": {},
   "source": [
    "#  特征分析和提取"
   ]
  },
  {
   "cell_type": "code",
   "execution_count": 1,
   "metadata": {},
   "outputs": [
    {
     "ename": "NameError",
     "evalue": "name 'np' is not defined",
     "output_type": "error",
     "traceback": [
      "\u001b[1;31m---------------------------------------------------------------------------\u001b[0m",
      "\u001b[1;31mNameError\u001b[0m                                 Traceback (most recent call last)",
      "\u001b[1;32m<ipython-input-1-c343f0be8ab5>\u001b[0m in \u001b[0;36m<module>\u001b[1;34m\u001b[0m\n\u001b[1;32m----> 1\u001b[1;33m \u001b[0mnp\u001b[0m\u001b[1;33m.\u001b[0m\u001b[0mwhere\u001b[0m\u001b[1;33m(\u001b[0m\u001b[0mpf\u001b[0m\u001b[1;33m.\u001b[0m\u001b[0misnull\u001b[0m\u001b[1;33m(\u001b[0m\u001b[1;33m)\u001b[0m\u001b[1;33m.\u001b[0m\u001b[0msum\u001b[0m\u001b[1;33m(\u001b[0m\u001b[1;33m)\u001b[0m\u001b[1;33m/\u001b[0m\u001b[0mpf\u001b[0m\u001b[1;33m.\u001b[0m\u001b[0mshape\u001b[0m\u001b[1;33m[\u001b[0m\u001b[1;36m0\u001b[0m\u001b[1;33m]\u001b[0m\u001b[1;33m<\u001b[0m\u001b[1;36m0.5\u001b[0m \u001b[1;33m)\u001b[0m\u001b[1;33m[\u001b[0m\u001b[1;36m0\u001b[0m\u001b[1;33m]\u001b[0m\u001b[1;33m\u001b[0m\u001b[1;33m\u001b[0m\u001b[0m\n\u001b[0m",
      "\u001b[1;31mNameError\u001b[0m: name 'np' is not defined"
     ]
    }
   ],
   "source": [
    "np.where(pf.isnull().sum()/pf.shape[0]<0.5 )[0]"
   ]
  },
  {
   "cell_type": "code",
   "execution_count": 175,
   "metadata": {},
   "outputs": [
    {
     "data": {
      "text/html": [
       "<div>\n",
       "<style scoped>\n",
       "    .dataframe tbody tr th:only-of-type {\n",
       "        vertical-align: middle;\n",
       "    }\n",
       "\n",
       "    .dataframe tbody tr th {\n",
       "        vertical-align: top;\n",
       "    }\n",
       "\n",
       "    .dataframe thead th {\n",
       "        text-align: right;\n",
       "    }\n",
       "</style>\n",
       "<table border=\"1\" class=\"dataframe\">\n",
       "  <thead>\n",
       "    <tr style=\"text-align: right;\">\n",
       "      <th></th>\n",
       "      <th>污染类别</th>\n",
       "      <th>原料名称</th>\n",
       "      <th>产品名称</th>\n",
       "      <th>工艺名称</th>\n",
       "      <th>生产规模等级</th>\n",
       "      <th>污染物名称</th>\n",
       "      <th>污染物处理工艺名称</th>\n",
       "    </tr>\n",
       "  </thead>\n",
       "  <tbody>\n",
       "    <tr>\n",
       "      <td>0</td>\n",
       "      <td>1</td>\n",
       "      <td>11</td>\n",
       "      <td>2</td>\n",
       "      <td>6</td>\n",
       "      <td>1</td>\n",
       "      <td>1</td>\n",
       "      <td>11</td>\n",
       "    </tr>\n",
       "    <tr>\n",
       "      <td>1</td>\n",
       "      <td>1</td>\n",
       "      <td>11</td>\n",
       "      <td>2</td>\n",
       "      <td>6</td>\n",
       "      <td>1</td>\n",
       "      <td>4</td>\n",
       "      <td>11</td>\n",
       "    </tr>\n",
       "    <tr>\n",
       "      <td>2</td>\n",
       "      <td>1</td>\n",
       "      <td>11</td>\n",
       "      <td>2</td>\n",
       "      <td>6</td>\n",
       "      <td>1</td>\n",
       "      <td>6</td>\n",
       "      <td>11</td>\n",
       "    </tr>\n",
       "    <tr>\n",
       "      <td>3</td>\n",
       "      <td>1</td>\n",
       "      <td>11</td>\n",
       "      <td>2</td>\n",
       "      <td>6</td>\n",
       "      <td>1</td>\n",
       "      <td>5</td>\n",
       "      <td>11</td>\n",
       "    </tr>\n",
       "    <tr>\n",
       "      <td>4</td>\n",
       "      <td>0</td>\n",
       "      <td>6</td>\n",
       "      <td>10</td>\n",
       "      <td>7</td>\n",
       "      <td>4</td>\n",
       "      <td>7</td>\n",
       "      <td>0</td>\n",
       "    </tr>\n",
       "  </tbody>\n",
       "</table>\n",
       "</div>"
      ],
      "text/plain": [
       "   污染类别  原料名称  产品名称  工艺名称  生产规模等级  污染物名称  污染物处理工艺名称\n",
       "0     1    11     2     6       1      1         11\n",
       "1     1    11     2     6       1      4         11\n",
       "2     1    11     2     6       1      6         11\n",
       "3     1    11     2     6       1      5         11\n",
       "4     0     6    10     7       4      7          0"
      ]
     },
     "execution_count": 175,
     "metadata": {},
     "output_type": "execute_result"
    }
   ],
   "source": [
    "object_col = ['污染类别','原料名称','产品名称', '工艺名称', '生产规模等级','污染物名称','污染物处理工艺名称']  # 需要做labelencoder的列\n",
    "data = pf[['污染类别','原料名称','产品名称', '工艺名称', '生产规模等级','污染物名称','污染物处理工艺名称']]\n",
    "for i in object_col:\n",
    "    lbl = LabelEncoder()\n",
    "    data[i] = lbl.fit_transform(data[i].astype(str))\n",
    "    data[i] = data[i]\n",
    "data.head()"
   ]
  },
  {
   "cell_type": "code",
   "execution_count": 176,
   "metadata": {},
   "outputs": [],
   "source": [
    "pf['污染物去除效率']= pf['污染物去除效率'].apply(lambda x: float(x.split('%')[0])*0.01)"
   ]
  },
  {
   "cell_type": "code",
   "execution_count": 177,
   "metadata": {},
   "outputs": [
    {
     "data": {
      "text/html": [
       "<div>\n",
       "<style scoped>\n",
       "    .dataframe tbody tr th:only-of-type {\n",
       "        vertical-align: middle;\n",
       "    }\n",
       "\n",
       "    .dataframe tbody tr th {\n",
       "        vertical-align: top;\n",
       "    }\n",
       "\n",
       "    .dataframe thead th {\n",
       "        text-align: right;\n",
       "    }\n",
       "</style>\n",
       "<table border=\"1\" class=\"dataframe\">\n",
       "  <thead>\n",
       "    <tr style=\"text-align: right;\">\n",
       "      <th></th>\n",
       "      <th>工业总产值(当年价格)(千元)</th>\n",
       "      <th>用水量（吨）</th>\n",
       "      <th>排水量（吨）</th>\n",
       "      <th>是否进入污水处理厂</th>\n",
       "      <th>原料/燃料用量</th>\n",
       "      <th>污染物产污系数</th>\n",
       "      <th>污染物产污系数中参数取值</th>\n",
       "      <th>污染物去除效率</th>\n",
       "    </tr>\n",
       "  </thead>\n",
       "  <tbody>\n",
       "    <tr>\n",
       "      <td>0</td>\n",
       "      <td>20000.0</td>\n",
       "      <td>70.0</td>\n",
       "      <td>63.0</td>\n",
       "      <td>1</td>\n",
       "      <td>0.000</td>\n",
       "      <td>14232.370</td>\n",
       "      <td>1.0</td>\n",
       "      <td>0.9791</td>\n",
       "    </tr>\n",
       "    <tr>\n",
       "      <td>1</td>\n",
       "      <td>20000.0</td>\n",
       "      <td>70.0</td>\n",
       "      <td>63.0</td>\n",
       "      <td>1</td>\n",
       "      <td>0.000</td>\n",
       "      <td>143.591</td>\n",
       "      <td>1.0</td>\n",
       "      <td>0.8957</td>\n",
       "    </tr>\n",
       "    <tr>\n",
       "      <td>2</td>\n",
       "      <td>20000.0</td>\n",
       "      <td>70.0</td>\n",
       "      <td>63.0</td>\n",
       "      <td>1</td>\n",
       "      <td>0.000</td>\n",
       "      <td>40.061</td>\n",
       "      <td>1.0</td>\n",
       "      <td>0.8988</td>\n",
       "    </tr>\n",
       "    <tr>\n",
       "      <td>3</td>\n",
       "      <td>20000.0</td>\n",
       "      <td>70.0</td>\n",
       "      <td>63.0</td>\n",
       "      <td>1</td>\n",
       "      <td>0.000</td>\n",
       "      <td>27.716</td>\n",
       "      <td>1.0</td>\n",
       "      <td>0.9737</td>\n",
       "    </tr>\n",
       "    <tr>\n",
       "      <td>4</td>\n",
       "      <td>20000.0</td>\n",
       "      <td>70.0</td>\n",
       "      <td>63.0</td>\n",
       "      <td>1</td>\n",
       "      <td>1.429</td>\n",
       "      <td>3.030</td>\n",
       "      <td>0.0</td>\n",
       "      <td>0.0000</td>\n",
       "    </tr>\n",
       "  </tbody>\n",
       "</table>\n",
       "</div>"
      ],
      "text/plain": [
       "   工业总产值(当年价格)(千元)  用水量（吨）  排水量（吨）  是否进入污水处理厂  原料/燃料用量    污染物产污系数  \\\n",
       "0          20000.0    70.0    63.0          1    0.000  14232.370   \n",
       "1          20000.0    70.0    63.0          1    0.000    143.591   \n",
       "2          20000.0    70.0    63.0          1    0.000     40.061   \n",
       "3          20000.0    70.0    63.0          1    0.000     27.716   \n",
       "4          20000.0    70.0    63.0          1    1.429      3.030   \n",
       "\n",
       "   污染物产污系数中参数取值  污染物去除效率  \n",
       "0           1.0   0.9791  \n",
       "1           1.0   0.8957  \n",
       "2           1.0   0.8988  \n",
       "3           1.0   0.9737  \n",
       "4           0.0   0.0000  "
      ]
     },
     "execution_count": 177,
     "metadata": {},
     "output_type": "execute_result"
    }
   ],
   "source": [
    "train  = pf[['工业总产值(当年价格)(千元)']].apply(lambda x: x*1000)\n",
    "pf['用水量（万吨）'] = pf['用水量（万吨）'].apply(lambda x: 0 if x=='/' else x)\n",
    "train['用水量（吨）'] = pf['用水量（万吨）'].apply(lambda x: x*10000)\n",
    "pf['排水量（万吨）'] = pf['排水量（万吨）'].apply(lambda x: 0 if x=='/' else x)\n",
    "train['排水量（吨）'] = pf['排水量（万吨）'].apply(lambda x: x*10000)\n",
    "train['是否进入污水处理厂']= pf['是否进入污水处理厂'].map(lambda x: int(x!='/'))\n",
    "train['原料/燃料用量'] = pf['原料/燃料用量'].apply(lambda x: 0 if np.isnan(x) else x)\n",
    "train['污染物产污系数'] = pf['污染物产污系数'].apply(lambda x:float(x.split('*')[0]))\n",
    "train['污染物产污系数中参数取值'] = pf['污染物产污系数中参数取值'].apply(lambda x: 0 if np.isnan(x) else x)\n",
    "train['污染物去除效率'] = pf['污染物去除效率']\n",
    "columns = ['工业总产值(当年价格)(千元)', '用水量（万吨）','排水量（万吨）', '是否进入污水处理厂', '原料/燃料用量','污染物产生量','污染物去除效率']\n",
    "train.head()"
   ]
  },
  {
   "cell_type": "code",
   "execution_count": 178,
   "metadata": {},
   "outputs": [],
   "source": [
    "train = pd.concat([train,data],axis=1)"
   ]
  },
  {
   "cell_type": "code",
   "execution_count": 179,
   "metadata": {},
   "outputs": [
    {
     "data": {
      "text/plain": [
       "<matplotlib.axes._subplots.AxesSubplot at 0x1a40e14adc8>"
      ]
     },
     "execution_count": 179,
     "metadata": {},
     "output_type": "execute_result"
    },
    {
     "data": {
      "image/png": "[encoded data removed]",
      "text/plain": [
       "<Figure size 432x288 with 1 Axes>"
      ]
     },
     "metadata": {
      "needs_background": "light"
     },
     "output_type": "display_data"
    }
   ],
   "source": [
    "pf['污染物产生量'].plot.hist()"
   ]
  },
  {
   "cell_type": "code",
   "execution_count": 180,
   "metadata": {},
   "outputs": [
    {
     "data": {
      "text/plain": [
       "count    12571.000000\n",
       "mean         0.347139\n",
       "std          7.893054\n",
       "min          0.000000\n",
       "25%          0.000822\n",
       "50%          0.013251\n",
       "75%          0.096984\n",
       "max        825.086719\n",
       "Name: 污染物产生量, dtype: float64"
      ]
     },
     "execution_count": 180,
     "metadata": {},
     "output_type": "execute_result"
    }
   ],
   "source": [
    "pf['污染物产生量'].describe()"
   ]
  },
  {
   "cell_type": "code",
   "execution_count": 181,
   "metadata": {},
   "outputs": [
    {
     "data": {
      "text/plain": [
       "<matplotlib.axes._subplots.AxesSubplot at 0x1a40ee05dc8>"
      ]
     },
     "execution_count": 181,
     "metadata": {},
     "output_type": "execute_result"
    },
    {
     "data": {
      "image/png": "[encoded data removed]",
      "text/plain": [
       "<Figure size 432x288 with 1 Axes>"
      ]
     },
     "metadata": {
      "needs_background": "light"
     },
     "output_type": "display_data"
    }
   ],
   "source": [
    "pf['污染物产生量'].plot.hist()"
   ]
  },
  {
   "cell_type": "code",
   "execution_count": 182,
   "metadata": {},
   "outputs": [
    {
     "data": {
      "text/plain": [
       "<matplotlib.axes._subplots.AxesSubplot at 0x1a40e32c548>"
      ]
     },
     "execution_count": 182,
     "metadata": {},
     "output_type": "execute_result"
    },
    {
     "data": {
      "image/png": "[encoded data removed]",
      "text/plain": [
       "<Figure size 432x288 with 1 Axes>"
      ]
     },
     "metadata": {
      "needs_background": "light"
     },
     "output_type": "display_data"
    }
   ],
   "source": [
    "min_max_scaler = preprocessing.MinMaxScaler()\n",
    "# pf['污染物产生量'] = pf['污染物产生量'].apply(lambda x: x*1000) # 单位化为克\n",
    "# pf['污染物产生量'] = np.log(pf['污染物产生量'] + 1) \n",
    "# pf['污染物产生量'] = ((pf['污染物产生量'] - np.min(pf['污染物产生量'])) / (np.max(pf['污染物产生量']) - np.min(pf['污染物产生量'])))\n",
    "pf['污染物产生量'].plot.hist()"
   ]
  },
  {
   "cell_type": "code",
   "execution_count": 184,
   "metadata": {},
   "outputs": [],
   "source": [
    "train['污染物产生量'] = pf['污染物产生量']"
   ]
  },
  {
   "cell_type": "code",
   "execution_count": 185,
   "metadata": {},
   "outputs": [
    {
     "data": {
      "text/plain": [
       "<matplotlib.axes._subplots.AxesSubplot at 0x1a40ee957c8>"
      ]
     },
     "execution_count": 185,
     "metadata": {},
     "output_type": "execute_result"
    },
    {
     "data": {
      "image/png": "[encoded data removed]",
      "text/plain": [
       "<Figure size 432x288 with 1 Axes>"
      ]
     },
     "metadata": {
      "needs_background": "light"
     },
     "output_type": "display_data"
    }
   ],
   "source": [
    "pf['污染物排放量'].plot.hist()"
   ]
  },
  {
   "cell_type": "code",
   "execution_count": 186,
   "metadata": {},
   "outputs": [
    {
     "data": {
      "text/plain": [
       "<matplotlib.axes._subplots.AxesSubplot at 0x1a40eba5ac8>"
      ]
     },
     "execution_count": 186,
     "metadata": {},
     "output_type": "execute_result"
    },
    {
     "data": {
      "image/png": "[encoded data removed]",
      "text/plain": [
       "<Figure size 432x288 with 1 Axes>"
      ]
     },
     "metadata": {
      "needs_background": "light"
     },
     "output_type": "display_data"
    }
   ],
   "source": [
    "min_max_scaler = preprocessing.MinMaxScaler()\n",
    "# pf['污染物排放量'] = pf['污染物排放量'].apply(lambda x: x*1000)\n",
    "# pf['污染物排放量'] = np.log(pf['污染物排放量'] + 1) \n",
    "# pf['污染物排放量'] = ((pf['污染物排放量'] - np.min(pf['污染物排放量'])) / (np.max(pf['污染物排放量']) - np.min(pf['污染物排放量'])))\n",
    "pf['污染物排放量'].plot.hist()"
   ]
  },
  {
   "cell_type": "code",
   "execution_count": 187,
   "metadata": {},
   "outputs": [
    {
     "data": {
      "text/html": [
       "<div>\n",
       "<style scoped>\n",
       "    .dataframe tbody tr th:only-of-type {\n",
       "        vertical-align: middle;\n",
       "    }\n",
       "\n",
       "    .dataframe tbody tr th {\n",
       "        vertical-align: top;\n",
       "    }\n",
       "\n",
       "    .dataframe thead th {\n",
       "        text-align: right;\n",
       "    }\n",
       "</style>\n",
       "<table border=\"1\" class=\"dataframe\">\n",
       "  <thead>\n",
       "    <tr style=\"text-align: right;\">\n",
       "      <th></th>\n",
       "      <th>工业总产值(当年价格)(千元)</th>\n",
       "      <th>用水量（吨）</th>\n",
       "      <th>排水量（吨）</th>\n",
       "      <th>是否进入污水处理厂</th>\n",
       "      <th>原料/燃料用量</th>\n",
       "      <th>污染物产污系数</th>\n",
       "      <th>污染物产污系数中参数取值</th>\n",
       "      <th>污染物去除效率</th>\n",
       "      <th>污染类别</th>\n",
       "      <th>原料名称</th>\n",
       "      <th>产品名称</th>\n",
       "      <th>工艺名称</th>\n",
       "      <th>生产规模等级</th>\n",
       "      <th>污染物名称</th>\n",
       "      <th>污染物处理工艺名称</th>\n",
       "      <th>污染物产生量</th>\n",
       "      <th>污染物排放量</th>\n",
       "    </tr>\n",
       "  </thead>\n",
       "  <tbody>\n",
       "    <tr>\n",
       "      <td>0</td>\n",
       "      <td>20000.0</td>\n",
       "      <td>70.0</td>\n",
       "      <td>63.0</td>\n",
       "      <td>1</td>\n",
       "      <td>0.000</td>\n",
       "      <td>14232.370</td>\n",
       "      <td>1.0</td>\n",
       "      <td>0.9791</td>\n",
       "      <td>1</td>\n",
       "      <td>11</td>\n",
       "      <td>2</td>\n",
       "      <td>6</td>\n",
       "      <td>1</td>\n",
       "      <td>1</td>\n",
       "      <td>11</td>\n",
       "      <td>0.014232</td>\n",
       "      <td>0.000297</td>\n",
       "    </tr>\n",
       "    <tr>\n",
       "      <td>1</td>\n",
       "      <td>20000.0</td>\n",
       "      <td>70.0</td>\n",
       "      <td>63.0</td>\n",
       "      <td>1</td>\n",
       "      <td>0.000</td>\n",
       "      <td>143.591</td>\n",
       "      <td>1.0</td>\n",
       "      <td>0.8957</td>\n",
       "      <td>1</td>\n",
       "      <td>11</td>\n",
       "      <td>2</td>\n",
       "      <td>6</td>\n",
       "      <td>1</td>\n",
       "      <td>4</td>\n",
       "      <td>11</td>\n",
       "      <td>0.000144</td>\n",
       "      <td>0.000015</td>\n",
       "    </tr>\n",
       "    <tr>\n",
       "      <td>2</td>\n",
       "      <td>20000.0</td>\n",
       "      <td>70.0</td>\n",
       "      <td>63.0</td>\n",
       "      <td>1</td>\n",
       "      <td>0.000</td>\n",
       "      <td>40.061</td>\n",
       "      <td>1.0</td>\n",
       "      <td>0.8988</td>\n",
       "      <td>1</td>\n",
       "      <td>11</td>\n",
       "      <td>2</td>\n",
       "      <td>6</td>\n",
       "      <td>1</td>\n",
       "      <td>6</td>\n",
       "      <td>11</td>\n",
       "      <td>0.000040</td>\n",
       "      <td>0.000004</td>\n",
       "    </tr>\n",
       "    <tr>\n",
       "      <td>3</td>\n",
       "      <td>20000.0</td>\n",
       "      <td>70.0</td>\n",
       "      <td>63.0</td>\n",
       "      <td>1</td>\n",
       "      <td>0.000</td>\n",
       "      <td>27.716</td>\n",
       "      <td>1.0</td>\n",
       "      <td>0.9737</td>\n",
       "      <td>1</td>\n",
       "      <td>11</td>\n",
       "      <td>2</td>\n",
       "      <td>6</td>\n",
       "      <td>1</td>\n",
       "      <td>5</td>\n",
       "      <td>11</td>\n",
       "      <td>0.000028</td>\n",
       "      <td>0.000001</td>\n",
       "    </tr>\n",
       "    <tr>\n",
       "      <td>4</td>\n",
       "      <td>20000.0</td>\n",
       "      <td>70.0</td>\n",
       "      <td>63.0</td>\n",
       "      <td>1</td>\n",
       "      <td>1.429</td>\n",
       "      <td>3.030</td>\n",
       "      <td>0.0</td>\n",
       "      <td>0.0000</td>\n",
       "      <td>0</td>\n",
       "      <td>6</td>\n",
       "      <td>10</td>\n",
       "      <td>7</td>\n",
       "      <td>4</td>\n",
       "      <td>7</td>\n",
       "      <td>0</td>\n",
       "      <td>0.004330</td>\n",
       "      <td>0.004330</td>\n",
       "    </tr>\n",
       "  </tbody>\n",
       "</table>\n",
       "</div>"
      ],
      "text/plain": [
       "   工业总产值(当年价格)(千元)  用水量（吨）  排水量（吨）  是否进入污水处理厂  原料/燃料用量    污染物产污系数  \\\n",
       "0          20000.0    70.0    63.0          1    0.000  14232.370   \n",
       "1          20000.0    70.0    63.0          1    0.000    143.591   \n",
       "2          20000.0    70.0    63.0          1    0.000     40.061   \n",
       "3          20000.0    70.0    63.0          1    0.000     27.716   \n",
       "4          20000.0    70.0    63.0          1    1.429      3.030   \n",
       "\n",
       "   污染物产污系数中参数取值  污染物去除效率  污染类别  原料名称  产品名称  工艺名称  生产规模等级  污染物名称  污染物处理工艺名称  \\\n",
       "0           1.0   0.9791     1    11     2     6       1      1         11   \n",
       "1           1.0   0.8957     1    11     2     6       1      4         11   \n",
       "2           1.0   0.8988     1    11     2     6       1      6         11   \n",
       "3           1.0   0.9737     1    11     2     6       1      5         11   \n",
       "4           0.0   0.0000     0     6    10     7       4      7          0   \n",
       "\n",
       "     污染物产生量    污染物排放量  \n",
       "0  0.014232  0.000297  \n",
       "1  0.000144  0.000015  \n",
       "2  0.000040  0.000004  \n",
       "3  0.000028  0.000001  \n",
       "4  0.004330  0.004330  "
      ]
     },
     "execution_count": 187,
     "metadata": {},
     "output_type": "execute_result"
    }
   ],
   "source": [
    "train['污染物排放量'] = pf['污染物排放量']\n",
    "train.head()"
   ]
  },
  {
   "cell_type": "markdown",
   "metadata": {},
   "source": [
    "# 样本外点检测"
   ]
  },
  {
   "cell_type": "code",
   "execution_count": 225,
   "metadata": {},
   "outputs": [
    {
     "data": {
      "image/png": "[encoded data removed]",
      "text/plain": [
       "<Figure size 432x288 with 1 Axes>"
      ]
     },
     "metadata": {
      "needs_background": "light"
     },
     "output_type": "display_data"
    }
   ],
   "source": [
    "\n",
    "#绘制箱线图\n",
    "plt.boxplot(train[['工业总产值(当年价格)(千元)', '原料/燃料用量', '污染物排放量']])\n",
    "plt.xlabel(\"特征索引\")\n",
    "plt.ylabel(\"四分位间距\")\n",
    "plt.show()"
   ]
  },
  {
   "cell_type": "markdown",
   "metadata": {},
   "source": [
    "# 信息熵"
   ]
  },
  {
   "cell_type": "code",
   "execution_count": 13,
   "metadata": {},
   "outputs": [
    {
     "name": "stdout",
     "output_type": "stream",
     "text": [
      "0.030057322720309997\n"
     ]
    }
   ],
   "source": [
    "from math import log\n",
    " \n",
    "def calcShannonEnt(dataSet):\n",
    "    numEntries = len(dataSet) # 样本数\n",
    "    labelCounts = {} # 该数据集每个类别的频数\n",
    "    for featVec in dataSet:  # 对每一行样本\n",
    "        currentLabel = featVec[-1] # 该样本的标签\n",
    "        if currentLabel not in labelCounts.keys(): labelCounts[currentLabel] = 0\n",
    "        labelCounts[currentLabel] += 1 \n",
    "    shannonEnt = 0.0\n",
    "    for key in labelCounts:\n",
    "        prob = float(labelCounts[key])/numEntries # 计算p(xi)\n",
    "        shannonEnt -= prob * log(prob, 2)  # log base 2\n",
    "    return shannonEnt\n",
    "\n",
    "print(calcShannonEnt(pf))"
   ]
  },
  {
   "cell_type": "code",
   "execution_count": 14,
   "metadata": {},
   "outputs": [
    {
     "data": {
      "text/plain": [
       "array([[<matplotlib.axes._subplots.AxesSubplot object at 0x0000019674EBFEB8>,\n",
       "        <matplotlib.axes._subplots.AxesSubplot object at 0x0000019674850B70>]],\n",
       "      dtype=object)"
      ]
     },
     "execution_count": 14,
     "metadata": {},
     "output_type": "execute_result"
    },
    {
     "data": {
      "image/png": "[encoded data removed]",
      "text/plain": [
       "<Figure size 432x288 with 2 Axes>"
      ]
     },
     "metadata": {
      "needs_background": "light"
     },
     "output_type": "display_data"
    }
   ],
   "source": [
    "%matplotlib inline\n",
    "emission = pd.DataFrame({\"price\":train[\"污染物排放量\"], \"log(price + 1)\":np.log1p(train[\"污染物排放量\"])})\n",
    "emission.hist()"
   ]
  },
  {
   "cell_type": "code",
   "execution_count": 15,
   "metadata": {},
   "outputs": [
    {
     "data": {
      "text/plain": [
       "dtype('float64')"
      ]
     },
     "execution_count": 15,
     "metadata": {},
     "output_type": "execute_result"
    }
   ],
   "source": [
    "train['工业总产值(当年价格)(千元)'].dtypes\n"
   ]
  },
  {
   "cell_type": "code",
   "execution_count": 16,
   "metadata": {},
   "outputs": [
    {
     "data": {
      "text/plain": [
       "dtype('float64')"
      ]
     },
     "execution_count": 16,
     "metadata": {},
     "output_type": "execute_result"
    }
   ],
   "source": [
    "train['用水量（万吨）'].dtypes"
   ]
  },
  {
   "cell_type": "code",
   "execution_count": 17,
   "metadata": {},
   "outputs": [
    {
     "data": {
      "text/plain": [
       "dtype('float64')"
      ]
     },
     "execution_count": 17,
     "metadata": {},
     "output_type": "execute_result"
    }
   ],
   "source": [
    "train['排水量（万吨）'].dtypes"
   ]
  },
  {
   "cell_type": "code",
   "execution_count": 18,
   "metadata": {},
   "outputs": [
    {
     "data": {
      "text/plain": [
       "dtype('int64')"
      ]
     },
     "execution_count": 18,
     "metadata": {},
     "output_type": "execute_result"
    }
   ],
   "source": [
    "train['是否进入污水处理厂'].dtypes"
   ]
  },
  {
   "cell_type": "code",
   "execution_count": 19,
   "metadata": {},
   "outputs": [
    {
     "data": {
      "text/plain": [
       "dtype('float64')"
      ]
     },
     "execution_count": 19,
     "metadata": {},
     "output_type": "execute_result"
    }
   ],
   "source": [
    "train['原料/燃料用量'].dtypes"
   ]
  },
  {
   "cell_type": "code",
   "execution_count": 20,
   "metadata": {},
   "outputs": [
    {
     "data": {
      "text/plain": [
       "1813"
      ]
     },
     "execution_count": 20,
     "metadata": {},
     "output_type": "execute_result"
    }
   ],
   "source": [
    "pf['污染物产生量'].isnull().sum()"
   ]
  },
  {
   "cell_type": "code",
   "execution_count": 21,
   "metadata": {},
   "outputs": [],
   "source": [
    "import matplotlib.pyplot as plt"
   ]
  },
  {
   "cell_type": "code",
   "execution_count": 22,
   "metadata": {},
   "outputs": [],
   "source": [
    "X = np.array(train)[:,0:-1]\n",
    "y = np.array(train)[:, -1]"
   ]
  },
  {
   "cell_type": "code",
   "execution_count": 23,
   "metadata": {},
   "outputs": [
    {
     "data": {
      "image/png": "[encoded data removed]",
      "text/plain": [
       "<Figure size 432x288 with 1 Axes>"
      ]
     },
     "metadata": {
      "needs_background": "light"
     },
     "output_type": "display_data"
    }
   ],
   "source": [
    "plt.scatter(X, y, marker='x')\n",
    "# 绘制x轴和y轴坐标\n",
    "plt.xlabel(\"x\")\n",
    "plt.ylabel(\"y\")\n",
    "\n",
    "# 显示图形\n",
    "\n",
    "plt.show()"
   ]
  },
  {
   "cell_type": "markdown",
   "metadata": {},
   "source": [
    "# 模型"
   ]
  },
  {
   "cell_type": "code",
   "execution_count": 188,
   "metadata": {},
   "outputs": [
    {
     "data": {
      "text/plain": [
       "(11911, 17)"
      ]
     },
     "execution_count": 188,
     "metadata": {},
     "output_type": "execute_result"
    }
   ],
   "source": [
    "train_end = train[~train['污染物排放量'].isnull()].reset_index(drop=True)\n",
    "train_end.shape"
   ]
  },
  {
   "cell_type": "code",
   "execution_count": 189,
   "metadata": {},
   "outputs": [
    {
     "data": {
      "text/plain": [
       "(2473, 17)"
      ]
     },
     "execution_count": 189,
     "metadata": {},
     "output_type": "execute_result"
    }
   ],
   "source": [
    "test_end = train[train['污染物排放量'].isnull()].reset_index(drop=True)\n",
    "test_end.shape"
   ]
  },
  {
   "cell_type": "code",
   "execution_count": 190,
   "metadata": {},
   "outputs": [
    {
     "data": {
      "text/html": [
       "<div>\n",
       "<style scoped>\n",
       "    .dataframe tbody tr th:only-of-type {\n",
       "        vertical-align: middle;\n",
       "    }\n",
       "\n",
       "    .dataframe tbody tr th {\n",
       "        vertical-align: top;\n",
       "    }\n",
       "\n",
       "    .dataframe thead th {\n",
       "        text-align: right;\n",
       "    }\n",
       "</style>\n",
       "<table border=\"1\" class=\"dataframe\">\n",
       "  <thead>\n",
       "    <tr style=\"text-align: right;\">\n",
       "      <th></th>\n",
       "      <th>工业总产值(当年价格)(千元)</th>\n",
       "      <th>用水量（吨）</th>\n",
       "      <th>排水量（吨）</th>\n",
       "      <th>是否进入污水处理厂</th>\n",
       "      <th>原料/燃料用量</th>\n",
       "      <th>污染物产污系数</th>\n",
       "      <th>污染物产污系数中参数取值</th>\n",
       "      <th>污染物去除效率</th>\n",
       "      <th>污染类别</th>\n",
       "      <th>原料名称</th>\n",
       "      <th>产品名称</th>\n",
       "      <th>工艺名称</th>\n",
       "      <th>生产规模等级</th>\n",
       "      <th>污染物名称</th>\n",
       "      <th>污染物处理工艺名称</th>\n",
       "      <th>污染物产生量</th>\n",
       "      <th>污染物排放量</th>\n",
       "    </tr>\n",
       "  </thead>\n",
       "  <tbody>\n",
       "    <tr>\n",
       "      <td>0</td>\n",
       "      <td>20000.0</td>\n",
       "      <td>70.0</td>\n",
       "      <td>63.0</td>\n",
       "      <td>1</td>\n",
       "      <td>0.000</td>\n",
       "      <td>14232.370</td>\n",
       "      <td>1.0</td>\n",
       "      <td>0.9791</td>\n",
       "      <td>1</td>\n",
       "      <td>11</td>\n",
       "      <td>2</td>\n",
       "      <td>6</td>\n",
       "      <td>1</td>\n",
       "      <td>1</td>\n",
       "      <td>11</td>\n",
       "      <td>0.014232</td>\n",
       "      <td>0.000297</td>\n",
       "    </tr>\n",
       "    <tr>\n",
       "      <td>1</td>\n",
       "      <td>20000.0</td>\n",
       "      <td>70.0</td>\n",
       "      <td>63.0</td>\n",
       "      <td>1</td>\n",
       "      <td>0.000</td>\n",
       "      <td>143.591</td>\n",
       "      <td>1.0</td>\n",
       "      <td>0.8957</td>\n",
       "      <td>1</td>\n",
       "      <td>11</td>\n",
       "      <td>2</td>\n",
       "      <td>6</td>\n",
       "      <td>1</td>\n",
       "      <td>4</td>\n",
       "      <td>11</td>\n",
       "      <td>0.000144</td>\n",
       "      <td>0.000015</td>\n",
       "    </tr>\n",
       "    <tr>\n",
       "      <td>2</td>\n",
       "      <td>20000.0</td>\n",
       "      <td>70.0</td>\n",
       "      <td>63.0</td>\n",
       "      <td>1</td>\n",
       "      <td>0.000</td>\n",
       "      <td>40.061</td>\n",
       "      <td>1.0</td>\n",
       "      <td>0.8988</td>\n",
       "      <td>1</td>\n",
       "      <td>11</td>\n",
       "      <td>2</td>\n",
       "      <td>6</td>\n",
       "      <td>1</td>\n",
       "      <td>6</td>\n",
       "      <td>11</td>\n",
       "      <td>0.000040</td>\n",
       "      <td>0.000004</td>\n",
       "    </tr>\n",
       "    <tr>\n",
       "      <td>3</td>\n",
       "      <td>20000.0</td>\n",
       "      <td>70.0</td>\n",
       "      <td>63.0</td>\n",
       "      <td>1</td>\n",
       "      <td>0.000</td>\n",
       "      <td>27.716</td>\n",
       "      <td>1.0</td>\n",
       "      <td>0.9737</td>\n",
       "      <td>1</td>\n",
       "      <td>11</td>\n",
       "      <td>2</td>\n",
       "      <td>6</td>\n",
       "      <td>1</td>\n",
       "      <td>5</td>\n",
       "      <td>11</td>\n",
       "      <td>0.000028</td>\n",
       "      <td>0.000001</td>\n",
       "    </tr>\n",
       "    <tr>\n",
       "      <td>4</td>\n",
       "      <td>20000.0</td>\n",
       "      <td>70.0</td>\n",
       "      <td>63.0</td>\n",
       "      <td>1</td>\n",
       "      <td>1.429</td>\n",
       "      <td>3.030</td>\n",
       "      <td>0.0</td>\n",
       "      <td>0.0000</td>\n",
       "      <td>0</td>\n",
       "      <td>6</td>\n",
       "      <td>10</td>\n",
       "      <td>7</td>\n",
       "      <td>4</td>\n",
       "      <td>7</td>\n",
       "      <td>0</td>\n",
       "      <td>0.004330</td>\n",
       "      <td>0.004330</td>\n",
       "    </tr>\n",
       "  </tbody>\n",
       "</table>\n",
       "</div>"
      ],
      "text/plain": [
       "   工业总产值(当年价格)(千元)  用水量（吨）  排水量（吨）  是否进入污水处理厂  原料/燃料用量    污染物产污系数  \\\n",
       "0          20000.0    70.0    63.0          1    0.000  14232.370   \n",
       "1          20000.0    70.0    63.0          1    0.000    143.591   \n",
       "2          20000.0    70.0    63.0          1    0.000     40.061   \n",
       "3          20000.0    70.0    63.0          1    0.000     27.716   \n",
       "4          20000.0    70.0    63.0          1    1.429      3.030   \n",
       "\n",
       "   污染物产污系数中参数取值  污染物去除效率  污染类别  原料名称  产品名称  工艺名称  生产规模等级  污染物名称  污染物处理工艺名称  \\\n",
       "0           1.0   0.9791     1    11     2     6       1      1         11   \n",
       "1           1.0   0.8957     1    11     2     6       1      4         11   \n",
       "2           1.0   0.8988     1    11     2     6       1      6         11   \n",
       "3           1.0   0.9737     1    11     2     6       1      5         11   \n",
       "4           0.0   0.0000     0     6    10     7       4      7          0   \n",
       "\n",
       "     污染物产生量    污染物排放量  \n",
       "0  0.014232  0.000297  \n",
       "1  0.000144  0.000015  \n",
       "2  0.000040  0.000004  \n",
       "3  0.000028  0.000001  \n",
       "4  0.004330  0.004330  "
      ]
     },
     "execution_count": 190,
     "metadata": {},
     "output_type": "execute_result"
    }
   ],
   "source": [
    "train_end.head()"
   ]
  },
  {
   "cell_type": "code",
   "execution_count": 191,
   "metadata": {},
   "outputs": [],
   "source": [
    "tr_index = ~train['污染物排放量'].isnull()\n",
    "train_end = train_end[tr_index].reset_index(drop=True)\n",
    "y=train_end['污染物排放量'].reset_index(drop=True)\n",
    "test_end = test_end[~tr_index].reset_index(drop=True)"
   ]
  },
  {
   "cell_type": "code",
   "execution_count": 192,
   "metadata": {},
   "outputs": [],
   "source": [
    "import lightgbm as lgb\n",
    "from sklearn.model_selection import KFold,StratifiedKFold,train_test_split\n",
    "from sklearn.metrics import mean_squared_error,roc_auc_score"
   ]
  },
  {
   "cell_type": "code",
   "execution_count": 193,
   "metadata": {},
   "outputs": [],
   "source": [
    "def lgb_roc_auc_score(y_hat, data):\n",
    "    y_true = data.get_label()\n",
    "    y_hat = np.round(y_hat) \n",
    "    return 'f1', roc_auc_score(y_true, y_hat), True"
   ]
  },
  {
   "cell_type": "code",
   "execution_count": 194,
   "metadata": {},
   "outputs": [],
   "source": [
    "lgb_paras = {'objective': 'regression',\n",
    "             'learning_rate': 0.1 ,\n",
    "             'max_depth': 6 ,\n",
    "             'feature_fraction': 0.8, \n",
    "             'bagging_fraction' : 0.8,\n",
    "             'num_threads':-1}\n",
    "feature = ['工业总产值(当年价格)(千元)','用水量（吨）','排水量（吨）','是否进入污水处理厂','原料/燃料用量','污染物产生量','污染物去除效率'\n",
    "          ,'污染类别','原料名称','产品名称','工艺名称','生产规模等级','污染物名称','污染物处理工艺名称']"
   ]
  },
  {
   "cell_type": "code",
   "execution_count": 195,
   "metadata": {},
   "outputs": [],
   "source": [
    "fi = []\n",
    "cv_score = []\n",
    "test_pred = np.zeros((test_end.shape[0],))\n",
    "skf = KFold(n_splits=5, random_state=2019, shuffle=True)"
   ]
  },
  {
   "cell_type": "code",
   "execution_count": 66,
   "metadata": {},
   "outputs": [
    {
     "name": "stdout",
     "output_type": "stream",
     "text": [
      "0\n"
     ]
    },
    {
     "ename": "ValueError",
     "evalue": "continuous format is not supported",
     "output_type": "error",
     "traceback": [
      "\u001b[1;31m---------------------------------------------------------------------------\u001b[0m",
      "\u001b[1;31mValueError\u001b[0m                                Traceback (most recent call last)",
      "\u001b[1;32m<ipython-input-66-b6d5c8139285>\u001b[0m in \u001b[0;36m<module>\u001b[1;34m\u001b[0m\n\u001b[0;32m      9\u001b[0m                           \u001b[0mfeval\u001b[0m\u001b[1;33m=\u001b[0m\u001b[0mlgb_roc_auc_score\u001b[0m\u001b[1;33m,\u001b[0m\u001b[1;33m\u001b[0m\u001b[1;33m\u001b[0m\u001b[0m\n\u001b[0;32m     10\u001b[0m                           \u001b[0mverbose_eval\u001b[0m\u001b[1;33m=\u001b[0m\u001b[1;36m50\u001b[0m\u001b[1;33m,\u001b[0m\u001b[1;33m\u001b[0m\u001b[1;33m\u001b[0m\u001b[0m\n\u001b[1;32m---> 11\u001b[1;33m                           \u001b[0mcategorical_feature\u001b[0m \u001b[1;33m=\u001b[0m \u001b[0mobject_col\u001b[0m\u001b[1;33m\u001b[0m\u001b[1;33m\u001b[0m\u001b[0m\n\u001b[0m\u001b[0;32m     12\u001b[0m                           )\n\u001b[0;32m     13\u001b[0m \u001b[1;33m\u001b[0m\u001b[0m\n",
      "\u001b[1;32mC:\\ProgramData\\Anaconda3\\lib\\site-packages\\lightgbm\\engine.py\u001b[0m in \u001b[0;36mtrain\u001b[1;34m(params, train_set, num_boost_round, valid_sets, valid_names, fobj, feval, init_model, feature_name, categorical_feature, early_stopping_rounds, evals_result, verbose_eval, learning_rates, keep_training_booster, callbacks)\u001b[0m\n\u001b[0;32m    223\u001b[0m             \u001b[1;32mif\u001b[0m \u001b[0mis_valid_contain_train\u001b[0m\u001b[1;33m:\u001b[0m\u001b[1;33m\u001b[0m\u001b[1;33m\u001b[0m\u001b[0m\n\u001b[0;32m    224\u001b[0m                 \u001b[0mevaluation_result_list\u001b[0m\u001b[1;33m.\u001b[0m\u001b[0mextend\u001b[0m\u001b[1;33m(\u001b[0m\u001b[0mbooster\u001b[0m\u001b[1;33m.\u001b[0m\u001b[0meval_train\u001b[0m\u001b[1;33m(\u001b[0m\u001b[0mfeval\u001b[0m\u001b[1;33m)\u001b[0m\u001b[1;33m)\u001b[0m\u001b[1;33m\u001b[0m\u001b[1;33m\u001b[0m\u001b[0m\n\u001b[1;32m--> 225\u001b[1;33m             \u001b[0mevaluation_result_list\u001b[0m\u001b[1;33m.\u001b[0m\u001b[0mextend\u001b[0m\u001b[1;33m(\u001b[0m\u001b[0mbooster\u001b[0m\u001b[1;33m.\u001b[0m\u001b[0meval_valid\u001b[0m\u001b[1;33m(\u001b[0m\u001b[0mfeval\u001b[0m\u001b[1;33m)\u001b[0m\u001b[1;33m)\u001b[0m\u001b[1;33m\u001b[0m\u001b[1;33m\u001b[0m\u001b[0m\n\u001b[0m\u001b[0;32m    226\u001b[0m         \u001b[1;32mtry\u001b[0m\u001b[1;33m:\u001b[0m\u001b[1;33m\u001b[0m\u001b[1;33m\u001b[0m\u001b[0m\n\u001b[0;32m    227\u001b[0m             \u001b[1;32mfor\u001b[0m \u001b[0mcb\u001b[0m \u001b[1;32min\u001b[0m \u001b[0mcallbacks_after_iter\u001b[0m\u001b[1;33m:\u001b[0m\u001b[1;33m\u001b[0m\u001b[1;33m\u001b[0m\u001b[0m\n",
      "\u001b[1;32mC:\\ProgramData\\Anaconda3\\lib\\site-packages\\lightgbm\\basic.py\u001b[0m in \u001b[0;36meval_valid\u001b[1;34m(self, feval)\u001b[0m\n\u001b[0;32m   1975\u001b[0m             \u001b[0mList\u001b[0m \u001b[1;32mwith\u001b[0m \u001b[0mevaluation\u001b[0m \u001b[0mresults\u001b[0m\u001b[1;33m.\u001b[0m\u001b[1;33m\u001b[0m\u001b[1;33m\u001b[0m\u001b[0m\n\u001b[0;32m   1976\u001b[0m         \"\"\"\n\u001b[1;32m-> 1977\u001b[1;33m         return [item for i in range_(1, self.__num_dataset)\n\u001b[0m\u001b[0;32m   1978\u001b[0m                 for item in self.__inner_eval(self.name_valid_sets[i - 1], i, feval)]\n\u001b[0;32m   1979\u001b[0m \u001b[1;33m\u001b[0m\u001b[0m\n",
      "\u001b[1;32mC:\\ProgramData\\Anaconda3\\lib\\site-packages\\lightgbm\\basic.py\u001b[0m in \u001b[0;36m<listcomp>\u001b[1;34m(.0)\u001b[0m\n\u001b[0;32m   1976\u001b[0m         \"\"\"\n\u001b[0;32m   1977\u001b[0m         return [item for i in range_(1, self.__num_dataset)\n\u001b[1;32m-> 1978\u001b[1;33m                 for item in self.__inner_eval(self.name_valid_sets[i - 1], i, feval)]\n\u001b[0m\u001b[0;32m   1979\u001b[0m \u001b[1;33m\u001b[0m\u001b[0m\n\u001b[0;32m   1980\u001b[0m     \u001b[1;32mdef\u001b[0m \u001b[0msave_model\u001b[0m\u001b[1;33m(\u001b[0m\u001b[0mself\u001b[0m\u001b[1;33m,\u001b[0m \u001b[0mfilename\u001b[0m\u001b[1;33m,\u001b[0m \u001b[0mnum_iteration\u001b[0m\u001b[1;33m=\u001b[0m\u001b[1;32mNone\u001b[0m\u001b[1;33m,\u001b[0m \u001b[0mstart_iteration\u001b[0m\u001b[1;33m=\u001b[0m\u001b[1;36m0\u001b[0m\u001b[1;33m)\u001b[0m\u001b[1;33m:\u001b[0m\u001b[1;33m\u001b[0m\u001b[1;33m\u001b[0m\u001b[0m\n",
      "\u001b[1;32mC:\\ProgramData\\Anaconda3\\lib\\site-packages\\lightgbm\\basic.py\u001b[0m in \u001b[0;36m__inner_eval\u001b[1;34m(self, data_name, data_idx, feval)\u001b[0m\n\u001b[0;32m   2373\u001b[0m             \u001b[1;32melse\u001b[0m\u001b[1;33m:\u001b[0m\u001b[1;33m\u001b[0m\u001b[1;33m\u001b[0m\u001b[0m\n\u001b[0;32m   2374\u001b[0m                 \u001b[0mcur_data\u001b[0m \u001b[1;33m=\u001b[0m \u001b[0mself\u001b[0m\u001b[1;33m.\u001b[0m\u001b[0mvalid_sets\u001b[0m\u001b[1;33m[\u001b[0m\u001b[0mdata_idx\u001b[0m \u001b[1;33m-\u001b[0m \u001b[1;36m1\u001b[0m\u001b[1;33m]\u001b[0m\u001b[1;33m\u001b[0m\u001b[1;33m\u001b[0m\u001b[0m\n\u001b[1;32m-> 2375\u001b[1;33m             \u001b[0mfeval_ret\u001b[0m \u001b[1;33m=\u001b[0m \u001b[0mfeval\u001b[0m\u001b[1;33m(\u001b[0m\u001b[0mself\u001b[0m\u001b[1;33m.\u001b[0m\u001b[0m__inner_predict\u001b[0m\u001b[1;33m(\u001b[0m\u001b[0mdata_idx\u001b[0m\u001b[1;33m)\u001b[0m\u001b[1;33m,\u001b[0m \u001b[0mcur_data\u001b[0m\u001b[1;33m)\u001b[0m\u001b[1;33m\u001b[0m\u001b[1;33m\u001b[0m\u001b[0m\n\u001b[0m\u001b[0;32m   2376\u001b[0m             \u001b[1;32mif\u001b[0m \u001b[0misinstance\u001b[0m\u001b[1;33m(\u001b[0m\u001b[0mfeval_ret\u001b[0m\u001b[1;33m,\u001b[0m \u001b[0mlist\u001b[0m\u001b[1;33m)\u001b[0m\u001b[1;33m:\u001b[0m\u001b[1;33m\u001b[0m\u001b[1;33m\u001b[0m\u001b[0m\n\u001b[0;32m   2377\u001b[0m                 \u001b[1;32mfor\u001b[0m \u001b[0meval_name\u001b[0m\u001b[1;33m,\u001b[0m \u001b[0mval\u001b[0m\u001b[1;33m,\u001b[0m \u001b[0mis_higher_better\u001b[0m \u001b[1;32min\u001b[0m \u001b[0mfeval_ret\u001b[0m\u001b[1;33m:\u001b[0m\u001b[1;33m\u001b[0m\u001b[1;33m\u001b[0m\u001b[0m\n",
      "\u001b[1;32m<ipython-input-55-5eba37938152>\u001b[0m in \u001b[0;36mlgb_roc_auc_score\u001b[1;34m(y_hat, data)\u001b[0m\n\u001b[0;32m      2\u001b[0m     \u001b[0my_true\u001b[0m \u001b[1;33m=\u001b[0m \u001b[0mdata\u001b[0m\u001b[1;33m.\u001b[0m\u001b[0mget_label\u001b[0m\u001b[1;33m(\u001b[0m\u001b[1;33m)\u001b[0m\u001b[1;33m\u001b[0m\u001b[1;33m\u001b[0m\u001b[0m\n\u001b[0;32m      3\u001b[0m     \u001b[0my_hat\u001b[0m \u001b[1;33m=\u001b[0m \u001b[0mnp\u001b[0m\u001b[1;33m.\u001b[0m\u001b[0mround\u001b[0m\u001b[1;33m(\u001b[0m\u001b[0my_hat\u001b[0m\u001b[1;33m)\u001b[0m\u001b[1;33m\u001b[0m\u001b[1;33m\u001b[0m\u001b[0m\n\u001b[1;32m----> 4\u001b[1;33m     \u001b[1;32mreturn\u001b[0m \u001b[1;34m'f1'\u001b[0m\u001b[1;33m,\u001b[0m \u001b[0mroc_auc_score\u001b[0m\u001b[1;33m(\u001b[0m\u001b[0my_true\u001b[0m\u001b[1;33m,\u001b[0m \u001b[0my_hat\u001b[0m\u001b[1;33m)\u001b[0m\u001b[1;33m,\u001b[0m \u001b[1;32mTrue\u001b[0m\u001b[1;33m\u001b[0m\u001b[1;33m\u001b[0m\u001b[0m\n\u001b[0m",
      "\u001b[1;32mC:\\ProgramData\\Anaconda3\\lib\\site-packages\\sklearn\\metrics\\ranking.py\u001b[0m in \u001b[0;36mroc_auc_score\u001b[1;34m(y_true, y_score, average, sample_weight, max_fpr)\u001b[0m\n\u001b[0;32m    353\u001b[0m     return _average_binary_score(\n\u001b[0;32m    354\u001b[0m         \u001b[0m_binary_roc_auc_score\u001b[0m\u001b[1;33m,\u001b[0m \u001b[0my_true\u001b[0m\u001b[1;33m,\u001b[0m \u001b[0my_score\u001b[0m\u001b[1;33m,\u001b[0m \u001b[0maverage\u001b[0m\u001b[1;33m,\u001b[0m\u001b[1;33m\u001b[0m\u001b[1;33m\u001b[0m\u001b[0m\n\u001b[1;32m--> 355\u001b[1;33m         sample_weight=sample_weight)\n\u001b[0m\u001b[0;32m    356\u001b[0m \u001b[1;33m\u001b[0m\u001b[0m\n\u001b[0;32m    357\u001b[0m \u001b[1;33m\u001b[0m\u001b[0m\n",
      "\u001b[1;32mC:\\ProgramData\\Anaconda3\\lib\\site-packages\\sklearn\\metrics\\base.py\u001b[0m in \u001b[0;36m_average_binary_score\u001b[1;34m(binary_metric, y_true, y_score, average, sample_weight)\u001b[0m\n\u001b[0;32m     71\u001b[0m     \u001b[0my_type\u001b[0m \u001b[1;33m=\u001b[0m \u001b[0mtype_of_target\u001b[0m\u001b[1;33m(\u001b[0m\u001b[0my_true\u001b[0m\u001b[1;33m)\u001b[0m\u001b[1;33m\u001b[0m\u001b[1;33m\u001b[0m\u001b[0m\n\u001b[0;32m     72\u001b[0m     \u001b[1;32mif\u001b[0m \u001b[0my_type\u001b[0m \u001b[1;32mnot\u001b[0m \u001b[1;32min\u001b[0m \u001b[1;33m(\u001b[0m\u001b[1;34m\"binary\"\u001b[0m\u001b[1;33m,\u001b[0m \u001b[1;34m\"multilabel-indicator\"\u001b[0m\u001b[1;33m)\u001b[0m\u001b[1;33m:\u001b[0m\u001b[1;33m\u001b[0m\u001b[1;33m\u001b[0m\u001b[0m\n\u001b[1;32m---> 73\u001b[1;33m         \u001b[1;32mraise\u001b[0m \u001b[0mValueError\u001b[0m\u001b[1;33m(\u001b[0m\u001b[1;34m\"{0} format is not supported\"\u001b[0m\u001b[1;33m.\u001b[0m\u001b[0mformat\u001b[0m\u001b[1;33m(\u001b[0m\u001b[0my_type\u001b[0m\u001b[1;33m)\u001b[0m\u001b[1;33m)\u001b[0m\u001b[1;33m\u001b[0m\u001b[1;33m\u001b[0m\u001b[0m\n\u001b[0m\u001b[0;32m     74\u001b[0m \u001b[1;33m\u001b[0m\u001b[0m\n\u001b[0;32m     75\u001b[0m     \u001b[1;32mif\u001b[0m \u001b[0my_type\u001b[0m \u001b[1;33m==\u001b[0m \u001b[1;34m\"binary\"\u001b[0m\u001b[1;33m:\u001b[0m\u001b[1;33m\u001b[0m\u001b[1;33m\u001b[0m\u001b[0m\n",
      "\u001b[1;31mValueError\u001b[0m: continuous format is not supported"
     ]
    }
   ],
   "source": [
    "for index, (train_index, test_index) in enumerate(skf.split(train_end, y)):\n",
    "    print(index)\n",
    "    train_x, test_x, train_y, test_y = train_end.iloc[train_index],train_end.iloc[test_index], y.iloc[train_index], y.iloc[test_index]\n",
    "    lgb_model = lgb.train(lgb_paras,\n",
    "                          train_set = lgb.Dataset(train_x[feature], train_y),\n",
    "                          valid_sets=[lgb.Dataset(test_x[feature],test_y)],\n",
    "                          \n",
    "                          num_boost_round=800 ,\n",
    "                          feval=lgb_roc_auc_score,\n",
    "                          verbose_eval=50,\n",
    "                          categorical_feature = object_col\n",
    "                          )\n",
    "\n",
    "    \n",
    "\n",
    "    y_val = lgb_model.predict(test_x[feature])\n",
    "    \n",
    "    print( roc_auc_score( test_y , np.round( y_val) ) )\n",
    "    \n",
    "    \n",
    "    cv_score.append(roc_auc_score(test_y,np.round(y_val)))\n",
    "    \n",
    "    print(cv_score[index])\n",
    "    \n",
    "    test_pred += lgb_model.predict(test[feature]) / 5"
   ]
  },
  {
   "cell_type": "code",
   "execution_count": 59,
   "metadata": {},
   "outputs": [],
   "source": [
    "X_train,X_test,y_train,y_test = train_test_split(train_end.iloc[:,:-1],train_end.iloc[:,-1],test_size=0.3)"
   ]
  },
  {
   "cell_type": "code",
   "execution_count": 148,
   "metadata": {},
   "outputs": [
    {
     "name": "stdout",
     "output_type": "stream",
     "text": [
      "开始训练...\n",
      "[1]\tvalid_0's auc: 0.921173\tvalid_0's l2: 4.6491\n",
      "Training until validation scores don't improve for 5 rounds.\n",
      "[2]\tvalid_0's auc: 0.926199\tvalid_0's l2: 4.2023\n",
      "[3]\tvalid_0's auc: 0.926199\tvalid_0's l2: 3.79932\n",
      "[4]\tvalid_0's auc: 0.932372\tvalid_0's l2: 3.43539\n",
      "[5]\tvalid_0's auc: 0.9327\tvalid_0's l2: 3.10705\n",
      "[6]\tvalid_0's auc: 0.9327\tvalid_0's l2: 2.80998\n",
      "[7]\tvalid_0's auc: 0.9327\tvalid_0's l2: 2.54187\n",
      "[8]\tvalid_0's auc: 0.934994\tvalid_0's l2: 2.29974\n",
      "[9]\tvalid_0's auc: 0.935923\tvalid_0's l2: 2.08175\n",
      "[10]\tvalid_0's auc: 0.935923\tvalid_0's l2: 1.88419\n",
      "[11]\tvalid_0's auc: 0.935923\tvalid_0's l2: 1.70625\n",
      "[12]\tvalid_0's auc: 0.935923\tvalid_0's l2: 1.54569\n",
      "[13]\tvalid_0's auc: 0.939747\tvalid_0's l2: 1.41717\n",
      "[14]\tvalid_0's auc: 0.93849\tvalid_0's l2: 1.28527\n",
      "[15]\tvalid_0's auc: 0.93849\tvalid_0's l2: 1.16582\n",
      "[16]\tvalid_0's auc: 0.93849\tvalid_0's l2: 1.05907\n",
      "[17]\tvalid_0's auc: 0.945155\tvalid_0's l2: 0.961549\n",
      "[18]\tvalid_0's auc: 0.943844\tvalid_0's l2: 0.873474\n",
      "[19]\tvalid_0's auc: 0.946793\tvalid_0's l2: 0.793923\n",
      "[20]\tvalid_0's auc: 0.946684\tvalid_0's l2: 0.72213\n",
      "Did not meet early stopping. Best iteration is:\n",
      "[19]\tvalid_0's auc: 0.946793\tvalid_0's l2: 0.793923\n",
      "开始预测...\n",
      "预估结果的rmse为:\n",
      "0.8910238364585127\n"
     ]
    }
   ],
   "source": [
    "lgb_train = lgb.Dataset(X_train, y_train)\n",
    "lgb_eval = lgb.Dataset(X_test, y_test, reference=lgb_train)\n",
    "\n",
    "# 参数\n",
    "params = {\n",
    "    'task': 'train',\n",
    "    'boosting_type': 'gbdt',\n",
    "    'objective': 'regression',\n",
    "    'metric': {'l2', 'auc'},\n",
    "    'num_leaves': 31,\n",
    "    'learning_rate': 0.05,\n",
    "    'feature_fraction': 0.9,\n",
    "    'bagging_fraction': 0.8,\n",
    "    'bagging_freq': 5,\n",
    "    'verbose': 0\n",
    "}\n",
    "print('开始训练...')\n",
    "# 训练\n",
    "gbm = lgb.train(params,\n",
    "                lgb_train,\n",
    "                num_boost_round=20,\n",
    "                valid_sets=lgb_eval,\n",
    "                early_stopping_rounds=5)\n",
    "\n",
    "print('开始预测...')\n",
    "# 预测\n",
    "y_pred = gbm.predict(X_test, num_iteration=gbm.best_iteration)\n",
    "#交叉验证\n",
    "\n",
    "# 评估\n",
    "print('预估结果的rmse为:')\n",
    "print(mean_squared_error(y_test, y_pred) ** 0.5)"
   ]
  },
  {
   "cell_type": "code",
   "execution_count": 150,
   "metadata": {},
   "outputs": [
    {
     "data": {
      "text/html": [
       "<div>\n",
       "<style scoped>\n",
       "    .dataframe tbody tr th:only-of-type {\n",
       "        vertical-align: middle;\n",
       "    }\n",
       "\n",
       "    .dataframe tbody tr th {\n",
       "        vertical-align: top;\n",
       "    }\n",
       "\n",
       "    .dataframe thead th {\n",
       "        text-align: right;\n",
       "    }\n",
       "</style>\n",
       "<table border=\"1\" class=\"dataframe\">\n",
       "  <thead>\n",
       "    <tr style=\"text-align: right;\">\n",
       "      <th></th>\n",
       "      <th>预测值</th>\n",
       "      <th>实际值</th>\n",
       "    </tr>\n",
       "  </thead>\n",
       "  <tbody>\n",
       "    <tr>\n",
       "      <td>6053</td>\n",
       "      <td>2.660723</td>\n",
       "      <td>2.673459</td>\n",
       "    </tr>\n",
       "    <tr>\n",
       "      <td>8034</td>\n",
       "      <td>1.160255</td>\n",
       "      <td>0.262364</td>\n",
       "    </tr>\n",
       "    <tr>\n",
       "      <td>1959</td>\n",
       "      <td>1.080405</td>\n",
       "      <td>0.080658</td>\n",
       "    </tr>\n",
       "    <tr>\n",
       "      <td>2181</td>\n",
       "      <td>3.376086</td>\n",
       "      <td>3.798698</td>\n",
       "    </tr>\n",
       "    <tr>\n",
       "      <td>7678</td>\n",
       "      <td>4.177306</td>\n",
       "      <td>5.040841</td>\n",
       "    </tr>\n",
       "  </tbody>\n",
       "</table>\n",
       "</div>"
      ],
      "text/plain": [
       "           预测值       实际值\n",
       "6053  2.660723  2.673459\n",
       "8034  1.160255  0.262364\n",
       "1959  1.080405  0.080658\n",
       "2181  3.376086  3.798698\n",
       "7678  4.177306  5.040841"
      ]
     },
     "execution_count": 150,
     "metadata": {},
     "output_type": "execute_result"
    }
   ],
   "source": [
    "pd.DataFrame({\"预测值\":y_pred,\"实际值\":y_test}).head()"
   ]
  },
  {
   "cell_type": "markdown",
   "metadata": {},
   "source": [
    "# 多项式回归"
   ]
  },
  {
   "cell_type": "code",
   "execution_count": 151,
   "metadata": {},
   "outputs": [
    {
     "name": "stdout",
     "output_type": "stream",
     "text": [
      "[-0.60323462] [-0.60323462  0.36389201]\n",
      "[2.08183476] [[1.05006034 0.47989281]]\n"
     ]
    },
    {
     "data": {
      "image/png": "[encoded data removed]",
      "text/plain": [
       "<Figure size 432x288 with 1 Axes>"
      ]
     },
     "metadata": {
      "needs_background": "light"
     },
     "output_type": "display_data"
    }
   ],
   "source": [
    "from sklearn.preprocessing import PolynomialFeatures\n",
    "from sklearn.linear_model import LinearRegression\n",
    "m = 100\n",
    "X = 6 * np.random.rand(m,1) - 3\n",
    "y = 0.5 * X**2 + X + 2 + np.random.randn(m, 1)\n",
    "\n",
    "poly_features = PolynomialFeatures( degree=2, include_bias=False )\n",
    "X_poly = poly_features.fit_transform( X )\n",
    "print( X[0], X_poly[0] )\n",
    "\n",
    "lin_reg = LinearRegression()\n",
    "lin_reg.fit( X_poly, y )\n",
    "print( lin_reg.intercept_, lin_reg.coef_ )\n",
    "\n",
    "# min是找出矩阵最小值，argmin是找出矩阵最小值所在的index\n",
    "X_pred = np.linspace( np.min(X), np.max(X), 50 )\n",
    "# coef所对应的阶数是从1往n排的\n",
    "y_poly_pred = lin_reg.coef_[0,1] * X_pred**2 + lin_reg.coef_[0,0] * X_pred + lin_reg.intercept_\n",
    "\n",
    "plt.plot( X, y, 'r+' )\n",
    "plt.plot( X_pred, y_poly_pred, 'b-' )\n",
    "plt.show()"
   ]
  },
  {
   "cell_type": "code",
   "execution_count": 72,
   "metadata": {},
   "outputs": [
    {
     "data": {
      "image/png": "[encoded data removed]",
      "text/plain": [
       "<Figure size 432x288 with 1 Axes>"
      ]
     },
     "metadata": {
      "needs_background": "light"
     },
     "output_type": "display_data"
    }
   ],
   "source": [
    "from sklearn.metrics import mean_squared_error\n",
    "from sklearn.model_selection import train_test_split\n",
    "\n",
    "def plot_learning_curves(model, X, y):\n",
    "    X_train, X_val, y_train, y_val = train_test_split( X, y, test_size=0.2 )\n",
    "    train_errors, val_errors = [], []\n",
    "    for m in range(1, len(X_train)):\n",
    "        model.fit( X_train[:m], y_train[:m] )\n",
    "        y_train_predict = model.predict( X_train[:m] )\n",
    "        y_val_predict = model.predict( X_val )\n",
    "        train_errors.append( mean_squared_error( y_train_predict, y_train[:m] ) )\n",
    "        val_errors.append( mean_squared_error( y_val_predict, y_val ) )\n",
    "    plt.plot( np.sqrt(train_errors), \"r-+\", label=\"train\" )\n",
    "    plt.plot( np.sqrt(val_errors), \"b-\", label=\"validation\" )\n",
    "    plt.legend()\n",
    "\n",
    "lin_reg = LinearRegression()\n",
    "plot_learning_curves( lin_reg, X, y )\n",
    "plt.show()"
   ]
  },
  {
   "cell_type": "code",
   "execution_count": 152,
   "metadata": {},
   "outputs": [
    {
     "data": {
      "image/png": "[encoded data removed]",
      "text/plain": [
       "<Figure size 432x288 with 1 Axes>"
      ]
     },
     "metadata": {
      "needs_background": "light"
     },
     "output_type": "display_data"
    },
    {
     "name": "stdout",
     "output_type": "stream",
     "text": [
      "MSE train: 396156.158, test: 4631398.923\n",
      "PolynomialFeatures MSE train: 3376.297, test: 41052196.795\n",
      "R^2 train: 0.488, test: 0.730\n",
      "PolynomialFeatures R^2 train: 0.996, test: -1.396\n"
     ]
    }
   ],
   "source": [
    "from sklearn.preprocessing import PolynomialFeatures\n",
    "# 线性模型训练\n",
    "X_train,X_test,y_train,y_test = train_test_split(train_end.iloc[:,:-1],train_end.iloc[:,-1],test_size=0.3)\n",
    "slr = LinearRegression()\n",
    "slr.fit(X_train, y_train)\n",
    "y_train_pred = slr.predict(X_train)\n",
    "y_test_pred = slr.predict(X_test)\n",
    " \n",
    "# 多项式回归模型构造及训练\n",
    "spr = LinearRegression()\n",
    "quadratic = PolynomialFeatures()\n",
    "X_train_quad = quadratic.fit_transform(X_train)\n",
    "spr.fit(X_train_quad, y_train)\n",
    "y_train_pred_quad = spr.predict(X_train_quad)\n",
    "y_test_pred_quad = spr.predict(quadratic.fit_transform(X_test))\n",
    " \n",
    " \n",
    "# 残差评估方法\n",
    "plt.scatter(y_train_pred, y_train_pred-y_train,\n",
    "            c='blue', marker='o', label='Training data')\n",
    "plt.scatter(y_test_pred, y_test_pred-y_test,\n",
    "            c='lightgreen', marker='s', label='Test data')\n",
    "plt.xlabel('Predicted values')\n",
    "plt.ylabel('Residuals')\n",
    "plt.legend(loc='upper left')\n",
    "plt.hlines(y=0, xmin=-10, xmax=50, lw=2, colors='red')\n",
    "plt.xlim([-10, 50])\n",
    "#plt.savefig('../result/residuals_metric.png')\n",
    "plt.show()\n",
    " \n",
    "# 均方误差评价指标\n",
    "from sklearn.metrics import mean_squared_error\n",
    "print('MSE train: %.3f, test: %.3f' % (\n",
    "    mean_squared_error(y_train, y_train_pred),\n",
    "    mean_squared_error(y_test, y_test_pred))\n",
    ")\n",
    "print('PolynomialFeatures MSE train: %.3f, test: %.3f' % (\n",
    "    mean_squared_error(y_train, y_train_pred_quad),\n",
    "    mean_squared_error(y_test, y_test_pred_quad))\n",
    ")\n",
    " \n",
    "# 决定系数评价指标\n",
    "from sklearn.metrics import r2_score\n",
    "print('R^2 train: %.3f, test: %.3f' %\n",
    "      (r2_score(y_train, y_train_pred),\n",
    "      r2_score(y_test, y_test_pred)))\n",
    "print('PolynomialFeatures R^2 train: %.3f, test: %.3f' %\n",
    "      (r2_score(y_train, y_train_pred_quad),\n",
    "      r2_score(y_test, y_test_pred_quad)))\n",
    " \n"
   ]
  },
  {
   "cell_type": "code",
   "execution_count": 153,
   "metadata": {},
   "outputs": [
    {
     "data": {
      "text/html": [
       "<div>\n",
       "<style scoped>\n",
       "    .dataframe tbody tr th:only-of-type {\n",
       "        vertical-align: middle;\n",
       "    }\n",
       "\n",
       "    .dataframe tbody tr th {\n",
       "        vertical-align: top;\n",
       "    }\n",
       "\n",
       "    .dataframe thead th {\n",
       "        text-align: right;\n",
       "    }\n",
       "</style>\n",
       "<table border=\"1\" class=\"dataframe\">\n",
       "  <thead>\n",
       "    <tr style=\"text-align: right;\">\n",
       "      <th></th>\n",
       "      <th>预测值</th>\n",
       "      <th>实际值</th>\n",
       "    </tr>\n",
       "  </thead>\n",
       "  <tbody>\n",
       "    <tr>\n",
       "      <td>10100</td>\n",
       "      <td>8.214282</td>\n",
       "      <td>0.098</td>\n",
       "    </tr>\n",
       "    <tr>\n",
       "      <td>10084</td>\n",
       "      <td>8.830568</td>\n",
       "      <td>0.614</td>\n",
       "    </tr>\n",
       "    <tr>\n",
       "      <td>4863</td>\n",
       "      <td>0.654279</td>\n",
       "      <td>0.323</td>\n",
       "    </tr>\n",
       "    <tr>\n",
       "      <td>1529</td>\n",
       "      <td>12.990806</td>\n",
       "      <td>7.149</td>\n",
       "    </tr>\n",
       "    <tr>\n",
       "      <td>8001</td>\n",
       "      <td>2.130660</td>\n",
       "      <td>0.205</td>\n",
       "    </tr>\n",
       "    <tr>\n",
       "      <td>2209</td>\n",
       "      <td>-2.570758</td>\n",
       "      <td>0.263</td>\n",
       "    </tr>\n",
       "    <tr>\n",
       "      <td>2600</td>\n",
       "      <td>30.922326</td>\n",
       "      <td>34.869</td>\n",
       "    </tr>\n",
       "    <tr>\n",
       "      <td>5831</td>\n",
       "      <td>11.847589</td>\n",
       "      <td>0.097</td>\n",
       "    </tr>\n",
       "    <tr>\n",
       "      <td>3588</td>\n",
       "      <td>9.838811</td>\n",
       "      <td>0.491</td>\n",
       "    </tr>\n",
       "    <tr>\n",
       "      <td>5105</td>\n",
       "      <td>0.570240</td>\n",
       "      <td>0.359</td>\n",
       "    </tr>\n",
       "    <tr>\n",
       "      <td>9109</td>\n",
       "      <td>16.435631</td>\n",
       "      <td>27.000</td>\n",
       "    </tr>\n",
       "    <tr>\n",
       "      <td>7047</td>\n",
       "      <td>16.370104</td>\n",
       "      <td>15.941</td>\n",
       "    </tr>\n",
       "    <tr>\n",
       "      <td>8580</td>\n",
       "      <td>187.575013</td>\n",
       "      <td>188.800</td>\n",
       "    </tr>\n",
       "    <tr>\n",
       "      <td>1758</td>\n",
       "      <td>1.422933</td>\n",
       "      <td>0.024</td>\n",
       "    </tr>\n",
       "    <tr>\n",
       "      <td>8142</td>\n",
       "      <td>358.665263</td>\n",
       "      <td>360.000</td>\n",
       "    </tr>\n",
       "    <tr>\n",
       "      <td>1967</td>\n",
       "      <td>0.854388</td>\n",
       "      <td>0.312</td>\n",
       "    </tr>\n",
       "    <tr>\n",
       "      <td>6197</td>\n",
       "      <td>-0.796208</td>\n",
       "      <td>1.202</td>\n",
       "    </tr>\n",
       "    <tr>\n",
       "      <td>4217</td>\n",
       "      <td>1.994127</td>\n",
       "      <td>1.151</td>\n",
       "    </tr>\n",
       "    <tr>\n",
       "      <td>9819</td>\n",
       "      <td>8.206322</td>\n",
       "      <td>7.015</td>\n",
       "    </tr>\n",
       "    <tr>\n",
       "      <td>668</td>\n",
       "      <td>2100.711078</td>\n",
       "      <td>2147.122</td>\n",
       "    </tr>\n",
       "    <tr>\n",
       "      <td>3808</td>\n",
       "      <td>91.748852</td>\n",
       "      <td>96.984</td>\n",
       "    </tr>\n",
       "    <tr>\n",
       "      <td>8181</td>\n",
       "      <td>82.210301</td>\n",
       "      <td>87.285</td>\n",
       "    </tr>\n",
       "    <tr>\n",
       "      <td>8136</td>\n",
       "      <td>1.263896</td>\n",
       "      <td>0.398</td>\n",
       "    </tr>\n",
       "    <tr>\n",
       "      <td>7090</td>\n",
       "      <td>7.442988</td>\n",
       "      <td>0.006</td>\n",
       "    </tr>\n",
       "    <tr>\n",
       "      <td>6318</td>\n",
       "      <td>-1.297935</td>\n",
       "      <td>0.222</td>\n",
       "    </tr>\n",
       "    <tr>\n",
       "      <td>9737</td>\n",
       "      <td>0.896981</td>\n",
       "      <td>0.399</td>\n",
       "    </tr>\n",
       "    <tr>\n",
       "      <td>7332</td>\n",
       "      <td>9.307031</td>\n",
       "      <td>8.820</td>\n",
       "    </tr>\n",
       "    <tr>\n",
       "      <td>5814</td>\n",
       "      <td>891.856774</td>\n",
       "      <td>894.758</td>\n",
       "    </tr>\n",
       "    <tr>\n",
       "      <td>4189</td>\n",
       "      <td>1.354057</td>\n",
       "      <td>0.200</td>\n",
       "    </tr>\n",
       "    <tr>\n",
       "      <td>8751</td>\n",
       "      <td>3.472191</td>\n",
       "      <td>1.602</td>\n",
       "    </tr>\n",
       "    <tr>\n",
       "      <td>2231</td>\n",
       "      <td>11.508840</td>\n",
       "      <td>12.800</td>\n",
       "    </tr>\n",
       "    <tr>\n",
       "      <td>2124</td>\n",
       "      <td>3.604681</td>\n",
       "      <td>7.883</td>\n",
       "    </tr>\n",
       "    <tr>\n",
       "      <td>7729</td>\n",
       "      <td>27.908768</td>\n",
       "      <td>29.400</td>\n",
       "    </tr>\n",
       "    <tr>\n",
       "      <td>3219</td>\n",
       "      <td>10.152370</td>\n",
       "      <td>1.423</td>\n",
       "    </tr>\n",
       "    <tr>\n",
       "      <td>3390</td>\n",
       "      <td>-1.208120</td>\n",
       "      <td>4.063</td>\n",
       "    </tr>\n",
       "    <tr>\n",
       "      <td>5485</td>\n",
       "      <td>-0.034880</td>\n",
       "      <td>0.617</td>\n",
       "    </tr>\n",
       "    <tr>\n",
       "      <td>10069</td>\n",
       "      <td>1.662551</td>\n",
       "      <td>1.193</td>\n",
       "    </tr>\n",
       "    <tr>\n",
       "      <td>5174</td>\n",
       "      <td>0.110606</td>\n",
       "      <td>0.503</td>\n",
       "    </tr>\n",
       "    <tr>\n",
       "      <td>4896</td>\n",
       "      <td>45.229472</td>\n",
       "      <td>48.492</td>\n",
       "    </tr>\n",
       "    <tr>\n",
       "      <td>9696</td>\n",
       "      <td>-0.586156</td>\n",
       "      <td>0.222</td>\n",
       "    </tr>\n",
       "    <tr>\n",
       "      <td>7040</td>\n",
       "      <td>2.893508</td>\n",
       "      <td>3.313</td>\n",
       "    </tr>\n",
       "    <tr>\n",
       "      <td>7266</td>\n",
       "      <td>2.113520</td>\n",
       "      <td>0.329</td>\n",
       "    </tr>\n",
       "    <tr>\n",
       "      <td>6266</td>\n",
       "      <td>54.154334</td>\n",
       "      <td>58.190</td>\n",
       "    </tr>\n",
       "    <tr>\n",
       "      <td>8597</td>\n",
       "      <td>7.363834</td>\n",
       "      <td>0.147</td>\n",
       "    </tr>\n",
       "    <tr>\n",
       "      <td>6250</td>\n",
       "      <td>202.019769</td>\n",
       "      <td>203.840</td>\n",
       "    </tr>\n",
       "    <tr>\n",
       "      <td>3672</td>\n",
       "      <td>-5.190558</td>\n",
       "      <td>1.200</td>\n",
       "    </tr>\n",
       "    <tr>\n",
       "      <td>4594</td>\n",
       "      <td>1.978988</td>\n",
       "      <td>1.325</td>\n",
       "    </tr>\n",
       "    <tr>\n",
       "      <td>2692</td>\n",
       "      <td>1.329441</td>\n",
       "      <td>0.585</td>\n",
       "    </tr>\n",
       "    <tr>\n",
       "      <td>9292</td>\n",
       "      <td>55.430507</td>\n",
       "      <td>58.800</td>\n",
       "    </tr>\n",
       "    <tr>\n",
       "      <td>95</td>\n",
       "      <td>523.040333</td>\n",
       "      <td>524.625</td>\n",
       "    </tr>\n",
       "  </tbody>\n",
       "</table>\n",
       "</div>"
      ],
      "text/plain": [
       "               预测值       实际值\n",
       "10100     8.214282     0.098\n",
       "10084     8.830568     0.614\n",
       "4863      0.654279     0.323\n",
       "1529     12.990806     7.149\n",
       "8001      2.130660     0.205\n",
       "2209     -2.570758     0.263\n",
       "2600     30.922326    34.869\n",
       "5831     11.847589     0.097\n",
       "3588      9.838811     0.491\n",
       "5105      0.570240     0.359\n",
       "9109     16.435631    27.000\n",
       "7047     16.370104    15.941\n",
       "8580    187.575013   188.800\n",
       "1758      1.422933     0.024\n",
       "8142    358.665263   360.000\n",
       "1967      0.854388     0.312\n",
       "6197     -0.796208     1.202\n",
       "4217      1.994127     1.151\n",
       "9819      8.206322     7.015\n",
       "668    2100.711078  2147.122\n",
       "3808     91.748852    96.984\n",
       "8181     82.210301    87.285\n",
       "8136      1.263896     0.398\n",
       "7090      7.442988     0.006\n",
       "6318     -1.297935     0.222\n",
       "9737      0.896981     0.399\n",
       "7332      9.307031     8.820\n",
       "5814    891.856774   894.758\n",
       "4189      1.354057     0.200\n",
       "8751      3.472191     1.602\n",
       "2231     11.508840    12.800\n",
       "2124      3.604681     7.883\n",
       "7729     27.908768    29.400\n",
       "3219     10.152370     1.423\n",
       "3390     -1.208120     4.063\n",
       "5485     -0.034880     0.617\n",
       "10069     1.662551     1.193\n",
       "5174      0.110606     0.503\n",
       "4896     45.229472    48.492\n",
       "9696     -0.586156     0.222\n",
       "7040      2.893508     3.313\n",
       "7266      2.113520     0.329\n",
       "6266     54.154334    58.190\n",
       "8597      7.363834     0.147\n",
       "6250    202.019769   203.840\n",
       "3672     -5.190558     1.200\n",
       "4594      1.978988     1.325\n",
       "2692      1.329441     0.585\n",
       "9292     55.430507    58.800\n",
       "95      523.040333   524.625"
      ]
     },
     "execution_count": 153,
     "metadata": {},
     "output_type": "execute_result"
    }
   ],
   "source": [
    "pd.DataFrame({'预测值':y_train_pred_quad,'实际值':y_train}).head(50)"
   ]
  },
  {
   "cell_type": "code",
   "execution_count": 92,
   "metadata": {},
   "outputs": [
    {
     "ename": "IndexingError",
     "evalue": "Too many indexers",
     "output_type": "error",
     "traceback": [
      "\u001b[1;31m---------------------------------------------------------------------------\u001b[0m",
      "\u001b[1;31mIndexingError\u001b[0m                             Traceback (most recent call last)",
      "\u001b[1;32m<ipython-input-92-2a9dccc8a447>\u001b[0m in \u001b[0;36m<module>\u001b[1;34m\u001b[0m\n\u001b[0;32m      6\u001b[0m     \u001b[0mtrain_X\u001b[0m \u001b[1;33m=\u001b[0m \u001b[0mX\u001b[0m\u001b[1;33m.\u001b[0m\u001b[0miloc\u001b[0m\u001b[1;33m[\u001b[0m\u001b[0mtrain_index\u001b[0m\u001b[1;33m,\u001b[0m\u001b[1;33m:\u001b[0m\u001b[1;33m]\u001b[0m\u001b[1;33m\u001b[0m\u001b[1;33m\u001b[0m\u001b[0m\n\u001b[0;32m      7\u001b[0m     \u001b[0mtest_X\u001b[0m \u001b[1;33m=\u001b[0m \u001b[0mX\u001b[0m\u001b[1;33m.\u001b[0m\u001b[0miloc\u001b[0m\u001b[1;33m[\u001b[0m\u001b[0mtest_index\u001b[0m\u001b[1;33m,\u001b[0m\u001b[1;33m:\u001b[0m\u001b[1;33m]\u001b[0m\u001b[1;33m\u001b[0m\u001b[1;33m\u001b[0m\u001b[0m\n\u001b[1;32m----> 8\u001b[1;33m     \u001b[0mtrain_y\u001b[0m \u001b[1;33m=\u001b[0m \u001b[0my\u001b[0m\u001b[1;33m.\u001b[0m\u001b[0miloc\u001b[0m\u001b[1;33m[\u001b[0m\u001b[0mtrain_index\u001b[0m\u001b[1;33m,\u001b[0m\u001b[1;33m:\u001b[0m\u001b[1;33m]\u001b[0m\u001b[1;33m\u001b[0m\u001b[1;33m\u001b[0m\u001b[0m\n\u001b[0m\u001b[0;32m      9\u001b[0m     \u001b[0mtest_y\u001b[0m \u001b[1;33m=\u001b[0m \u001b[0my\u001b[0m\u001b[1;33m.\u001b[0m\u001b[0miloc\u001b[0m\u001b[1;33m[\u001b[0m\u001b[0mtest_index\u001b[0m\u001b[1;33m,\u001b[0m\u001b[1;33m:\u001b[0m\u001b[1;33m]\u001b[0m\u001b[1;33m\u001b[0m\u001b[1;33m\u001b[0m\u001b[0m\n\u001b[0;32m     10\u001b[0m     \u001b[0mspr\u001b[0m \u001b[1;33m=\u001b[0m \u001b[0mLinearRegression\u001b[0m\u001b[1;33m(\u001b[0m\u001b[1;33m)\u001b[0m\u001b[1;33m\u001b[0m\u001b[1;33m\u001b[0m\u001b[0m\n",
      "\u001b[1;32mC:\\ProgramData\\Anaconda3\\lib\\site-packages\\pandas\\core\\indexing.py\u001b[0m in \u001b[0;36m__getitem__\u001b[1;34m(self, key)\u001b[0m\n\u001b[0;32m   1416\u001b[0m                 \u001b[1;32mexcept\u001b[0m \u001b[1;33m(\u001b[0m\u001b[0mKeyError\u001b[0m\u001b[1;33m,\u001b[0m \u001b[0mIndexError\u001b[0m\u001b[1;33m,\u001b[0m \u001b[0mAttributeError\u001b[0m\u001b[1;33m)\u001b[0m\u001b[1;33m:\u001b[0m\u001b[1;33m\u001b[0m\u001b[1;33m\u001b[0m\u001b[0m\n\u001b[0;32m   1417\u001b[0m                     \u001b[1;32mpass\u001b[0m\u001b[1;33m\u001b[0m\u001b[1;33m\u001b[0m\u001b[0m\n\u001b[1;32m-> 1418\u001b[1;33m             \u001b[1;32mreturn\u001b[0m \u001b[0mself\u001b[0m\u001b[1;33m.\u001b[0m\u001b[0m_getitem_tuple\u001b[0m\u001b[1;33m(\u001b[0m\u001b[0mkey\u001b[0m\u001b[1;33m)\u001b[0m\u001b[1;33m\u001b[0m\u001b[1;33m\u001b[0m\u001b[0m\n\u001b[0m\u001b[0;32m   1419\u001b[0m         \u001b[1;32melse\u001b[0m\u001b[1;33m:\u001b[0m\u001b[1;33m\u001b[0m\u001b[1;33m\u001b[0m\u001b[0m\n\u001b[0;32m   1420\u001b[0m             \u001b[1;31m# we by definition only have the 0th axis\u001b[0m\u001b[1;33m\u001b[0m\u001b[1;33m\u001b[0m\u001b[1;33m\u001b[0m\u001b[0m\n",
      "\u001b[1;32mC:\\ProgramData\\Anaconda3\\lib\\site-packages\\pandas\\core\\indexing.py\u001b[0m in \u001b[0;36m_getitem_tuple\u001b[1;34m(self, tup)\u001b[0m\n\u001b[0;32m   2090\u001b[0m     \u001b[1;32mdef\u001b[0m \u001b[0m_getitem_tuple\u001b[0m\u001b[1;33m(\u001b[0m\u001b[0mself\u001b[0m\u001b[1;33m,\u001b[0m \u001b[0mtup\u001b[0m\u001b[1;33m)\u001b[0m\u001b[1;33m:\u001b[0m\u001b[1;33m\u001b[0m\u001b[1;33m\u001b[0m\u001b[0m\n\u001b[0;32m   2091\u001b[0m \u001b[1;33m\u001b[0m\u001b[0m\n\u001b[1;32m-> 2092\u001b[1;33m         \u001b[0mself\u001b[0m\u001b[1;33m.\u001b[0m\u001b[0m_has_valid_tuple\u001b[0m\u001b[1;33m(\u001b[0m\u001b[0mtup\u001b[0m\u001b[1;33m)\u001b[0m\u001b[1;33m\u001b[0m\u001b[1;33m\u001b[0m\u001b[0m\n\u001b[0m\u001b[0;32m   2093\u001b[0m         \u001b[1;32mtry\u001b[0m\u001b[1;33m:\u001b[0m\u001b[1;33m\u001b[0m\u001b[1;33m\u001b[0m\u001b[0m\n\u001b[0;32m   2094\u001b[0m             \u001b[1;32mreturn\u001b[0m \u001b[0mself\u001b[0m\u001b[1;33m.\u001b[0m\u001b[0m_getitem_lowerdim\u001b[0m\u001b[1;33m(\u001b[0m\u001b[0mtup\u001b[0m\u001b[1;33m)\u001b[0m\u001b[1;33m\u001b[0m\u001b[1;33m\u001b[0m\u001b[0m\n",
      "\u001b[1;32mC:\\ProgramData\\Anaconda3\\lib\\site-packages\\pandas\\core\\indexing.py\u001b[0m in \u001b[0;36m_has_valid_tuple\u001b[1;34m(self, key)\u001b[0m\n\u001b[0;32m    231\u001b[0m         \u001b[1;32mfor\u001b[0m \u001b[0mi\u001b[0m\u001b[1;33m,\u001b[0m \u001b[0mk\u001b[0m \u001b[1;32min\u001b[0m \u001b[0menumerate\u001b[0m\u001b[1;33m(\u001b[0m\u001b[0mkey\u001b[0m\u001b[1;33m)\u001b[0m\u001b[1;33m:\u001b[0m\u001b[1;33m\u001b[0m\u001b[1;33m\u001b[0m\u001b[0m\n\u001b[0;32m    232\u001b[0m             \u001b[1;32mif\u001b[0m \u001b[0mi\u001b[0m \u001b[1;33m>=\u001b[0m \u001b[0mself\u001b[0m\u001b[1;33m.\u001b[0m\u001b[0mobj\u001b[0m\u001b[1;33m.\u001b[0m\u001b[0mndim\u001b[0m\u001b[1;33m:\u001b[0m\u001b[1;33m\u001b[0m\u001b[1;33m\u001b[0m\u001b[0m\n\u001b[1;32m--> 233\u001b[1;33m                 \u001b[1;32mraise\u001b[0m \u001b[0mIndexingError\u001b[0m\u001b[1;33m(\u001b[0m\u001b[1;34m\"Too many indexers\"\u001b[0m\u001b[1;33m)\u001b[0m\u001b[1;33m\u001b[0m\u001b[1;33m\u001b[0m\u001b[0m\n\u001b[0m\u001b[0;32m    234\u001b[0m             \u001b[1;32mtry\u001b[0m\u001b[1;33m:\u001b[0m\u001b[1;33m\u001b[0m\u001b[1;33m\u001b[0m\u001b[0m\n\u001b[0;32m    235\u001b[0m                 \u001b[0mself\u001b[0m\u001b[1;33m.\u001b[0m\u001b[0m_validate_key\u001b[0m\u001b[1;33m(\u001b[0m\u001b[0mk\u001b[0m\u001b[1;33m,\u001b[0m \u001b[0mi\u001b[0m\u001b[1;33m)\u001b[0m\u001b[1;33m\u001b[0m\u001b[1;33m\u001b[0m\u001b[0m\n",
      "\u001b[1;31mIndexingError\u001b[0m: Too many indexers"
     ]
    }
   ],
   "source": [
    "kf = KFold(n_splits=5, random_state=2019, shuffle=True)\n",
    "score_list=[]\n",
    "X = train_end.iloc[:,:-1].reset_index(drop=True)\n",
    "y = train_end.iloc[:,-1].reset_index(drop=True)\n",
    "for train_index,test_index in kf.split(X):\n",
    "    train_X = X.iloc[train_index,:]\n",
    "    test_X = X.iloc[test_index,:]\n",
    "    train_y = y.iloc[train_index,:]\n",
    "    test_y = y.iloc[test_index,:]\n",
    "    spr = LinearRegression()\n",
    "    quadratic = PolynomialFeatures()\n",
    "    train_X_quad = quadratic.fit_transform(train_X)\n",
    "    spr.fit(train_X_quad, train_y)\n",
    "    train_y_pred_quad = spr.predict(train_X_quad)\n",
    "    test_y_pred_quad = spr.predict(quadratic.fit_transform(test_X))\n",
    "    score = linear_model.score(test_X,test_y)\n",
    "    score_list.append(score)\n",
    "print(score_list)"
   ]
  },
  {
   "cell_type": "code",
   "execution_count": null,
   "metadata": {},
   "outputs": [],
   "source": []
  }
 ],
 "metadata": {
  "kernelspec": {
   "display_name": "Python 3",
   "language": "python",
   "name": "python3"
  },
  "language_info": {
   "codemirror_mode": {
    "name": "ipython",
    "version": 3
   },
   "file_extension": ".py",
   "mimetype": "text/x-python",
   "name": "python",
   "nbconvert_exporter": "python",
   "pygments_lexer": "ipython3",
   "version": "3.7.4"
  }
 },
 "nbformat": 4,
 "nbformat_minor": 2
}
